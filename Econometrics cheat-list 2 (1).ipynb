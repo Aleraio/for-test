{
 "cells": [
  {
   "cell_type": "markdown",
   "id": "6a90e71b",
   "metadata": {},
   "source": [
    "Положить все файлы с датасетами и ноутбук в одну папку\n",
    "\n"
   ]
  },
  {
   "cell_type": "code",
   "execution_count": null,
   "id": "711a2474",
   "metadata": {},
   "outputs": [],
   "source": [
    "import pandas as pd\n",
    "import numpy as np\n",
    "import statsmodels.formula.api as smf\n",
    "import statsmodels.api as sm\n",
    "from statsmodels.iolib.summary2 import summary_params # вывод результатов тестирования\n",
    "from scipy.stats import t # t-распределение"
   ]
  },
  {
   "cell_type": "markdown",
   "id": "cadfd650",
   "metadata": {},
   "source": [
    "Загружаем данные\n",
    "можно загрузить из файла, либо по ссылке(pd.read_csv('https://raw.githubusercontent.com/ryupepa/Econometrica/master/python-notebooks/data-csv/sleep75.csv')"
   ]
  },
  {
   "cell_type": "code",
   "execution_count": null,
   "id": "46e96e56",
   "metadata": {},
   "outputs": [],
   "source": [
    "df_sleep = pd.read_csv('sleep75.csv')"
   ]
  },
  {
   "cell_type": "markdown",
   "id": "94b0a15a",
   "metadata": {},
   "source": [
    "Подгоняем модель согласно спецификации\n"
   ]
  },
  {
   "cell_type": "code",
   "execution_count": null,
   "id": "34885155",
   "metadata": {},
   "outputs": [],
   "source": [
    "mod1 = smf.ols(formula='sleep~totwrk+age+south+male+smsa+yngkid+marr+union+np.log(hrwage)', \n",
    "                       data=df_sleep).fit()\n",
    "# Описательные статистики по переменным модели\n",
    "df_sleep[['sleep', 'hrwage', 'smsa', 'totwrk', 'male', 'marr', 'age', 'south', 'yngkid']].describe()"
   ]
  },
  {
   "cell_type": "code",
   "execution_count": null,
   "id": "9669d5dd",
   "metadata": {},
   "outputs": [],
   "source": [
    "# коэффициенты, округленные до 3 знаков после запятой\n",
    "mod1.params.round(3)"
   ]
  },
  {
   "cell_type": "markdown",
   "id": "bad56a16",
   "metadata": {},
   "source": [
    "Интерпретация:\n",
    "    Intercept - свободный коэффициент, обычно не интерпретируется\n",
    "    \n",
    "    sleep~male - при прочих равных(участвующих в регрессии), для male = 1, в среднем, sleep ,больше на коэффициент, чем для male = 0\n",
    "    \n",
    "    sleep~np.log(hrwage) - при увеличение hrwage на 1%, абсолютное значение sleep будет на коэффициент/100 больше\n",
    "    np.log(sleep)~np.log(hrwage) - эластичноть sleep по hrwage при )увеличение hrwage на 1%, значение sleep будет на коэффициент % больше)\n",
    "    sleep~hrwage - при увеличение hrwage на 1, абсолютное значение sleep будет на коэффициент больше\n",
    "    np.log(sleep)~hrwage - при увеличение hrwage на 1, абсолютное значение sleep будет на коэффициент * 100% больше(на сколько рынок оценивает один балл IQ)\n",
    "    \n",
    "    \n",
    "    **возраст и ставки не логарифмируются"
   ]
  },
  {
   "cell_type": "code",
   "execution_count": null,
   "id": "f7735474",
   "metadata": {},
   "outputs": [],
   "source": [
    "# Число наблюдений в модели, число регрессоров и степени свободы для t_cr\n",
    "mod1.nobs, mod1.df_model, mod1.df_resid"
   ]
  },
  {
   "cell_type": "markdown",
   "id": "773171ff",
   "metadata": {},
   "source": [
    "Вывод: наблюдения с пропущенными значениями были удалены при оценивании модели\n",
    "    "
   ]
  },
  {
   "cell_type": "code",
   "execution_count": null,
   "id": "9925111c",
   "metadata": {},
   "outputs": [],
   "source": [
    "# adj R^2\n",
    "mod1.rsquared_adj"
   ]
  },
  {
   "cell_type": "markdown",
   "id": "e26c3239",
   "metadata": {},
   "source": [
    "Не интерпретируется"
   ]
  },
  {
   "cell_type": "code",
   "execution_count": null,
   "id": "b6b0ed42",
   "metadata": {},
   "outputs": [],
   "source": [
    "# R^2\n",
    "mod1.rsquared"
   ]
  },
  {
   "cell_type": "markdown",
   "id": "ec861ed3",
   "metadata": {},
   "source": [
    "    Интерпретация - насколько определенная комбинация переменных X поясняет отклонение Y (зависимой переменной)"
   ]
  },
  {
   "cell_type": "code",
   "execution_count": null,
   "id": "39361498",
   "metadata": {},
   "outputs": [],
   "source": [
    "# TSS - общая сумма квадратов\n",
    "mod1.centered_tss"
   ]
  },
  {
   "cell_type": "code",
   "execution_count": null,
   "id": "19867d83",
   "metadata": {},
   "outputs": [],
   "source": [
    "# ESS - объясненная сумма квадратов\n",
    "mod1.ess"
   ]
  },
  {
   "cell_type": "code",
   "execution_count": null,
   "id": "03785a65",
   "metadata": {},
   "outputs": [],
   "source": [
    "# RSS - остаточная сумма квадратов\n",
    "mod1.ssr"
   ]
  },
  {
   "cell_type": "code",
   "execution_count": null,
   "id": "7ee60e93",
   "metadata": {},
   "outputs": [],
   "source": [
    "# стандартное отклонение регрессии\n",
    "mod1.mse_resid**0.5"
   ]
  },
  {
   "cell_type": "markdown",
   "id": "9d37cc4d",
   "metadata": {},
   "source": [
    "Наблюдения нумеруются  с 0"
   ]
  },
  {
   "cell_type": "markdown",
   "id": "e57f5be5",
   "metadata": {},
   "source": [
    "Как доставать конкретные предсказанные значения и другие штуки для наблюдений"
   ]
  },
  {
   "cell_type": "code",
   "execution_count": null,
   "id": "8257d156",
   "metadata": {},
   "outputs": [],
   "source": [
    "# создаем массив номеров  нужных наблюдений\n",
    "ind = np.array([1, 4, 6, 10, 508, 500])-1"
   ]
  },
  {
   "cell_type": "code",
   "execution_count": null,
   "id": "56bd2bfe",
   "metadata": {},
   "outputs": [],
   "source": [
    "# Предсказанные значения\n",
    "mod1.fittedvalues[ind]"
   ]
  },
  {
   "cell_type": "code",
   "execution_count": null,
   "id": "0154ea6b",
   "metadata": {},
   "outputs": [],
   "source": [
    "# Остатки\n",
    "mod1.resid[ind]"
   ]
  },
  {
   "cell_type": "code",
   "execution_count": null,
   "id": "faf10e18",
   "metadata": {},
   "outputs": [],
   "source": [
    "# Фактические значения\n",
    "df_sleep['sleep'].iloc[ind]"
   ]
  },
  {
   "cell_type": "markdown",
   "id": "9709555d",
   "metadata": {},
   "source": [
    "Фильтрация данных (значение в столбце smsa = 1)"
   ]
  },
  {
   "cell_type": "code",
   "execution_count": null,
   "id": "7b35f30d",
   "metadata": {},
   "outputs": [],
   "source": [
    "# new_df_name = df_name[df_name['smsa'] = 1]"
   ]
  },
  {
   "cell_type": "markdown",
   "id": "b00e8dfc",
   "metadata": {},
   "source": [
    "# Срез 2 \n",
    "\n",
    "1. t-тест: значимость коэффициента и общий случай\n",
    "2. F-тест: значимость регрессии\n",
    "3. F-тест: совместная значимость\n",
    "4. F-тест: общие линейные ограничения \n",
    "5. F-тест: структурные изменения\n",
    "6. Доверительные интервалы\n"
   ]
  },
  {
   "cell_type": "code",
   "execution_count": 11,
   "id": "cf55d67c",
   "metadata": {},
   "outputs": [],
   "source": [
    "import pandas as pd\n",
    "import numpy as np\n",
    "import statsmodels.formula.api as smf\n",
    "import scipy\n",
    "import statsmodels.api as sm\n",
    "from statsmodels.iolib.summary2 import summary_params # вывод результатов тестирования\n",
    "from statsmodels.iolib.summary2 import summary_col # вывод подгонки\n",
    "\n",
    "from scipy.stats import t # t-распределение\n",
    "from scipy.stats import f # F-распределение\n",
    "import seaborn as sns\n",
    "\n",
    "import matplotlib.pyplot as plt\n",
    "import random\n",
    "from pylab import rcParams\n",
    "%matplotlib inline\n",
    "rcParams['figure.figsize'] = 11,7"
   ]
  },
  {
   "cell_type": "markdown",
   "id": "921ab518",
   "metadata": {},
   "source": [
    "## 1.1 t-тест: H0: β=0\n",
    "\n",
    "Тестируем гипотезу о незначимости переменной\n",
    "\n",
    "Тестовая статистика $$t=\\frac{\\hat{\\beta}}{s.e.(\\beta)}$$\n",
    "    \n",
    "Критическое $$t_{cr}=t_{df=n-k-1}(\\alpha)$$\n",
    "\n",
    "Принимаем гипотезу, если $t_{cr}>t_{df=n-k-1}(\\alpha)$ или $P > \\alpha$ \n",
    "\n",
    "иначе отвергаем, и тогда переменная значима\n",
    "\n",
    "\n",
    "Как выбираем уровень значимости $\\alpha$\n",
    "\n",
    "Стандартные значения 10%, 5%, 1%, 0.1% и тд\n",
    "Чем больше датасет, тем меньше берем уровень значимости\n",
    "\n",
    "*** - 0.001 ** - 0.01 * - 0.05 . - 0.1"
   ]
  },
  {
   "cell_type": "code",
   "execution_count": null,
   "id": "600b9d16",
   "metadata": {},
   "outputs": [],
   "source": [
    "# Загрузим данные\n",
    "df_sleep = pd.read_csv('https://raw.githubusercontent.com/artamonoff/Econometrica/master/python-notebooks/data-csv/sleep75.csv')\n",
    "mod1 = smf.ols(formula='sleep~totwrk+age+south+male+smsa+yngkid+marr+union+np.log(hrwage)', \n",
    "                       data=df_sleep).fit()\n",
    "# коэффициенты\n",
    "mod1.params.round(3)"
   ]
  },
  {
   "cell_type": "code",
   "execution_count": null,
   "id": "608f1643",
   "metadata": {},
   "outputs": [],
   "source": [
    "# Число наблюдений в модели, число регрессоров и степени свободы для t_cr\n",
    "mod1.nobs, mod1.df_model, mod1.df_resid\n"
   ]
  },
  {
   "cell_type": "code",
   "execution_count": null,
   "id": "1ff996d8",
   "metadata": {},
   "outputs": [],
   "source": [
    "# 5%-критическое значение t-распределения\n",
    "t.ppf(q=1-0.05/2, df=mod1.df_resid)"
   ]
  },
  {
   "cell_type": "markdown",
   "id": "02a7454f",
   "metadata": {},
   "source": [
    "Тестируем значимость переменных totwrk и male"
   ]
  },
  {
   "cell_type": "code",
   "execution_count": null,
   "id": "b156e3b1",
   "metadata": {},
   "outputs": [],
   "source": [
    "mod1.t_test('totwrk=0, male=0')"
   ]
  },
  {
   "cell_type": "markdown",
   "id": "1809cf19",
   "metadata": {},
   "source": [
    "P-значение  totwrk  < $\\alpha = 0,05$ и |t-статистка| > $t_{cr}$\n",
    "Отвергаем гипотезу о незначимости totwrk и делаем вывод, что при выбранном $\\alpha$ totwrk является значимым \n",
    "\n",
    "Для male ситуация прямопротивоположная"
   ]
  },
  {
   "cell_type": "code",
   "execution_count": null,
   "id": "5933c984",
   "metadata": {},
   "outputs": [],
   "source": [
    "#Смотрим на значимость всех переменных\n",
    "summary_params(mod1)#.round(3)"
   ]
  },
  {
   "cell_type": "code",
   "execution_count": null,
   "id": "9b153e19",
   "metadata": {},
   "outputs": [],
   "source": [
    "# стандартные ошибки s.e.(beta)\n",
    "mod1.bse"
   ]
  },
  {
   "cell_type": "code",
   "execution_count": null,
   "id": "1c4d4dd3",
   "metadata": {},
   "outputs": [],
   "source": [
    "# t-статистики\n",
    "mod1.tvalues"
   ]
  },
  {
   "cell_type": "code",
   "execution_count": null,
   "id": "e56a68a2",
   "metadata": {},
   "outputs": [],
   "source": [
    "# p-values\n",
    "mod1.pvalues.round(3)"
   ]
  },
  {
   "cell_type": "markdown",
   "id": "d3cca21d",
   "metadata": {},
   "source": [
    "Видим, что по значениям p-value в данной регрессии при заданном уровне зачимости в 5% значимы только переменные totwrk и south"
   ]
  },
  {
   "cell_type": "markdown",
   "id": "c911a07f",
   "metadata": {},
   "source": [
    "## 1.2 Общий t-test\n",
    "Тестируем $$H_0:\\beta=\\theta$$ ($\\theta$ - заданное число)\n",
    "   Тестовая статистика $$t=\\frac{\\hat{\\beta}-\\theta}{s.e.(\\beta)}$$\n",
    "    \n",
    "   \n"
   ]
  },
  {
   "cell_type": "code",
   "execution_count": null,
   "id": "e084f76b",
   "metadata": {},
   "outputs": [],
   "source": [
    "# Загрузим данные\n",
    "df_labour = pd.read_csv('https://raw.githubusercontent.com/artamonoff/Econometrica/master/python-notebooks/data-csv/Labour.csv')\n",
    "# Результаты подгонки\n",
    "mod2 = smf.ols(formula='np.log(output)~np.log(capital)+np.log(labour)', data=df_labour).fit()\n",
    "summary_params(mod2) # По дефолту тестирует знаачимость переменной, а не равенство коэффициента чему-то"
   ]
  },
  {
   "cell_type": "markdown",
   "id": "f369577e",
   "metadata": {},
   "source": [
    "Будем проверять гипотезу $H_0: \\beta_{capital} = 0.5$ на уровне значимости $\\alpha = 0.01$"
   ]
  },
  {
   "cell_type": "code",
   "execution_count": null,
   "id": "f70171a3",
   "metadata": {},
   "outputs": [],
   "source": [
    "mod2.t_test('np.log(capital)=0.5')"
   ]
  },
  {
   "cell_type": "code",
   "execution_count": null,
   "id": "a4f05688",
   "metadata": {},
   "outputs": [],
   "source": [
    "# 1%-критическое значение t-распределения\n",
    "t.ppf(q=1-0.01/2, df=mod2.df_resid)"
   ]
  },
  {
   "cell_type": "markdown",
   "id": "42416027",
   "metadata": {},
   "source": [
    "P-значение  < $\\alpha = 0,01$ и |t-статистка| > $t_{cr}$\n",
    "\n",
    "Отвергаем гипотезу и делаем вывод, что при выбранном $\\alpha$ коэффициент перед capital значимо отличаается от 0.5"
   ]
  },
  {
   "cell_type": "markdown",
   "id": "68908b86",
   "metadata": {},
   "source": [
    "## 2. F-test: значимость регрессии"
   ]
  },
  {
   "cell_type": "markdown",
   "id": "23726b70",
   "metadata": {},
   "source": [
    "Тестируется гипотеза (ни один регрессор не является значимым)\n",
    "    $$H_0:\\beta_1=\\cdots=\\beta_k = 0 $$\n",
    "Тестовая статистика (неробастная) $$F = \\frac{R^2}{1 - R^2}\\cdot\\frac{n - k - 1}{k}$$\n",
    "Критическое значение $$F_{cr}=F_{df1 = k, df2 = n - k - 1}(\\alpha)$$\n",
    "Гипотеза отвергается если $F > F_{cr}$ или $P < \\alpha$\n",
    "\n",
    "\n",
    "\n",
    "$R^2$ показывает, насколько регрессия объясняет значения,\n",
    "\n",
    "    если $R^2$ маленький, но влияние выбранных регрессоров значимо, то ок\n",
    "    \n",
    "    если регрессия не значима, то it's trash"
   ]
  },
  {
   "cell_type": "code",
   "execution_count": null,
   "id": "93cb4a92",
   "metadata": {},
   "outputs": [],
   "source": [
    "# загрузим данные\n",
    "sleep_df = pd.read_csv('https://raw.githubusercontent.com/artamonoff/Econometrica/master/python-notebooks/data-csv/sleep75.csv')\n",
    "# подгоним модель\n",
    "mod3 = smf.ols(formula='sleep~totwrk+age+I(age**2)+south+male+smsa+yngkid+marr+union', data=sleep_df).fit()"
   ]
  },
  {
   "cell_type": "markdown",
   "id": "3ac840fb",
   "metadata": {},
   "source": [
    "Результаты F-теста на значимость регрессии (тестовая статистика и P-значение)"
   ]
  },
  {
   "cell_type": "code",
   "execution_count": null,
   "id": "ee15f41b",
   "metadata": {},
   "outputs": [],
   "source": [
    "mod3.fvalue, mod3.f_pvalue"
   ]
  },
  {
   "cell_type": "markdown",
   "id": "33734d8d",
   "metadata": {},
   "source": [
    "5%-критическое значение F-распределения"
   ]
  },
  {
   "cell_type": "code",
   "execution_count": null,
   "id": "cdcfe812",
   "metadata": {},
   "outputs": [],
   "source": [
    "f.ppf(q = 1 - 0.05, dfn = mod3.df_model, dfd = mod3.df_resid)"
   ]
  },
  {
   "cell_type": "markdown",
   "id": "e3c57a66",
   "metadata": {},
   "source": [
    "P-значение  < $\\alpha = 0,05$ и |F-статистка| > $F_{cr}$\n",
    "Отвергаем гипотезу о незначимости регрессии и делаем вывод, что при выбранном $\\alpha$ регрессия является значимой"
   ]
  },
  {
   "cell_type": "code",
   "execution_count": null,
   "id": "81d0c516",
   "metadata": {},
   "outputs": [],
   "source": [
    "# Тестовая статистика по формуле\n",
    "mod3.rsquared/(1-mod3.rsquared)*(mod3.df_resid/mod3.df_model)"
   ]
  },
  {
   "cell_type": "markdown",
   "id": "82524122",
   "metadata": {},
   "source": [
    "Альтернативный способ: явно специфицируем тестируемую гипотезу"
   ]
  },
  {
   "cell_type": "code",
   "execution_count": null,
   "id": "44d82926",
   "metadata": {},
   "outputs": [],
   "source": [
    "print( mod3.f_test('totwrk = 0, age = 0, I(age**2) = 0, south = 0, male = 0, smsa = 0, yngkid = 0, marr = 0, union = 0') )"
   ]
  },
  {
   "cell_type": "markdown",
   "id": "695b9595",
   "metadata": {},
   "source": [
    "## 3. F-тест: совместная значимость"
   ]
  },
  {
   "cell_type": "markdown",
   "id": "7b9a4ff5",
   "metadata": {},
   "source": [
    "Тестируется гипотеза (выбираем, какие значения занулять сами по каким-то своим соображениям)\n",
    "    $$H_0:\\beta_1=\\cdots=\\beta_J=0 $$\n",
    "   Тестовая статистика (неробастная) $$F=\\frac{R^2 - R^2_{restr}}{1 - R^2}\\cdot\\frac{n - k - 1} {J}=\\frac{RSS_{restr} - RSS}{RSS}\\cdot\\frac{n - k - 1}{J}$$\n",
    "    \n",
    "$R^2_{restr}, RSS_{restr}$ – из промежуточной регрессии с ограничениями (нужна доп регрессия для $R^2$ без этих переменных)  \n",
    "$J$ - количество ограничений на коэффициенты\n",
    "    \n",
    "Критическое значение $$F_{cr}=F_{df1=J, df2= n - k - 1}(\\alpha)$$\n",
    "    \n",
    "Гипотеза отвергается если $F > F_{cr}$ или $P < \\alpha$"
   ]
  },
  {
   "cell_type": "markdown",
   "id": "9950a768",
   "metadata": {},
   "source": [
    "### Для датасета sleep75 рассмотрим регрессию sleep на totwrk, age, male, south, smsa, yngkid, marr, union\n",
    "\n",
    "Результаты подгонки"
   ]
  },
  {
   "cell_type": "code",
   "execution_count": null,
   "id": "08acf21a",
   "metadata": {},
   "outputs": [],
   "source": [
    "sleep_df = pd.read_csv('https://raw.githubusercontent.com/artamonoff/Econometrica/master/python-notebooks/data-csv/sleep75.csv')\n",
    "mod4 = smf.ols(formula='sleep~totwrk+age+male+south+smsa+yngkid+marr+union', data=sleep_df).fit()\n",
    "summary_col(mod4, stars=True)"
   ]
  },
  {
   "cell_type": "markdown",
   "id": "7f604c4e",
   "metadata": {},
   "source": [
    "Потестируем совместную значимость `smsa, yngkid, marr, union`, т.е. гипотезу\n",
    "   $$H_0:\\beta_{smsa} = \\beta_{yngkid} = \\beta_{marr} = \\beta_{union} = 0$$\n",
    "   Критическое значений: df1 = 4, df2 = n - k - 1"
   ]
  },
  {
   "cell_type": "code",
   "execution_count": null,
   "id": "8363ea30",
   "metadata": {},
   "outputs": [],
   "source": [
    "f.ppf(q=1-0.05, dfn=4, dfd=mod4.df_resid)"
   ]
  },
  {
   "cell_type": "markdown",
   "id": "99c781d7",
   "metadata": {},
   "source": [
    "### Первый способ: через спецификацию гипотезы"
   ]
  },
  {
   "cell_type": "code",
   "execution_count": null,
   "id": "c12202cc",
   "metadata": {},
   "outputs": [],
   "source": [
    "# F-статистика, p-value, df2, df1\n",
    "print( mod4.f_test('smsa=yngkid=marr=union=0') )\n",
    "print( mod4.wald_test('smsa=yngkid=marr=union=0', use_f=True) )"
   ]
  },
  {
   "cell_type": "markdown",
   "id": "0d8d3259",
   "metadata": {},
   "source": [
    "### Второй способ: через вспомогательную регрессию с ограничениями"
   ]
  },
  {
   "cell_type": "code",
   "execution_count": null,
   "id": "97d03c03",
   "metadata": {},
   "outputs": [],
   "source": [
    "# F-статистика, p-value, df1\n",
    "mod4_restr = smf.ols(formula='sleep~totwrk+age+male+south', data=sleep_df).fit()\n",
    "mod4.compare_f_test(mod4_restr)"
   ]
  },
  {
   "cell_type": "markdown",
   "id": "431104b9",
   "metadata": {},
   "source": [
    "### Явное вычисление\n"
   ]
  },
  {
   "cell_type": "code",
   "execution_count": null,
   "id": "a0d49039",
   "metadata": {},
   "outputs": [],
   "source": [
    "(mod4.rsquared - mod4_restr.rsquared) / (1 - mod4.rsquared) * mod4.df_resid / 4"
   ]
  },
  {
   "cell_type": "code",
   "execution_count": null,
   "id": "ea0eda67",
   "metadata": {},
   "outputs": [],
   "source": [
    "(mod4_restr.ssr - mod4.ssr) / mod4.ssr * mod4.df_resid / 4"
   ]
  },
  {
   "cell_type": "markdown",
   "id": "c4de4dab",
   "metadata": {},
   "source": [
    "## 4. F-тест: Линейные ограничения"
   ]
  },
  {
   "cell_type": "markdown",
   "id": "c8fc045f",
   "metadata": {},
   "source": [
    "Тестируется гипотеза о линейных ограничения на коэффициенты **(в матричной форме)**\n",
    "    $$H_0: R\\beta = q$$\n",
    "Тестовая статистика (неробастная) $$F=\\frac{1}{J}(R\\hat{\\beta} - q)^\\top(R\\hat{V}R^\\top)^{-1} (R\\hat{\\beta} - q)\\quad \\hat{V} = s^2(X^\\top X)^{-1}$$\n",
    "    \n",
    "Критическое значения ($J$ – число независимых ограничений) $$F_{cr} = F_{df1 = J, df2 = n - k - 1}(\\alpha)$$\n",
    "\n",
    "Гипотеза отвергается если $F > F_{cr}$ или $P < \\alpha$\""
   ]
  },
  {
   "cell_type": "markdown",
   "id": "2d96eb4d",
   "metadata": {},
   "source": [
    "Для набора данных `Labour` рассмотрим линейную регрессию **log(output) на log(capital), log(labour), log(wage)**\n",
    "    \n",
    "Вектор коэффициентов для этой модели $$beta=\\begin{pmatrix} const & \\beta_{capital} & \\beta_{labour} & \\beta_{wage} \\end{pmatrix}^\\top$$\n",
    "\n",
    "Результаты подгонки"
   ]
  },
  {
   "cell_type": "code",
   "execution_count": null,
   "id": "8cb1c7e0",
   "metadata": {},
   "outputs": [],
   "source": [
    "labour_df = pd.read_csv('https://raw.githubusercontent.com/artamonoff/Econometrica/master/python-notebooks/data-csv/Labour.csv')\n",
    "mod = smf.ols(formula='np.log(output)~np.log(capital)+np.log(labour)+np.log(wage)', data=labour_df).fit()\n",
    "mod.summary()"
   ]
  },
  {
   "cell_type": "markdown",
   "id": "4fee900c",
   "metadata": {},
   "source": [
    "### Гипотеза 1\n",
    "Тестируем $H_0:\\beta_{capital} + \\beta_{labour} + \\beta_{wage} = 1$"
   ]
  },
  {
   "cell_type": "code",
   "execution_count": null,
   "id": "d3ab40b8",
   "metadata": {},
   "outputs": [],
   "source": [
    "# F-статистика, p-value, df2, df1\n",
    "print( mod.f_test('np.log(capital)+np.log(labour)+np.log(wage)=1') )\n"
   ]
  },
  {
   "cell_type": "code",
   "execution_count": null,
   "id": "21bdb412",
   "metadata": {},
   "outputs": [],
   "source": [
    "# критическое значение\n",
    "f.ppf(q=1-0.05, dfn=1, dfd=mod.df_resid)"
   ]
  },
  {
   "cell_type": "markdown",
   "id": "32f14e77",
   "metadata": {},
   "source": [
    "*Техничеcкие подробности*: Запишем ограничение в матричном виде $R\\beta = q$ как систему линейных уравнений. Имеем\n",
    "\n",
    "   \\begin{align}\n",
    "       R&=\\begin{pmatrix} 0 & 1 & 1 & 1 \\end{pmatrix}&  q&=1\n",
    "    \\end{align}"
   ]
  },
  {
   "cell_type": "code",
   "execution_count": null,
   "id": "fb7002b4",
   "metadata": {},
   "outputs": [],
   "source": [
    " print( mod.f_test( r_matrix=([0, 1, 1, 1], 1) ) )"
   ]
  },
  {
   "cell_type": "markdown",
   "id": "b9f1e6c5",
   "metadata": {},
   "source": [
    "### Гипотеза 2\n",
    "Тестируем $H_0:\\beta_{labour}=\\beta_{wage}$\n",
    "\n",
    "Альтернативная запись $H_0:\\beta_{labour} - \\beta_{wage} = 0$\""
   ]
  },
  {
   "cell_type": "code",
   "execution_count": null,
   "id": "e9c9df56",
   "metadata": {},
   "outputs": [],
   "source": [
    "# F-статистика, p-value, df2, df1\n",
    "print( mod.f_test('np.log(labour)=np.log(wage)') )"
   ]
  },
  {
   "cell_type": "code",
   "execution_count": null,
   "id": "b431451c",
   "metadata": {},
   "outputs": [],
   "source": [
    "# критическое значение\n",
    "f.ppf(q=1-0.05, dfn=1, dfd=mod.df_resid)"
   ]
  },
  {
   "cell_type": "markdown",
   "id": "05b8dde7",
   "metadata": {},
   "source": [
    "*Техничеcкие подробности*: Запишем ограничение в матричном виде $R\\beta = q$ как систему линейных уравнений. Имеем\n",
    "\n",
    "   \\begin{align}\n",
    "       R&=\\begin{pmatrix} 0 & 0 & 1 & -1 \\end{pmatrix}&  q&=0\n",
    "    \\end{align}"
   ]
  },
  {
   "cell_type": "code",
   "execution_count": null,
   "id": "0c1acfcf",
   "metadata": {},
   "outputs": [],
   "source": [
    " print( mod.f_test( r_matrix=([0, 0, 1, -1], 0) ) )"
   ]
  },
  {
   "cell_type": "markdown",
   "id": "e0f77837",
   "metadata": {},
   "source": [
    "## 5. F-тест: Структурные изменения"
   ]
  },
  {
   "cell_type": "markdown",
   "id": "9e1589d9",
   "metadata": {},
   "source": [
    "Рассмотрим регрессию **sleep/60 на totwrk, age, age^2, south, smsa, marr**\n",
    "\n",
    "* для М $sleep/60=\\beta_0 + \\beta_1totwrk + \\beta_2age + \\beta_3age^2 + \\beta_4south + \\beta_5smsa + \\beta_6marr + u$\n",
    "    \n",
    "* для Ж $sleep/60 = \\gamma_0 + \\gamma_1totwrk + \\gamma_2age + \\gamma_3age^2 + \\gamma_4south + \\gamma_5smsa + \\gamma_6marr + v$\n",
    "    \n",
    "Будем тестировать $H_0: \\beta_j = \\gamma_j$ (всего $k + 1$ ограничение)\n",
    "    \n",
    "Уровень значимости $\\alpha = 0.01$\n",
    "    \n",
    "Для тестовой статистики подговим модель\n",
    "* только по М\n",
    "* только по Ж\n",
    "* по полному датасету\n",
    "    \n",
    "Результаты подгонки"
   ]
  },
  {
   "cell_type": "code",
   "execution_count": null,
   "id": "f86b09a3",
   "metadata": {},
   "outputs": [],
   "source": [
    "sleep_df = pd.read_csv('https://raw.githubusercontent.com/artamonoff/Econometrica/master/python-notebooks/data-csv/sleep75.csv')\n",
    "specification = 'I(sleep/60)~totwrk+age+I(age**2)+south+smsa+marr'\n",
    "# подгонка по полному датасету\n",
    "mod_overall = smf.ols(formula=specification, data=sleep_df).fit()\n",
    "# подгонка только по М\n",
    "mod_men_only = smf.ols(formula=specification, data=sleep_df[ sleep_df['male']==1 ]).fit()\n",
    "# подгонка только по Ж\n",
    "mod_women_only = smf.ols(formula=specification, data=sleep_df[ sleep_df['male']==0 ]).fit()\n",
    "# Вывод трёх регрессий в одной таблице\n",
    "summary_col(results=[mod_men_only, mod_women_only, mod_overall], stars=True, model_names=['муж', 'жен', 'Общая'],\n",
    "           info_dict={'N': lambda x: x.nobs, 'F-stat': lambda x: x.fvalue})"
   ]
  },
  {
   "cell_type": "code",
   "execution_count": null,
   "id": "b47091fd",
   "metadata": {},
   "outputs": [],
   "source": [
    "# Ингредиенты тестовой статистики\n",
    "print('RSS (overall) =', mod_overall.ssr)\n",
    "print('RSS (men_only) =', mod_men_only.ssr)\n",
    "print('RSS (women_only) =', mod_women_only.ssr)\n",
    "print('n =', mod_overall.nobs)\n",
    "print('k =', mod_overall.df_model)"
   ]
  },
  {
   "cell_type": "markdown",
   "id": "e4b21086",
   "metadata": {},
   "source": [
    "Тестовая статистика $$F=\\frac{RSS_{overall} - RSS_{men} - RSS_{women}}{RSS_{men} + RSS_{women}}*\\frac{n - 2(k + 1)}{k + 1}$$\n",
    "\n",
    "Критическое значение $$F_{cr}=F_{df1 = k + 1, df2 = n - 2(k + 1)}(\\alpha)$$"
   ]
  },
  {
   "cell_type": "code",
   "execution_count": null,
   "id": "91ef3e85",
   "metadata": {},
   "outputs": [],
   "source": [
    "#F-статистика, F критическое\n",
    "F = (mod_overall.ssr - mod_men_only.ssr - mod_women_only.ssr) / (mod_men_only.ssr + mod_women_only.ssr) * (mod_overall.nobs - 2 * (mod_overall.df_model + 1)) / (mod_overall.df_model + 1)\n",
    "F_cr = f.ppf(q =  1 - 0.01, dfn = mod_overall.df_model + 1, dfd = mod_overall.nobs - 2 * (mod_overall.df_model + 1))\n",
    "F, F_cr"
   ]
  },
  {
   "cell_type": "markdown",
   "id": "8113d710",
   "metadata": {},
   "source": [
    "|F-статистка| < $F_{cr}$\n",
    "Принимаем гипотезу о том, что коэффициенты перед регрессорами **totwrk, age, age^2, south, smsa, marr** для Ж и М одинаковы при выбранном $\\alpha$\n",
    "\n",
    "структурных сдвигов отдачи от **totwrk, age, age^2, south, smsa, marr** относительно гендерной переменной не наблюдается"
   ]
  },
  {
   "cell_type": "code",
   "execution_count": null,
   "id": "92603224",
   "metadata": {},
   "outputs": [],
   "source": [
    "#линейнаая функция\n",
    "sns.lmplot(data=sleep_df, x='totwrk', y='sleep', hue='male', ci=False, markers='.')"
   ]
  },
  {
   "cell_type": "code",
   "execution_count": null,
   "id": "a5949b69",
   "metadata": {},
   "outputs": [],
   "source": [
    "#квадратичный многочлен\n",
    "sns.lmplot(data=sleep_df, x='age', y='sleep', hue='male', ci=False, markers='.', order=2)"
   ]
  },
  {
   "cell_type": "markdown",
   "id": "c80a4e01",
   "metadata": {},
   "source": [
    "## 6. Доверительные интервалы"
   ]
  },
  {
   "cell_type": "markdown",
   "id": "6d405404",
   "metadata": {},
   "source": [
    "Пусть $\\gamma$ – доверительная вероятность и $t_{cr} = t_{df = n - k - 1}(\\alpha = 1 - \\gamma)$\n",
    "\n",
    "Доверительный интервал для коэффициента $\\beta$:\n",
    "$$\\left(\\hat{\\beta} - t_{cr}\\cdot s.e.(\\beta)\\, ,\\, \\hat{\\beta} + t_{cr}\\cdot s.e.(\\beta)\\right)$$"
   ]
  },
  {
   "cell_type": "markdown",
   "id": "3012f51a",
   "metadata": {},
   "source": [
    "Для набора данных `Labour` рассмотрим регрессию **log(output) на log(capital) и log(labour)**"
   ]
  },
  {
   "cell_type": "code",
   "execution_count": null,
   "id": "205e8805",
   "metadata": {},
   "outputs": [],
   "source": [
    "labour_df = pd.read_csv('https://raw.githubusercontent.com/artamonoff/Econometrica/master/python-notebooks/data-csv/Labour.csv')\n",
    "mod5 = smf.ols(formula='np.log(output)~np.log(capital)+np.log(labour)', data=labour_df).fit()\n",
    "mod5.summary()"
   ]
  },
  {
   "cell_type": "markdown",
   "id": "899bed04",
   "metadata": {},
   "source": [
    "Построим 95%-доверительные интервалы для каждого коэффициента ($\\gamma = 0.95$, $\\alpha = 0.05$)"
   ]
  },
  {
   "cell_type": "code",
   "execution_count": null,
   "id": "80189409",
   "metadata": {},
   "outputs": [],
   "source": [
    "mod5.conf_int(alpha = 0.05)"
   ]
  },
  {
   "cell_type": "code",
   "execution_count": null,
   "id": "cc8f2ec7",
   "metadata": {},
   "outputs": [],
   "source": [
    "# ручное построение c.i.\n",
    "t_cr = t.ppf(q=1-0.05/2, df=mod5.df_resid)\n",
    "mod5.params-mod5.bse*t_cr, mod5.params+mod5.bse*t_cr"
   ]
  },
  {
   "cell_type": "markdown",
   "id": "7c410f7a",
   "metadata": {},
   "source": [
    "Построим 90%-доверительные интервалы для каждого коэффициента ($\\gamma = 0.90$, $\\alpha = 0.10$)"
   ]
  },
  {
   "cell_type": "code",
   "execution_count": null,
   "id": "7a2fc7c6",
   "metadata": {},
   "outputs": [],
   "source": [
    "mod5.conf_int(alpha = 0.1)"
   ]
  },
  {
   "cell_type": "markdown",
   "id": "4a1b645d",
   "metadata": {},
   "source": [
    "### Создадим набор случайных чисел из миллиона элементов"
   ]
  },
  {
   "cell_type": "code",
   "execution_count": 12,
   "id": "9481c394",
   "metadata": {},
   "outputs": [],
   "source": [
    "N = 10000000 #Создадим случайные массив чисел \n",
    "x = np.random.randint(-100, 100, N) # Значения для игра выбереме случайным образом."
   ]
  },
  {
   "cell_type": "markdown",
   "id": "481668d8",
   "metadata": {},
   "source": [
    " Создадим выборку из 50-ти элементов для 50-ти интервалов."
   ]
  },
  {
   "cell_type": "code",
   "execution_count": 13,
   "id": "6ca58877",
   "metadata": {},
   "outputs": [],
   "source": [
    "lv =50 # размер выборки\n",
    "vyborki = []\n",
    "means_val = []\n",
    "stan_err = []\n",
    "for i in range(0, lv):\n",
    "    vyborki.append(random.choices(x, k=lv))"
   ]
  },
  {
   "cell_type": "markdown",
   "id": "52719ad5",
   "metadata": {},
   "source": [
    " Для каждого из интервалов найдём его среднее значение и исправленную выборчную дисперсию"
   ]
  },
  {
   "cell_type": "code",
   "execution_count": 14,
   "id": "f9fbe0e4",
   "metadata": {},
   "outputs": [],
   "source": [
    "T = t.ppf(0.975,lv-1) # Из таблицы Стьюдента берем значение\n",
    "for item in vyborki:\n",
    "    means_val.append(np.mean(item)) # Для каждого интервала находим среднее значение\n",
    "    stan_err.append(np.sqrt(np.var(item, ddof=1))/np.sqrt(lv)) # Для каждого интервала находим среднее выборочное отклонение"
   ]
  },
  {
   "cell_type": "markdown",
   "id": "c5c3436b",
   "metadata": {},
   "source": [
    " Отобразим доверительные интервалы"
   ]
  },
  {
   "cell_type": "code",
   "execution_count": 16,
   "id": "27e14e18",
   "metadata": {},
   "outputs": [
    {
     "data": {
      "image/png": "[encoded data removed]",
      "text/plain": [
       "<Figure size 792x504 with 1 Axes>"
      ]
     },
     "metadata": {
      "needs_background": "light"
     },
     "output_type": "display_data"
    }
   ],
   "source": [
    "fig, ax = plt.subplots()\n",
    "legends = ['Mean value']\n",
    "for j in range(0, lv):\n",
    "    ax.hlines(j,means_val[j] - T * stan_err[j],  means_val[j] + T * stan_err[j], color='blue', linestyles='-') \n",
    "ax.axvline(x=np.mean(x), color='red',label='Mean value' )\n",
    "ax.legend()\n",
    "plt.show()"
   ]
  },
  {
   "cell_type": "markdown",
   "id": "f6cf0023",
   "metadata": {},
   "source": [
    "* Три интервала из 50ти не пересекаются с средним значением генеральной выборки. Другими словами, 5% интервалов не содержат истинное значение среднего значение генеральной выборки.*"
   ]
  },
  {
   "cell_type": "code",
   "execution_count": null,
   "id": "57c03b03",
   "metadata": {},
   "outputs": [],
   "source": []
  }
 ],
 "metadata": {
  "kernelspec": {
   "display_name": "Python 3 (ipykernel)",
   "language": "python",
   "name": "python3"
  },
  "language_info": {
   "codemirror_mode": {
    "name": "ipython",
    "version": 3
   },
   "file_extension": ".py",
   "mimetype": "text/x-python",
   "name": "python",
   "nbconvert_exporter": "python",
   "pygments_lexer": "ipython3",
   "version": "3.9.7"
  }
 },
 "nbformat": 4,
 "nbformat_minor": 5
}

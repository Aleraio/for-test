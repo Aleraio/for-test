{
 "cells": [
  {
   "cell_type": "markdown",
   "id": "2d8f46d4",
   "metadata": {},
   "source": [
    "# Задание №1.1"
   ]
  },
  {
   "cell_type": "markdown",
   "id": "a3fe90a4",
   "metadata": {},
   "source": [
    "#### подгружаем все инструменты"
   ]
  },
  {
   "cell_type": "code",
   "execution_count": 2,
   "id": "c04c07f1",
   "metadata": {},
   "outputs": [],
   "source": [
    "import pandas as pd\n",
    "import numpy as np\n",
    "import statsmodels.formula.api as smf\n",
    "import statsmodels.api as sm\n",
    "from statsmodels.iolib.summary2 import summary_col # вывод подгонки\n",
    "from scipy.stats import t # t-распределение"
   ]
  },
  {
   "cell_type": "markdown",
   "id": "19acb81f",
   "metadata": {},
   "source": [
    "#### подгоняем регрессию"
   ]
  },
  {
   "cell_type": "code",
   "execution_count": 6,
   "id": "64bcd840",
   "metadata": {},
   "outputs": [
    {
     "data": {
      "text/html": [
       "<table class=\"simpletable\">\n",
       "<caption>OLS Regression Results</caption>\n",
       "<tr>\n",
       "  <th>Dep. Variable:</th>      <td>sleep</td>   <th>  R-squared:         </th> <td>   0.131</td>\n",
       "</tr>\n",
       "<tr>\n",
       "  <th>Model:</th>               <td>OLS</td>    <th>  Adj. R-squared:    </th> <td>   0.123</td>\n",
       "</tr>\n",
       "<tr>\n",
       "  <th>No. Observations:</th>  <td>   706</td>   <th>  F-statistic:       </th> <td>   15.06</td>\n",
       "</tr>\n",
       "<tr>\n",
       "  <th>Covariance Type:</th>  <td>nonrobust</td> <th>  Prob (F-statistic):</th> <td>2.14e-18</td>\n",
       "</tr>\n",
       "</table>\n",
       "<table class=\"simpletable\">\n",
       "<tr>\n",
       "      <td></td>         <th>coef</th>     <th>std err</th>      <th>t</th>      <th>P>|t|</th>  <th>[0.025</th>    <th>0.975]</th>  \n",
       "</tr>\n",
       "<tr>\n",
       "  <th>Intercept</th> <td> 3450.9128</td> <td>   80.726</td> <td>   42.748</td> <td> 0.000</td> <td> 3292.418</td> <td> 3609.408</td>\n",
       "</tr>\n",
       "<tr>\n",
       "  <th>totwrk</th>    <td>   -0.1692</td> <td>    0.018</td> <td>   -9.372</td> <td> 0.000</td> <td>   -0.205</td> <td>   -0.134</td>\n",
       "</tr>\n",
       "<tr>\n",
       "  <th>age</th>       <td>    2.6891</td> <td>    1.469</td> <td>    1.830</td> <td> 0.068</td> <td>   -0.195</td> <td>    5.574</td>\n",
       "</tr>\n",
       "<tr>\n",
       "  <th>south</th>     <td>  101.5685</td> <td>   41.837</td> <td>    2.428</td> <td> 0.015</td> <td>   19.427</td> <td>  183.710</td>\n",
       "</tr>\n",
       "<tr>\n",
       "  <th>male</th>      <td>   87.6690</td> <td>   35.104</td> <td>    2.497</td> <td> 0.013</td> <td>   18.747</td> <td>  156.591</td>\n",
       "</tr>\n",
       "<tr>\n",
       "  <th>smsa</th>      <td>  -54.7476</td> <td>   33.123</td> <td>   -1.653</td> <td> 0.099</td> <td> -119.780</td> <td>   10.285</td>\n",
       "</tr>\n",
       "<tr>\n",
       "  <th>yngkid</th>    <td>  -13.9624</td> <td>   50.341</td> <td>   -0.277</td> <td> 0.782</td> <td> -112.801</td> <td>   84.876</td>\n",
       "</tr>\n",
       "<tr>\n",
       "  <th>marr</th>      <td>   31.2106</td> <td>   42.233</td> <td>    0.739</td> <td> 0.460</td> <td>  -51.709</td> <td>  114.130</td>\n",
       "</tr>\n",
       "</table><br/><br/>Notes:<br/>[1] Standard Errors assume that the covariance matrix of the errors is correctly specified.<br/>[2] The condition number is large, 1.26e+04. This might indicate that there are<br/>strong multicollinearity or other numerical problems."
      ],
      "text/plain": [
       "<class 'statsmodels.iolib.summary.Summary'>\n",
       "\"\"\"\n",
       "                            OLS Regression Results                            \n",
       "==============================================================================\n",
       "Dep. Variable:                  sleep   R-squared:                       0.131\n",
       "Model:                            OLS   Adj. R-squared:                  0.123\n",
       "No. Observations:                 706   F-statistic:                     15.06\n",
       "Covariance Type:            nonrobust   Prob (F-statistic):           2.14e-18\n",
       "==============================================================================\n",
       "                 coef    std err          t      P>|t|      [0.025      0.975]\n",
       "------------------------------------------------------------------------------\n",
       "Intercept   3450.9128     80.726     42.748      0.000    3292.418    3609.408\n",
       "totwrk        -0.1692      0.018     -9.372      0.000      -0.205      -0.134\n",
       "age            2.6891      1.469      1.830      0.068      -0.195       5.574\n",
       "south        101.5685     41.837      2.428      0.015      19.427     183.710\n",
       "male          87.6690     35.104      2.497      0.013      18.747     156.591\n",
       "smsa         -54.7476     33.123     -1.653      0.099    -119.780      10.285\n",
       "yngkid       -13.9624     50.341     -0.277      0.782    -112.801      84.876\n",
       "marr          31.2106     42.233      0.739      0.460     -51.709     114.130\n",
       "==============================================================================\n",
       "\n",
       "Notes:\n",
       "[1] Standard Errors assume that the covariance matrix of the errors is correctly specified.\n",
       "[2] The condition number is large, 1.26e+04. This might indicate that there are\n",
       "strong multicollinearity or other numerical problems.\n",
       "\"\"\""
      ]
     },
     "execution_count": 6,
     "metadata": {},
     "output_type": "execute_result"
    }
   ],
   "source": [
    "sleep_df = pd.read_csv('https://raw.githubusercontent.com/artamonoff/Econometrica/master/python-notebooks/data-csv/sleep75.csv')\n",
    "mod = smf.ols(formula='sleep~totwrk+age+south+male+smsa+yngkid+marr', data=sleep_df).fit()\n",
    "mod.summary(slim=True)"
   ]
  },
  {
   "cell_type": "markdown",
   "id": "cf486cb4",
   "metadata": {},
   "source": [
    "#### Построим 90%-доверительные интервалы для каждого коэффициента ($\\gamma=0.90$, $\\alpha=0.1$)"
   ]
  },
  {
   "cell_type": "code",
   "execution_count": 9,
   "id": "eff4b031",
   "metadata": {},
   "outputs": [
    {
     "data": {
      "text/html": [
       "<div>\n",
       "<style scoped>\n",
       "    .dataframe tbody tr th:only-of-type {\n",
       "        vertical-align: middle;\n",
       "    }\n",
       "\n",
       "    .dataframe tbody tr th {\n",
       "        vertical-align: top;\n",
       "    }\n",
       "\n",
       "    .dataframe thead th {\n",
       "        text-align: right;\n",
       "    }\n",
       "</style>\n",
       "<table border=\"1\" class=\"dataframe\">\n",
       "  <thead>\n",
       "    <tr style=\"text-align: right;\">\n",
       "      <th></th>\n",
       "      <th>0</th>\n",
       "      <th>1</th>\n",
       "    </tr>\n",
       "  </thead>\n",
       "  <tbody>\n",
       "    <tr>\n",
       "      <th>Intercept</th>\n",
       "      <td>3317.95</td>\n",
       "      <td>3583.87</td>\n",
       "    </tr>\n",
       "    <tr>\n",
       "      <th>totwrk</th>\n",
       "      <td>-0.20</td>\n",
       "      <td>-0.14</td>\n",
       "    </tr>\n",
       "    <tr>\n",
       "      <th>age</th>\n",
       "      <td>0.27</td>\n",
       "      <td>5.11</td>\n",
       "    </tr>\n",
       "    <tr>\n",
       "      <th>south</th>\n",
       "      <td>32.66</td>\n",
       "      <td>170.48</td>\n",
       "    </tr>\n",
       "    <tr>\n",
       "      <th>male</th>\n",
       "      <td>29.85</td>\n",
       "      <td>145.49</td>\n",
       "    </tr>\n",
       "    <tr>\n",
       "      <th>smsa</th>\n",
       "      <td>-109.30</td>\n",
       "      <td>-0.19</td>\n",
       "    </tr>\n",
       "    <tr>\n",
       "      <th>yngkid</th>\n",
       "      <td>-96.88</td>\n",
       "      <td>68.95</td>\n",
       "    </tr>\n",
       "    <tr>\n",
       "      <th>marr</th>\n",
       "      <td>-38.35</td>\n",
       "      <td>100.77</td>\n",
       "    </tr>\n",
       "  </tbody>\n",
       "</table>\n",
       "</div>"
      ],
      "text/plain": [
       "                 0        1\n",
       "Intercept  3317.95  3583.87\n",
       "totwrk       -0.20    -0.14\n",
       "age           0.27     5.11\n",
       "south        32.66   170.48\n",
       "male         29.85   145.49\n",
       "smsa       -109.30    -0.19\n",
       "yngkid      -96.88    68.95\n",
       "marr        -38.35   100.77"
      ]
     },
     "execution_count": 9,
     "metadata": {},
     "output_type": "execute_result"
    }
   ],
   "source": [
    "mod.conf_int(alpha=0.1).round(2)"
   ]
  },
  {
   "cell_type": "markdown",
   "id": "1f480a38",
   "metadata": {},
   "source": [
    "# Задание №1.2"
   ]
  },
  {
   "cell_type": "code",
   "execution_count": 10,
   "id": "d2183df7",
   "metadata": {},
   "outputs": [
    {
     "data": {
      "text/html": [
       "<table class=\"simpletable\">\n",
       "<caption>OLS Regression Results</caption>\n",
       "<tr>\n",
       "  <th>Dep. Variable:</th>    <td>np.log(output)</td> <th>  R-squared:         </th> <td>   0.838</td> \n",
       "</tr>\n",
       "<tr>\n",
       "  <th>Model:</th>                  <td>OLS</td>      <th>  Adj. R-squared:    </th> <td>   0.837</td> \n",
       "</tr>\n",
       "<tr>\n",
       "  <th>No. Observations:</th>     <td>   569</td>     <th>  F-statistic:       </th> <td>   1462.</td> \n",
       "</tr>\n",
       "<tr>\n",
       "  <th>Covariance Type:</th>     <td>nonrobust</td>   <th>  Prob (F-statistic):</th> <td>2.64e-224</td>\n",
       "</tr>\n",
       "</table>\n",
       "<table class=\"simpletable\">\n",
       "<tr>\n",
       "         <td></td>            <th>coef</th>     <th>std err</th>      <th>t</th>      <th>P>|t|</th>  <th>[0.025</th>    <th>0.975]</th>  \n",
       "</tr>\n",
       "<tr>\n",
       "  <th>Intercept</th>       <td>   -1.7115</td> <td>    0.097</td> <td>  -17.697</td> <td> 0.000</td> <td>   -1.901</td> <td>   -1.522</td>\n",
       "</tr>\n",
       "<tr>\n",
       "  <th>np.log(capital)</th> <td>    0.2076</td> <td>    0.017</td> <td>   12.077</td> <td> 0.000</td> <td>    0.174</td> <td>    0.241</td>\n",
       "</tr>\n",
       "<tr>\n",
       "  <th>np.log(labour)</th>  <td>    0.7148</td> <td>    0.023</td> <td>   30.890</td> <td> 0.000</td> <td>    0.669</td> <td>    0.760</td>\n",
       "</tr>\n",
       "</table><br/><br/>Notes:<br/>[1] Standard Errors assume that the covariance matrix of the errors is correctly specified."
      ],
      "text/plain": [
       "<class 'statsmodels.iolib.summary.Summary'>\n",
       "\"\"\"\n",
       "                            OLS Regression Results                            \n",
       "==============================================================================\n",
       "Dep. Variable:         np.log(output)   R-squared:                       0.838\n",
       "Model:                            OLS   Adj. R-squared:                  0.837\n",
       "No. Observations:                 569   F-statistic:                     1462.\n",
       "Covariance Type:            nonrobust   Prob (F-statistic):          2.64e-224\n",
       "===================================================================================\n",
       "                      coef    std err          t      P>|t|      [0.025      0.975]\n",
       "-----------------------------------------------------------------------------------\n",
       "Intercept          -1.7115      0.097    -17.697      0.000      -1.901      -1.522\n",
       "np.log(capital)     0.2076      0.017     12.077      0.000       0.174       0.241\n",
       "np.log(labour)      0.7148      0.023     30.890      0.000       0.669       0.760\n",
       "===================================================================================\n",
       "\n",
       "Notes:\n",
       "[1] Standard Errors assume that the covariance matrix of the errors is correctly specified.\n",
       "\"\"\""
      ]
     },
     "execution_count": 10,
     "metadata": {},
     "output_type": "execute_result"
    }
   ],
   "source": [
    "labour_df = pd.read_csv('https://raw.githubusercontent.com/artamonoff/Econometrica/master/python-notebooks/data-csv/Labour.csv')\n",
    "mod = smf.ols(formula='np.log(output)~np.log(capital)+np.log(labour)', data=labour_df).fit()\n",
    "mod.summary(slim=True)"
   ]
  },
  {
   "cell_type": "markdown",
   "id": "4f9db45b",
   "metadata": {},
   "source": [
    "Построим 95%-доверительные интервалы для каждого коэффициента ($\\gamma=0.95$, $\\alpha=0.05$)"
   ]
  },
  {
   "cell_type": "code",
   "execution_count": 13,
   "id": "7bce1d20",
   "metadata": {},
   "outputs": [
    {
     "data": {
      "text/html": [
       "<div>\n",
       "<style scoped>\n",
       "    .dataframe tbody tr th:only-of-type {\n",
       "        vertical-align: middle;\n",
       "    }\n",
       "\n",
       "    .dataframe tbody tr th {\n",
       "        vertical-align: top;\n",
       "    }\n",
       "\n",
       "    .dataframe thead th {\n",
       "        text-align: right;\n",
       "    }\n",
       "</style>\n",
       "<table border=\"1\" class=\"dataframe\">\n",
       "  <thead>\n",
       "    <tr style=\"text-align: right;\">\n",
       "      <th></th>\n",
       "      <th>0</th>\n",
       "      <th>1</th>\n",
       "    </tr>\n",
       "  </thead>\n",
       "  <tbody>\n",
       "    <tr>\n",
       "      <th>Intercept</th>\n",
       "      <td>-1.90</td>\n",
       "      <td>-1.52</td>\n",
       "    </tr>\n",
       "    <tr>\n",
       "      <th>np.log(capital)</th>\n",
       "      <td>0.17</td>\n",
       "      <td>0.24</td>\n",
       "    </tr>\n",
       "    <tr>\n",
       "      <th>np.log(labour)</th>\n",
       "      <td>0.67</td>\n",
       "      <td>0.76</td>\n",
       "    </tr>\n",
       "  </tbody>\n",
       "</table>\n",
       "</div>"
      ],
      "text/plain": [
       "                    0     1\n",
       "Intercept       -1.90 -1.52\n",
       "np.log(capital)  0.17  0.24\n",
       "np.log(labour)   0.67  0.76"
      ]
     },
     "execution_count": 13,
     "metadata": {},
     "output_type": "execute_result"
    }
   ],
   "source": [
    "mod.conf_int(alpha=0.05).round(2)"
   ]
  },
  {
   "cell_type": "markdown",
   "id": "961caec3",
   "metadata": {},
   "source": [
    "# Задание №1.3"
   ]
  },
  {
   "cell_type": "code",
   "execution_count": 14,
   "id": "df6ae98d",
   "metadata": {},
   "outputs": [
    {
     "data": {
      "text/html": [
       "<table class=\"simpletable\">\n",
       "<caption>OLS Regression Results</caption>\n",
       "<tr>\n",
       "  <th>Dep. Variable:</th>    <td>np.log(cost)</td> <th>  R-squared:         </th> <td>   0.992</td> \n",
       "</tr>\n",
       "<tr>\n",
       "  <th>Model:</th>                 <td>OLS</td>     <th>  Adj. R-squared:    </th> <td>   0.992</td> \n",
       "</tr>\n",
       "<tr>\n",
       "  <th>No. Observations:</th>    <td>   158</td>    <th>  F-statistic:       </th> <td>   3880.</td> \n",
       "</tr>\n",
       "<tr>\n",
       "  <th>Covariance Type:</th>    <td>nonrobust</td>  <th>  Prob (F-statistic):</th> <td>2.45e-158</td>\n",
       "</tr>\n",
       "</table>\n",
       "<table class=\"simpletable\">\n",
       "<tr>\n",
       "          <td></td>             <th>coef</th>     <th>std err</th>      <th>t</th>      <th>P>|t|</th>  <th>[0.025</th>    <th>0.975]</th>  \n",
       "</tr>\n",
       "<tr>\n",
       "  <th>Intercept</th>         <td>   -6.7387</td> <td>    0.706</td> <td>   -9.541</td> <td> 0.000</td> <td>   -8.134</td> <td>   -5.343</td>\n",
       "</tr>\n",
       "<tr>\n",
       "  <th>np.log(q)</th>         <td>    0.4030</td> <td>    0.032</td> <td>   12.734</td> <td> 0.000</td> <td>    0.340</td> <td>    0.466</td>\n",
       "</tr>\n",
       "<tr>\n",
       "  <th>I(np.log(q) ** 2)</th> <td>    0.0304</td> <td>    0.002</td> <td>   14.024</td> <td> 0.000</td> <td>    0.026</td> <td>    0.035</td>\n",
       "</tr>\n",
       "<tr>\n",
       "  <th>np.log(pl)</th>        <td>    0.1461</td> <td>    0.070</td> <td>    2.073</td> <td> 0.040</td> <td>    0.007</td> <td>    0.285</td>\n",
       "</tr>\n",
       "<tr>\n",
       "  <th>np.log(pk)</th>        <td>    0.1571</td> <td>    0.058</td> <td>    2.721</td> <td> 0.007</td> <td>    0.043</td> <td>    0.271</td>\n",
       "</tr>\n",
       "<tr>\n",
       "  <th>np.log(pf)</th>        <td>    0.6847</td> <td>    0.043</td> <td>   16.043</td> <td> 0.000</td> <td>    0.600</td> <td>    0.769</td>\n",
       "</tr>\n",
       "</table><br/><br/>Notes:<br/>[1] Standard Errors assume that the covariance matrix of the errors is correctly specified.<br/>[2] The condition number is large, 4.99e+03. This might indicate that there are<br/>strong multicollinearity or other numerical problems."
      ],
      "text/plain": [
       "<class 'statsmodels.iolib.summary.Summary'>\n",
       "\"\"\"\n",
       "                            OLS Regression Results                            \n",
       "==============================================================================\n",
       "Dep. Variable:           np.log(cost)   R-squared:                       0.992\n",
       "Model:                            OLS   Adj. R-squared:                  0.992\n",
       "No. Observations:                 158   F-statistic:                     3880.\n",
       "Covariance Type:            nonrobust   Prob (F-statistic):          2.45e-158\n",
       "=====================================================================================\n",
       "                        coef    std err          t      P>|t|      [0.025      0.975]\n",
       "-------------------------------------------------------------------------------------\n",
       "Intercept            -6.7387      0.706     -9.541      0.000      -8.134      -5.343\n",
       "np.log(q)             0.4030      0.032     12.734      0.000       0.340       0.466\n",
       "I(np.log(q) ** 2)     0.0304      0.002     14.024      0.000       0.026       0.035\n",
       "np.log(pl)            0.1461      0.070      2.073      0.040       0.007       0.285\n",
       "np.log(pk)            0.1571      0.058      2.721      0.007       0.043       0.271\n",
       "np.log(pf)            0.6847      0.043     16.043      0.000       0.600       0.769\n",
       "=====================================================================================\n",
       "\n",
       "Notes:\n",
       "[1] Standard Errors assume that the covariance matrix of the errors is correctly specified.\n",
       "[2] The condition number is large, 4.99e+03. This might indicate that there are\n",
       "strong multicollinearity or other numerical problems.\n",
       "\"\"\""
      ]
     },
     "execution_count": 14,
     "metadata": {},
     "output_type": "execute_result"
    }
   ],
   "source": [
    "electricity_df = pd.read_csv('https://raw.githubusercontent.com/artamonoff/Econometrica/master/python-notebooks/data-csv/Electricity.csv')\n",
    "mod = smf.ols(formula='np.log(cost)~np.log(q)+I(np.log(q)**2)+np.log(pl)+np.log(pk)+np.log(pf)', data=electricity_df).fit()\n",
    "mod.summary(slim=True)"
   ]
  },
  {
   "cell_type": "markdown",
   "id": "285d633c",
   "metadata": {},
   "source": [
    "Построим 99%-доверительные интервалы для каждого коэффициента ($\\gamma=0.99$, $\\alpha=0.01$)"
   ]
  },
  {
   "cell_type": "code",
   "execution_count": 16,
   "id": "6026a539",
   "metadata": {},
   "outputs": [
    {
     "data": {
      "text/html": [
       "<div>\n",
       "<style scoped>\n",
       "    .dataframe tbody tr th:only-of-type {\n",
       "        vertical-align: middle;\n",
       "    }\n",
       "\n",
       "    .dataframe tbody tr th {\n",
       "        vertical-align: top;\n",
       "    }\n",
       "\n",
       "    .dataframe thead th {\n",
       "        text-align: right;\n",
       "    }\n",
       "</style>\n",
       "<table border=\"1\" class=\"dataframe\">\n",
       "  <thead>\n",
       "    <tr style=\"text-align: right;\">\n",
       "      <th></th>\n",
       "      <th>0</th>\n",
       "      <th>1</th>\n",
       "    </tr>\n",
       "  </thead>\n",
       "  <tbody>\n",
       "    <tr>\n",
       "      <th>Intercept</th>\n",
       "      <td>-8.58</td>\n",
       "      <td>-4.90</td>\n",
       "    </tr>\n",
       "    <tr>\n",
       "      <th>np.log(q)</th>\n",
       "      <td>0.32</td>\n",
       "      <td>0.49</td>\n",
       "    </tr>\n",
       "    <tr>\n",
       "      <th>I(np.log(q) ** 2)</th>\n",
       "      <td>0.02</td>\n",
       "      <td>0.04</td>\n",
       "    </tr>\n",
       "    <tr>\n",
       "      <th>np.log(pl)</th>\n",
       "      <td>-0.04</td>\n",
       "      <td>0.33</td>\n",
       "    </tr>\n",
       "    <tr>\n",
       "      <th>np.log(pk)</th>\n",
       "      <td>0.01</td>\n",
       "      <td>0.31</td>\n",
       "    </tr>\n",
       "    <tr>\n",
       "      <th>np.log(pf)</th>\n",
       "      <td>0.57</td>\n",
       "      <td>0.80</td>\n",
       "    </tr>\n",
       "  </tbody>\n",
       "</table>\n",
       "</div>"
      ],
      "text/plain": [
       "                      0     1\n",
       "Intercept         -8.58 -4.90\n",
       "np.log(q)          0.32  0.49\n",
       "I(np.log(q) ** 2)  0.02  0.04\n",
       "np.log(pl)        -0.04  0.33\n",
       "np.log(pk)         0.01  0.31\n",
       "np.log(pf)         0.57  0.80"
      ]
     },
     "execution_count": 16,
     "metadata": {},
     "output_type": "execute_result"
    }
   ],
   "source": [
    "mod.conf_int(alpha=0.01).round(2)"
   ]
  },
  {
   "cell_type": "markdown",
   "id": "68218d2a",
   "metadata": {},
   "source": [
    "## Коэффициент НЕЗНАЧИМ, если 0 попадает в доверительный интервал"
   ]
  },
  {
   "cell_type": "code",
   "execution_count": null,
   "id": "03f22729",
   "metadata": {},
   "outputs": [],
   "source": []
  }
 ],
 "metadata": {
  "kernelspec": {
   "display_name": "Python 3 (ipykernel)",
   "language": "python",
   "name": "python3"
  },
  "language_info": {
   "codemirror_mode": {
    "name": "ipython",
    "version": 3
   },
   "file_extension": ".py",
   "mimetype": "text/x-python",
   "name": "python",
   "nbconvert_exporter": "python",
   "pygments_lexer": "ipython3",
   "version": "3.9.13"
  }
 },
 "nbformat": 4,
 "nbformat_minor": 5
}

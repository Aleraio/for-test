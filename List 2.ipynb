{
 "cells": [
  {
   "cell_type": "code",
   "execution_count": 1,
   "id": "c04c2fd1",
   "metadata": {},
   "outputs": [],
   "source": [
    "import numpy as np # linear algebra \n",
    "import pandas as pd # data processing, CSV file I/O (e.g. pd.read_csv)\n",
    "# stats models: regression fitting via formulas\n",
    "import statsmodels.formula.api as smf\n",
    "# stats models: regression fitting via matrices of regression design\n",
    "import statsmodels.api as sm"
   ]
  },
  {
   "cell_type": "code",
   "execution_count": 2,
   "id": "0de418cb",
   "metadata": {},
   "outputs": [],
   "source": [
    "df = pd.read_csv('sleep75.csv')"
   ]
  },
  {
   "cell_type": "markdown",
   "id": "057a7395",
   "metadata": {},
   "source": [
    "# 1.2 Модель 2\n",
    "Для набора данных sleep75 рассмотрим линейную регрессию sleep на totwrk, male, smsa, age, south, yngkid, marr, union Объясняющие: totwrk & male, остальные - контрольные\n",
    "\n",
    "1) Запишите спецификацию модели\n",
    "\n",
    "2) Результаты подгонки (получите самостоятельно в Python!)"
   ]
  },
  {
   "cell_type": "code",
   "execution_count": 3,
   "id": "7275b6e6",
   "metadata": {},
   "outputs": [
    {
     "data": {
      "text/plain": [
       "Intercept    3446.83\n",
       "totwrk         -0.17\n",
       "male           87.11\n",
       "smsa          -54.19\n",
       "age             2.71\n",
       "south         102.27\n",
       "yngkid        -13.05\n",
       "marr           31.36\n",
       "union          11.87\n",
       "dtype: float64"
      ]
     },
     "execution_count": 3,
     "metadata": {},
     "output_type": "execute_result"
    }
   ],
   "source": [
    "# специфицируем модель через формулу\n",
    "sleep_eq1 = smf.ols(formula='sleep~totwrk+male+smsa+age+south+yngkid+marr+union', data=df).fit()\n",
    "# Коэфициенты модели с округление\n",
    "sleep_eq1.params.round(2)"
   ]
  },
  {
   "cell_type": "markdown",
   "id": "3a134eff",
   "metadata": {},
   "source": [
    "# 1.3 Модель 3\n",
    "Для набора данных sleep75 рассмотрим линейную регрессию sleep на log(hrwage), smsa, totwrk, male, marr, age, south, yngkid Объясняющие: log(hrwage) & smsa, остальные - контрольные\n",
    "\n",
    "Запишите спецификацию модели\n",
    "\n",
    "Результаты подгонки (получите самостоятельно в Python!)"
   ]
  },
  {
   "cell_type": "code",
   "execution_count": 5,
   "id": "6ed429a0",
   "metadata": {},
   "outputs": [
    {
     "data": {
      "text/plain": [
       "Intercept         3440.19\n",
       "np.log(hrwage)      -1.39\n",
       "totwrk              -0.16\n",
       "male                36.87\n",
       "smsa               -36.96\n",
       "marr                53.34\n",
       "age                  2.37\n",
       "south               76.27\n",
       "yngkid              47.92\n",
       "dtype: float64"
      ]
     },
     "execution_count": 5,
     "metadata": {},
     "output_type": "execute_result"
    }
   ],
   "source": [
    "# специфицируем модель через формулу\n",
    "sleep_eq1 = smf.ols(formula='sleep~np.log(hrwage)+totwrk+male+smsa+marr+age+south+yngkid', data=df).fit()\n",
    "# Коэфициенты модели с округление\n",
    "sleep_eq1.params.round(2)"
   ]
  },
  {
   "cell_type": "markdown",
   "id": "d041bbc3",
   "metadata": {},
   "source": [
    "# 2 Wage equation"
   ]
  },
  {
   "cell_type": "code",
   "execution_count": 7,
   "id": "0fa8c6ec",
   "metadata": {},
   "outputs": [],
   "source": [
    "df = pd.read_csv('wage2.csv')"
   ]
  },
  {
   "cell_type": "markdown",
   "id": "41ad04d1",
   "metadata": {},
   "source": [
    "# 2.2 Модель 2\n",
    "Для набора данных wage2 рассмотрим линейную регрессию log(wage) на age, IQ, south, urban, married, KWW Объясняющие: age & IQ, остальные - контрольные\n",
    "\n",
    "Запишите спецификацию модели\n",
    "\n",
    "Результаты подгонки (получите самостоятельно в Python!)"
   ]
  },
  {
   "cell_type": "code",
   "execution_count": 9,
   "id": "2407c20f",
   "metadata": {},
   "outputs": [
    {
     "data": {
      "text/plain": [
       "Intercept    5.126\n",
       "age          0.014\n",
       "IQ           0.007\n",
       "south       -0.101\n",
       "urban        0.165\n",
       "married      0.191\n",
       "KWW          0.007\n",
       "dtype: float64"
      ]
     },
     "execution_count": 9,
     "metadata": {},
     "output_type": "execute_result"
    }
   ],
   "source": [
    "# специфицируем модель через формулу\n",
    "sleep_eq1 = smf.ols(formula='np.log(wage)~age+IQ+south+urban+married+KWW', data=df).fit()\n",
    "# Коэфициенты модели с округление\n",
    "sleep_eq1.params.round(3)"
   ]
  },
  {
   "cell_type": "markdown",
   "id": "58a3852b",
   "metadata": {},
   "source": [
    "# 3 Output equation"
   ]
  },
  {
   "cell_type": "code",
   "execution_count": 10,
   "id": "dc24832a",
   "metadata": {},
   "outputs": [],
   "source": [
    "df = pd.read_csv('Labour.csv')"
   ]
  },
  {
   "cell_type": "markdown",
   "id": "89cd20a5",
   "metadata": {},
   "source": [
    "# 3.2 Модель 2\n",
    "Для набора данных Labour рассмотрим линейную регрессию log(output) на log(capital), log(labour), log(wage) Объясняющие: log(capital) & log(labour), остальные - контрольные\n",
    "\n",
    "Запишите спецификацию модели\n",
    "\n",
    "Результаты подгонки (получите самостоятельно в Python!)"
   ]
  },
  {
   "cell_type": "code",
   "execution_count": 11,
   "id": "07c5944b",
   "metadata": {},
   "outputs": [
    {
     "data": {
      "text/plain": [
       "Intercept         -5.007\n",
       "np.log(capital)    0.149\n",
       "np.log(labour)     0.720\n",
       "np.log(wage)       0.921\n",
       "dtype: float64"
      ]
     },
     "execution_count": 11,
     "metadata": {},
     "output_type": "execute_result"
    }
   ],
   "source": [
    "# специфицируем модель через формулу\n",
    "output_eq1 = smf.ols(formula='np.log(output)~np.log(capital)+np.log(labour)+np.log(wage)', data=df).fit()\n",
    "# Коэфициенты модели с округление\n",
    "output_eq1.params.round(3)"
   ]
  },
  {
   "cell_type": "markdown",
   "id": "7a4ea04a",
   "metadata": {},
   "source": [
    "# 4 Cost equation"
   ]
  },
  {
   "cell_type": "code",
   "execution_count": 12,
   "id": "75a01b02",
   "metadata": {},
   "outputs": [
    {
     "data": {
      "text/html": [
       "<div>\n",
       "<style scoped>\n",
       "    .dataframe tbody tr th:only-of-type {\n",
       "        vertical-align: middle;\n",
       "    }\n",
       "\n",
       "    .dataframe tbody tr th {\n",
       "        vertical-align: top;\n",
       "    }\n",
       "\n",
       "    .dataframe thead th {\n",
       "        text-align: right;\n",
       "    }\n",
       "</style>\n",
       "<table border=\"1\" class=\"dataframe\">\n",
       "  <thead>\n",
       "    <tr style=\"text-align: right;\">\n",
       "      <th></th>\n",
       "      <th>cost</th>\n",
       "      <th>q</th>\n",
       "      <th>pl</th>\n",
       "      <th>sl</th>\n",
       "      <th>pk</th>\n",
       "      <th>sk</th>\n",
       "      <th>pf</th>\n",
       "      <th>sf</th>\n",
       "    </tr>\n",
       "  </thead>\n",
       "  <tbody>\n",
       "    <tr>\n",
       "      <th>0</th>\n",
       "      <td>0.2130</td>\n",
       "      <td>8.0</td>\n",
       "      <td>6869.47</td>\n",
       "      <td>0.3291</td>\n",
       "      <td>64.945</td>\n",
       "      <td>0.4197</td>\n",
       "      <td>18.000</td>\n",
       "      <td>0.2512</td>\n",
       "    </tr>\n",
       "    <tr>\n",
       "      <th>1</th>\n",
       "      <td>3.0427</td>\n",
       "      <td>869.0</td>\n",
       "      <td>8372.96</td>\n",
       "      <td>0.1030</td>\n",
       "      <td>68.227</td>\n",
       "      <td>0.2913</td>\n",
       "      <td>21.067</td>\n",
       "      <td>0.6057</td>\n",
       "    </tr>\n",
       "    <tr>\n",
       "      <th>2</th>\n",
       "      <td>9.4059</td>\n",
       "      <td>1412.0</td>\n",
       "      <td>7960.90</td>\n",
       "      <td>0.0891</td>\n",
       "      <td>40.692</td>\n",
       "      <td>0.1567</td>\n",
       "      <td>41.530</td>\n",
       "      <td>0.7542</td>\n",
       "    </tr>\n",
       "    <tr>\n",
       "      <th>3</th>\n",
       "      <td>0.7606</td>\n",
       "      <td>65.0</td>\n",
       "      <td>8971.89</td>\n",
       "      <td>0.2802</td>\n",
       "      <td>41.243</td>\n",
       "      <td>0.1282</td>\n",
       "      <td>28.539</td>\n",
       "      <td>0.5916</td>\n",
       "    </tr>\n",
       "    <tr>\n",
       "      <th>4</th>\n",
       "      <td>2.2587</td>\n",
       "      <td>295.0</td>\n",
       "      <td>8218.40</td>\n",
       "      <td>0.1772</td>\n",
       "      <td>71.940</td>\n",
       "      <td>0.1623</td>\n",
       "      <td>39.200</td>\n",
       "      <td>0.6606</td>\n",
       "    </tr>\n",
       "  </tbody>\n",
       "</table>\n",
       "</div>"
      ],
      "text/plain": [
       "     cost       q       pl      sl      pk      sk      pf      sf\n",
       "0  0.2130     8.0  6869.47  0.3291  64.945  0.4197  18.000  0.2512\n",
       "1  3.0427   869.0  8372.96  0.1030  68.227  0.2913  21.067  0.6057\n",
       "2  9.4059  1412.0  7960.90  0.0891  40.692  0.1567  41.530  0.7542\n",
       "3  0.7606    65.0  8971.89  0.2802  41.243  0.1282  28.539  0.5916\n",
       "4  2.2587   295.0  8218.40  0.1772  71.940  0.1623  39.200  0.6606"
      ]
     },
     "execution_count": 12,
     "metadata": {},
     "output_type": "execute_result"
    }
   ],
   "source": [
    "df = pd.read_csv('Electricity.csv')\n",
    "df.head()"
   ]
  },
  {
   "cell_type": "markdown",
   "id": "8b80ed09",
   "metadata": {},
   "source": [
    "# 4.1 Модель 1\n",
    "Для набора данных Electricity рассмотрим линейную регрессию log(cost) на log(q) Объясняющие: log(q) контрольных нет\n",
    "\n",
    "Запишите спецификацию модели\n",
    "\n",
    "Результаты подгонки (получите самостоятельно в Python!)"
   ]
  },
  {
   "cell_type": "code",
   "execution_count": 14,
   "id": "2ce5acc5",
   "metadata": {},
   "outputs": [
    {
     "data": {
      "text/plain": [
       "Intercept   -3.841\n",
       "np.log(q)    0.836\n",
       "dtype: float64"
      ]
     },
     "execution_count": 14,
     "metadata": {},
     "output_type": "execute_result"
    }
   ],
   "source": [
    "# специфицируем модель через формулу\n",
    "output_eq1 = smf.ols(formula='np.log(cost)~np.log(q)', data=df).fit()\n",
    "# Коэфициенты модели с округление\n",
    "output_eq1.params.round(3)"
   ]
  },
  {
   "cell_type": "markdown",
   "id": "10e27b0f",
   "metadata": {},
   "source": [
    "# 4.2 Модель 2\n",
    "Для набора данных Electricity рассмотрим линейную регрессию log(cost) на log(q), log(pl), log(pf), log(pk) Объясняющие: log(q), остальные - контрольные\n",
    "\n",
    "Запишите спецификацию модели\n",
    "\n",
    "Результаты подгонки (получите самостоятельно в Python!)"
   ]
  },
  {
   "cell_type": "code",
   "execution_count": 16,
   "id": "8cb805d1",
   "metadata": {},
   "outputs": [
    {
     "data": {
      "text/plain": [
       "Intercept    -7.472\n",
       "np.log(q)     0.838\n",
       "np.log(pl)    0.044\n",
       "np.log(pf)    0.713\n",
       "np.log(pk)    0.188\n",
       "dtype: float64"
      ]
     },
     "execution_count": 16,
     "metadata": {},
     "output_type": "execute_result"
    }
   ],
   "source": [
    "# специфицируем модель через формулу\n",
    "output_eq1 = smf.ols(formula='np.log(cost)~np.log(q)+np.log(pl)+np.log(pf)+np.log(pk)', data=df).fit()\n",
    "# Коэфициенты модели с округление\n",
    "output_eq1.params.round(3)"
   ]
  },
  {
   "cell_type": "code",
   "execution_count": null,
   "id": "c775ba3a",
   "metadata": {},
   "outputs": [],
   "source": []
  }
 ],
 "metadata": {
  "kernelspec": {
   "display_name": "Python 3 (ipykernel)",
   "language": "python",
   "name": "python3"
  },
  "language_info": {
   "codemirror_mode": {
    "name": "ipython",
    "version": 3
   },
   "file_extension": ".py",
   "mimetype": "text/x-python",
   "name": "python",
   "nbconvert_exporter": "python",
   "pygments_lexer": "ipython3",
   "version": "3.9.13"
  }
 },
 "nbformat": 4,
 "nbformat_minor": 5
}

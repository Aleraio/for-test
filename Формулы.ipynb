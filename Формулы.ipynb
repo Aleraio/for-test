{
 "cells": [
  {
   "cell_type": "markdown",
   "id": "8f43c72f",
   "metadata": {},
   "source": [
    "# Лист 1"
   ]
  },
  {
   "cell_type": "code",
   "execution_count": null,
   "id": "8d2b23cc",
   "metadata": {},
   "outputs": [],
   "source": [
    "# библиотека\n",
    "import numpy as np # linear algebra \n",
    "import pandas as pd # data processing, CSV file I/O (e.g. pd.read_csv)\n",
    "# stats models: regression fitting\n",
    "import statsmodels.formula.api as smf\n",
    "# data visualization\n",
    "import seaborn as sns"
   ]
  },
  {
   "cell_type": "code",
   "execution_count": null,
   "id": "0c69ecef",
   "metadata": {},
   "outputs": [],
   "source": [
    "# полезные формулы для датафрейма\n",
    "df.head() #показывает значения переменных по событиям\n",
    "df.shape # показывает кол-во строк (событий) и столбцов (переменных)\n"
   ]
  },
  {
   "cell_type": "markdown",
   "id": "48a0a0c4",
   "metadata": {},
   "source": [
    "## Диаграммы рассеяния"
   ]
  },
  {
   "cell_type": "code",
   "execution_count": 1,
   "id": "2deed48c",
   "metadata": {},
   "outputs": [
    {
     "ename": "NameError",
     "evalue": "name 'sns' is not defined",
     "output_type": "error",
     "traceback": [
      "\u001b[1;31m---------------------------------------------------------------------------\u001b[0m",
      "\u001b[1;31mNameError\u001b[0m                                 Traceback (most recent call last)",
      "\u001b[1;32m~\\AppData\\Local\\Temp\\ipykernel_3372\\3979068850.py\u001b[0m in \u001b[0;36m<module>\u001b[1;34m\u001b[0m\n\u001b[0;32m      1\u001b[0m \u001b[1;31m# постройте диаграмму рассеяним sleep vs totwrk с ‘подогнанной’ прямой\u001b[0m\u001b[1;33m\u001b[0m\u001b[1;33m\u001b[0m\u001b[0m\n\u001b[1;32m----> 2\u001b[1;33m \u001b[0msns\u001b[0m\u001b[1;33m.\u001b[0m\u001b[0mregplot\u001b[0m\u001b[1;33m(\u001b[0m\u001b[0mdata\u001b[0m\u001b[1;33m=\u001b[0m\u001b[0mdf\u001b[0m\u001b[1;33m,\u001b[0m \u001b[0my\u001b[0m\u001b[1;33m=\u001b[0m\u001b[1;34m'sleep'\u001b[0m\u001b[1;33m,\u001b[0m \u001b[0mx\u001b[0m\u001b[1;33m=\u001b[0m\u001b[1;34m'totwrk'\u001b[0m\u001b[1;33m,\u001b[0m \u001b[0mci\u001b[0m\u001b[1;33m=\u001b[0m\u001b[1;32mNone\u001b[0m\u001b[1;33m,\u001b[0m \u001b[0mline_kws\u001b[0m\u001b[1;33m=\u001b[0m\u001b[1;33m{\u001b[0m\u001b[1;34m\"color\"\u001b[0m\u001b[1;33m:\u001b[0m \u001b[1;34m\"r\"\u001b[0m\u001b[1;33m}\u001b[0m\u001b[1;33m)\u001b[0m\u001b[1;33m\u001b[0m\u001b[1;33m\u001b[0m\u001b[0m\n\u001b[0m",
      "\u001b[1;31mNameError\u001b[0m: name 'sns' is not defined"
     ]
    }
   ],
   "source": [
    "# постройте диаграмму рассеяним sleep vs totwrk с ‘подогнанной’ прямой\n",
    "sns.regplot(data=df, y='sleep', x='totwrk', ci=None, line_kws={\"color\": \"r\"})"
   ]
  },
  {
   "cell_type": "code",
   "execution_count": null,
   "id": "92fc48a9",
   "metadata": {},
   "outputs": [],
   "source": [
    "#постройте диаграмму рассеяним sleep vs totwrk с ‘подогнанной’ параболой\n",
    "sns.regplot(data=df, y='sleep', x='totwrk', ci=None, order=2, line_kws={\"color\": \"C1\"})"
   ]
  },
  {
   "cell_type": "code",
   "execution_count": null,
   "id": "c45e85ad",
   "metadata": {},
   "outputs": [],
   "source": [
    "# постройте диаграмму рассеяним log(output) vs log(labour) с ‘подогнанной’ прямой \n",
    "sns.regplot(x=np.log(df['output']), y=np.log(df['labour']), ci=None, line_kws={\"color\": \"r\"})"
   ]
  },
  {
   "cell_type": "code",
   "execution_count": null,
   "id": "30deb7aa",
   "metadata": {},
   "outputs": [],
   "source": [
    "# постройте диаграмму рассеяним log(output) vs log(labour) с ‘подогнанной’ параболой \n",
    "sns.regplot(x=np.log(df['labour']), y=np.log(df['output']), ci=None, order=2, line_kws={\"color\": \"C1\"})"
   ]
  },
  {
   "cell_type": "code",
   "execution_count": null,
   "id": "61a3b436",
   "metadata": {},
   "outputs": [],
   "source": [
    "# гистограмма\n",
    "sns.histplot(data=df, x='output')"
   ]
  },
  {
   "cell_type": "markdown",
   "id": "a46e3f9d",
   "metadata": {},
   "source": [
    "## Параметры оптимальной прямой и подгонка прямой + \"в квадрате\""
   ]
  },
  {
   "cell_type": "code",
   "execution_count": 2,
   "id": "24e7d058",
   "metadata": {},
   "outputs": [
    {
     "ename": "NameError",
     "evalue": "name 'smf' is not defined",
     "output_type": "error",
     "traceback": [
      "\u001b[1;31m---------------------------------------------------------------------------\u001b[0m",
      "\u001b[1;31mNameError\u001b[0m                                 Traceback (most recent call last)",
      "\u001b[1;32m~\\AppData\\Local\\Temp\\ipykernel_3372\\1113941186.py\u001b[0m in \u001b[0;36m<module>\u001b[1;34m\u001b[0m\n\u001b[0;32m      1\u001b[0m \u001b[1;31m# найти параметры оптимальной прямой sleep на totwrk\u001b[0m\u001b[1;33m\u001b[0m\u001b[1;33m\u001b[0m\u001b[0m\n\u001b[0;32m      2\u001b[0m \u001b[1;31m# подгонка прямой\u001b[0m\u001b[1;33m\u001b[0m\u001b[1;33m\u001b[0m\u001b[0m\n\u001b[1;32m----> 3\u001b[1;33m \u001b[0mfitted_line\u001b[0m \u001b[1;33m=\u001b[0m \u001b[0msmf\u001b[0m\u001b[1;33m.\u001b[0m\u001b[0mols\u001b[0m\u001b[1;33m(\u001b[0m\u001b[0mformula\u001b[0m\u001b[1;33m=\u001b[0m\u001b[1;34m'sleep~totwrk'\u001b[0m\u001b[1;33m,\u001b[0m \u001b[0mdata\u001b[0m\u001b[1;33m=\u001b[0m\u001b[0mdf\u001b[0m\u001b[1;33m)\u001b[0m\u001b[1;33m.\u001b[0m\u001b[0mfit\u001b[0m\u001b[1;33m(\u001b[0m\u001b[1;33m)\u001b[0m\u001b[1;33m\u001b[0m\u001b[1;33m\u001b[0m\u001b[0m\n\u001b[0m\u001b[0;32m      4\u001b[0m \u001b[1;31m# коэффициенты с округлением\u001b[0m\u001b[1;33m\u001b[0m\u001b[1;33m\u001b[0m\u001b[0m\n\u001b[0;32m      5\u001b[0m \u001b[0mfitted_line\u001b[0m\u001b[1;33m.\u001b[0m\u001b[0mparams\u001b[0m\u001b[1;33m.\u001b[0m\u001b[0mround\u001b[0m\u001b[1;33m(\u001b[0m\u001b[1;36m2\u001b[0m\u001b[1;33m)\u001b[0m\u001b[1;33m\u001b[0m\u001b[1;33m\u001b[0m\u001b[0m\n",
      "\u001b[1;31mNameError\u001b[0m: name 'smf' is not defined"
     ]
    }
   ],
   "source": [
    "# найти параметры оптимальной прямой sleep на totwrk\n",
    "# подгонка прямой\n",
    "fitted_line = smf.ols(formula='sleep~totwrk', data=df).fit()\n",
    "# коэффициенты с округлением\n",
    "fitted_line.params.round(2)"
   ]
  },
  {
   "cell_type": "code",
   "execution_count": null,
   "id": "ef7dfa23",
   "metadata": {},
   "outputs": [],
   "source": [
    "# найти параметры оптимальной прямой sleep на totwrk без константы\n",
    "fitted_line = smf.ols(formula='sleep~totwrk+0', data=df).fit()\n",
    "fitted_line.params.round(2)"
   ]
  },
  {
   "cell_type": "code",
   "execution_count": null,
   "id": "0e4dbd2c",
   "metadata": {},
   "outputs": [],
   "source": [
    "#найти параметры оптимальной параболы sleep на totwrk, totwrk2\n",
    "# подгонка параболы\n",
    "fitted_pol = smf.ols(formula='sleep~age+I(age**2)', data=df).fit()\n",
    "# коэффициенты с округлением\n",
    "fitted_pol.params.round(2)"
   ]
  },
  {
   "cell_type": "code",
   "execution_count": null,
   "id": "eb0f155a",
   "metadata": {},
   "outputs": [],
   "source": [
    "# Найдите параметры оптимальной плоскости sleep на totwrk, age\n",
    "# подгонка плоскости\n",
    "fitted_plane = smf.ols(formula='sleep~totwrk+age', data=df).fit()\n",
    "# коэффициенты с округлением\n",
    "fitted_plane.params.round(2)"
   ]
  },
  {
   "cell_type": "code",
   "execution_count": null,
   "id": "02dbdb13",
   "metadata": {},
   "outputs": [],
   "source": [
    "# найти параметры оптимальной прямой log(output) на log(capital)\n",
    "# подгонка прямой\n",
    "fitted_line = smf.ols(formula='np.log(output)~np.log(capital)', data=df).fit()\n",
    "# коэффициенты с округлением\n",
    "fitted_line.params.round(2)"
   ]
  },
  {
   "cell_type": "markdown",
   "id": "ecac1d75",
   "metadata": {},
   "source": [
    "# Лист 2"
   ]
  },
  {
   "cell_type": "code",
   "execution_count": null,
   "id": "49500f17",
   "metadata": {},
   "outputs": [],
   "source": [
    "# библиотека\n",
    "import numpy as np # linear algebra \n",
    "import pandas as pd # data processing, CSV file I/O (e.g. pd.read_csv)\n",
    "# stats models: regression fitting via formulas\n",
    "import statsmodels.formula.api as smf\n",
    "# stats models: regression fitting via matrices of regression design\n",
    "import statsmodels.api as sm"
   ]
  },
  {
   "cell_type": "markdown",
   "id": "b88c1c3a",
   "metadata": {},
   "source": [
    "## Спецификация модели и результаты подгонки"
   ]
  },
  {
   "cell_type": "code",
   "execution_count": null,
   "id": "e54792df",
   "metadata": {},
   "outputs": [],
   "source": [
    "# специфицируем модель через формулу\n",
    "output_eq1 = smf.ols(formula='np.log(output)~np.log(capital)+np.log(labour)+np.log(wage)', data=df).fit()\n",
    "# Коэфициенты модели с округление\n",
    "output_eq1.params.round(3)"
   ]
  },
  {
   "cell_type": "markdown",
   "id": "dcb94f97",
   "metadata": {},
   "source": [
    "# Лист 3"
   ]
  },
  {
   "cell_type": "code",
   "execution_count": null,
   "id": "18da70fe",
   "metadata": {},
   "outputs": [],
   "source": [
    "# библиотека\n",
    "import pandas as pd\n",
    "import numpy as np\n",
    "import statsmodels.formula.api as smf\n",
    "import statsmodels.api as sm"
   ]
  },
  {
   "cell_type": "markdown",
   "id": "17cd4d15",
   "metadata": {},
   "source": [
    "## Создание нового датафрейма с условиями и подгонка к нему"
   ]
  },
  {
   "cell_type": "code",
   "execution_count": 3,
   "id": "437c0258",
   "metadata": {},
   "outputs": [
    {
     "ename": "NameError",
     "evalue": "name 'df_sleep' is not defined",
     "output_type": "error",
     "traceback": [
      "\u001b[1;31m---------------------------------------------------------------------------\u001b[0m",
      "\u001b[1;31mNameError\u001b[0m                                 Traceback (most recent call last)",
      "\u001b[1;32m~\\AppData\\Local\\Temp\\ipykernel_3372\\1373063721.py\u001b[0m in \u001b[0;36m<module>\u001b[1;34m\u001b[0m\n\u001b[1;32m----> 1\u001b[1;33m \u001b[0mnew_model\u001b[0m \u001b[1;33m=\u001b[0m \u001b[0mdf_sleep\u001b[0m\u001b[1;33m[\u001b[0m\u001b[0mdf_sleep\u001b[0m\u001b[1;33m[\u001b[0m\u001b[1;34m'male'\u001b[0m\u001b[1;33m]\u001b[0m \u001b[1;33m==\u001b[0m \u001b[1;36m0\u001b[0m\u001b[1;33m]\u001b[0m\u001b[1;33m\u001b[0m\u001b[1;33m\u001b[0m\u001b[0m\n\u001b[0m\u001b[0;32m      2\u001b[0m \u001b[0mnew_model\u001b[0m\u001b[1;33m.\u001b[0m\u001b[0mshape\u001b[0m\u001b[1;33m\u001b[0m\u001b[1;33m\u001b[0m\u001b[0m\n\u001b[0;32m      3\u001b[0m \u001b[1;31m#new_model - рандомное название новосозданного датафрейма, df_sleep - название импортированного датафрейма\u001b[0m\u001b[1;33m\u001b[0m\u001b[1;33m\u001b[0m\u001b[0m\n",
      "\u001b[1;31mNameError\u001b[0m: name 'df_sleep' is not defined"
     ]
    }
   ],
   "source": [
    "new_model = df_sleep[df_sleep['male'] == 0] \n",
    "new_model.shape\n",
    "#new_model - рандомное название новосозданного датафрейма, df_sleep - название импортированного датафрейма"
   ]
  },
  {
   "cell_type": "code",
   "execution_count": null,
   "id": "ece53ab1",
   "metadata": {},
   "outputs": [],
   "source": [
    "sleep_eq = smf.ols(formula='sleep~totwrk+age+smsa+south', data=new_model).fit()\n",
    "sleep_eq.params.round(2)\n",
    "# ПОСЛЕ DATA название нового датафрейма (new_model), sleep_eq - рандомное название модели"
   ]
  },
  {
   "cell_type": "markdown",
   "id": "1a8145fd",
   "metadata": {},
   "source": [
    "## Создание выборочного массива и формулы к нему (предсказанное, остатки, фактическое)"
   ]
  },
  {
   "cell_type": "code",
   "execution_count": null,
   "id": "98aec3d7",
   "metadata": {},
   "outputs": [],
   "source": [
    "# Для наблюдений с номерами 1, 9, 45, 187, 280 найдите фактическое значение зависимой переменной, предсказанное значение и остатки.\n",
    "ind = np.array([1, 9, 45, 187, 280])-1\n",
    "# Фактические (ВСТАВЛЯЕМ НОВЫЙ МАССИВ new_model, sleep - переменная)\n",
    "new_model['sleep'].iloc[ind]"
   ]
  },
  {
   "cell_type": "code",
   "execution_count": null,
   "id": "8d6ca1a9",
   "metadata": {},
   "outputs": [],
   "source": [
    "# Предсказанное (sleep_eq \"прогнанная\" модель после изменения старого датафрейма на новый)\n",
    "sleep_eq.fittedvalues.iloc[ind] "
   ]
  },
  {
   "cell_type": "code",
   "execution_count": null,
   "id": "798633aa",
   "metadata": {},
   "outputs": [],
   "source": [
    "# Остатки (sleep_eq \"прогнанная\" модель после изменения старого датафрейма на новый)\n",
    "sleep_eq.resid.iloc[ind]"
   ]
  },
  {
   "cell_type": "code",
   "execution_count": null,
   "id": "fed605ec",
   "metadata": {},
   "outputs": [],
   "source": [
    "# TSS\n",
    "sleep_eq.centered_tss\n",
    "# ESS\n",
    "sleep_eq.ess\n",
    "# RSS\n",
    "sleep_eq.ssr\n",
    "# R^2\n",
    "sleep_eq.rsquared\n",
    "# adj R^2\n",
    "sleep_eq.rsquared_adj\n",
    "# стандартная ошибка\n",
    "sleep_eq.mse_resid**0.5"
   ]
  },
  {
   "cell_type": "markdown",
   "id": "1e6422e6",
   "metadata": {},
   "source": [
    "# Допинфа"
   ]
  },
  {
   "cell_type": "markdown",
   "id": "d4da14fe",
   "metadata": {},
   "source": [
    "## Интерпретация некоторых показателей "
   ]
  },
  {
   "cell_type": "code",
   "execution_count": null,
   "id": "d2ed64fc",
   "metadata": {},
   "outputs": [],
   "source": [
    "# sleep~totwrk+male , totwrk и male = регрессоры"
   ]
  },
  {
   "cell_type": "code",
   "execution_count": null,
   "id": "bf71d6a0",
   "metadata": {},
   "outputs": [],
   "source": [
    "# sleep~totwrk+male\n",
    "# B(totwrk)=-0,17, B(male)=88,84: \n",
    "# -> totwrk+1: я работаю на 1 час больше, как это отразится на сне? - я стану спать на 0,17 мин меньше\n",
    "# -> totwrk+1: я мужик, как это отразится на сне? - мужик при прочих равынх условиях будет спать на 88 мин больше с одинаковойс занятостью"
   ]
  },
  {
   "cell_type": "code",
   "execution_count": 5,
   "id": "c07cf630",
   "metadata": {},
   "outputs": [],
   "source": [
    "# sleep~log(hrwage)\n",
    "# B(hrwage)=-1,39: hrwage+1% -> sleep -1,39/100 (мин/нед)"
   ]
  },
  {
   "cell_type": "code",
   "execution_count": null,
   "id": "fdb1ac0e",
   "metadata": {},
   "outputs": [],
   "source": [
    "# log(output)~log(capital)\n",
    "# B(capital)=0,208: capital+1% -> output + 0,208%"
   ]
  },
  {
   "cell_type": "code",
   "execution_count": null,
   "id": "0628d5b0",
   "metadata": {},
   "outputs": [],
   "source": [
    "# log(wage)~age+IQ\n",
    "# B(age)=0,024: age+1% -> wage + 0,024*100%= wage +2,4%"
   ]
  },
  {
   "cell_type": "code",
   "execution_count": 4,
   "id": "54fb11b8",
   "metadata": {},
   "outputs": [],
   "source": [
    "# R^2 = 12% . То есть наша модель объясняет продолжительность сна на 12%, на 88% приходятся неучтённые факторы"
   ]
  }
 ],
 "metadata": {
  "kernelspec": {
   "display_name": "Python 3 (ipykernel)",
   "language": "python",
   "name": "python3"
  },
  "language_info": {
   "codemirror_mode": {
    "name": "ipython",
    "version": 3
   },
   "file_extension": ".py",
   "mimetype": "text/x-python",
   "name": "python",
   "nbconvert_exporter": "python",
   "pygments_lexer": "ipython3",
   "version": "3.9.13"
  }
 },
 "nbformat": 4,
 "nbformat_minor": 5
}

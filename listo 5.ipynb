{
 "cells": [
  {
   "cell_type": "markdown",
   "id": "c2895172",
   "metadata": {},
   "source": [
    "# 1 F-тест: значимость регрессии"
   ]
  },
  {
   "cell_type": "markdown",
   "id": "27647d94",
   "metadata": {},
   "source": [
    "## 1.2 cost equation #1\n",
    "1) Тестируется значимость каждой регрессии. Уровень значимости 1%. Вычислите соотвествующию тестовые статистики. Ответ округлите до 2-х десятичных знаков.\n",
    "\n",
    "2) Вычислите критическое значение для каждой регрессии. Ответ округлите до 2-х десятичных знаков.\n",
    "\n",
    "3) Какая из регрессий значима?"
   ]
  },
  {
   "cell_type": "code",
   "execution_count": 37,
   "id": "2e9c344f",
   "metadata": {},
   "outputs": [],
   "source": [
    "import pandas as pd\n",
    "import numpy as np\n",
    "import statsmodels.formula.api as smf\n",
    "import statsmodels.api as sm\n",
    "from statsmodels.iolib.summary2 import summary_params # вывод результатов тестирования\n",
    "from scipy.stats import f # F-распределение"
   ]
  },
  {
   "cell_type": "code",
   "execution_count": 38,
   "id": "97c350d6",
   "metadata": {},
   "outputs": [],
   "source": [
    "# загрузим данные\n",
    "sleep_df = pd.read_csv('Electricity.csv')"
   ]
  },
  {
   "cell_type": "code",
   "execution_count": 39,
   "id": "282e57eb",
   "metadata": {},
   "outputs": [],
   "source": [
    "# подгоним модель\n",
    "mod1 = smf.ols(formula='np.log(cost)~np.log(q)+np.log(pl)+np.log(pk)+np.log(pf)', data=sleep_df).fit()"
   ]
  },
  {
   "cell_type": "code",
   "execution_count": 40,
   "id": "a45f7dca",
   "metadata": {},
   "outputs": [
    {
     "data": {
      "text/plain": [
       "Intercept    -7.472\n",
       "np.log(q)     0.838\n",
       "np.log(pl)    0.044\n",
       "np.log(pk)    0.188\n",
       "np.log(pf)    0.713\n",
       "dtype: float64"
      ]
     },
     "execution_count": 40,
     "metadata": {},
     "output_type": "execute_result"
    }
   ],
   "source": [
    "# коэффициенты\n",
    "mod1.params.round(3)"
   ]
  },
  {
   "cell_type": "code",
   "execution_count": 45,
   "id": "38704e7b",
   "metadata": {},
   "outputs": [
    {
     "data": {
      "text/plain": [
       "(2106.9335637703575, 1.2469920264493475e-132)"
      ]
     },
     "execution_count": 45,
     "metadata": {},
     "output_type": "execute_result"
    }
   ],
   "source": [
    "# Результаты F-теста на значимость регрессии (тестовая статистика и P-значение)\n",
    "mod1.fvalue, mod1.f_pvalue"
   ]
  },
  {
   "cell_type": "code",
   "execution_count": 46,
   "id": "62c18b1d",
   "metadata": {},
   "outputs": [
    {
     "data": {
      "text/plain": [
       "3.4441889156629664"
      ]
     },
     "execution_count": 46,
     "metadata": {},
     "output_type": "execute_result"
    }
   ],
   "source": [
    "#1%-критическое значение F-распределения\n",
    "f.ppf(q=1-0.01, dfn=mod1.df_model, dfd=mod1.df_resid)"
   ]
  },
  {
   "cell_type": "code",
   "execution_count": 47,
   "id": "c0cfe0b1",
   "metadata": {},
   "outputs": [
    {
     "data": {
      "text/plain": [
       "2106.9335637703543"
      ]
     },
     "execution_count": 47,
     "metadata": {},
     "output_type": "execute_result"
    }
   ],
   "source": [
    "# Тестовая статистика по формуле\n",
    "mod1.rsquared/(1-mod1.rsquared)*(mod1.df_resid/mod1.df_model)"
   ]
  },
  {
   "cell_type": "code",
   "execution_count": 10,
   "id": "885a95f6",
   "metadata": {},
   "outputs": [
    {
     "data": {
      "text/plain": [
       "(158.0, 4.0, 153.0)"
      ]
     },
     "execution_count": 10,
     "metadata": {},
     "output_type": "execute_result"
    }
   ],
   "source": [
    "# Число наблюдений в модели, число регрессоров и степени свободы для t_cr\n",
    "mod1.nobs, mod1.df_model, mod1.df_resid"
   ]
  },
  {
   "cell_type": "code",
   "execution_count": 12,
   "id": "aefc2dd2",
   "metadata": {},
   "outputs": [
    {
     "data": {
      "text/plain": [
       "0.982169358069865"
      ]
     },
     "execution_count": 12,
     "metadata": {},
     "output_type": "execute_result"
    }
   ],
   "source": [
    "# R^2\n",
    "mod1.rsquared"
   ]
  },
  {
   "cell_type": "code",
   "execution_count": 13,
   "id": "c312e0b7",
   "metadata": {},
   "outputs": [
    {
     "data": {
      "text/plain": [
       "0.9817031974965282"
      ]
     },
     "execution_count": 13,
     "metadata": {},
     "output_type": "execute_result"
    }
   ],
   "source": [
    "# adj R^2\n",
    "mod1.rsquared_adj"
   ]
  },
  {
   "cell_type": "markdown",
   "id": "927856fb",
   "metadata": {},
   "source": [
    "# 3.1 cost equation\n",
    "\n",
    "Для набора данных Electricity рассмотрим линейную регрессию log(cost) на log(q), log^2(q), log(pl), log(pk), log(pf)"
   ]
  },
  {
   "cell_type": "code",
   "execution_count": 1,
   "id": "d8b709bd",
   "metadata": {},
   "outputs": [],
   "source": [
    "import pandas as pd\n",
    "import numpy as np\n",
    "import statsmodels.formula.api as smf\n",
    "import statsmodels.api as sm\n",
    "from statsmodels.iolib.summary2 import summary_col # вывод подгонки\n",
    "from scipy.stats import f # F-распределение"
   ]
  },
  {
   "cell_type": "code",
   "execution_count": 4,
   "id": "3021002a",
   "metadata": {},
   "outputs": [
    {
     "data": {
      "text/plain": [
       "Intercept           -6.739\n",
       "np.log(q)            0.403\n",
       "I(np.log(q) ** 2)    0.030\n",
       "np.log(pl)           0.146\n",
       "np.log(pk)           0.157\n",
       "np.log(pf)           0.685\n",
       "dtype: float64"
      ]
     },
     "execution_count": 4,
     "metadata": {},
     "output_type": "execute_result"
    }
   ],
   "source": [
    "# загрузим данные\n",
    "electro_df = pd.read_csv('https://raw.githubusercontent.com/artamonoff/Econometrica/master/python-notebooks/data-csv/Electricity.csv')\n",
    "# подгоним модель\n",
    "mod2 = smf.ols(formula='np.log(cost)~np.log(q)+I(np.log(q)**2)+np.log(pl)+np.log(pk)+np.log(pf)', data=electro_df).fit()\n",
    "# коэффициенты\n",
    "mod2.params.round(3)"
   ]
  },
  {
   "cell_type": "code",
   "execution_count": 5,
   "id": "62b8824b",
   "metadata": {},
   "outputs": [
    {
     "data": {
      "text/html": [
       "<table class=\"simpletable\">\n",
       "<tr>\n",
       "          <td></td>             <th>coef</th>     <th>std err</th>      <th>t</th>      <th>P>|t|</th>  <th>[0.025</th>    <th>0.975]</th>  \n",
       "</tr>\n",
       "<tr>\n",
       "  <th>Intercept</th>         <td>   -6.7387</td> <td>    0.706</td> <td>   -9.541</td> <td> 0.000</td> <td>   -8.134</td> <td>   -5.343</td>\n",
       "</tr>\n",
       "<tr>\n",
       "  <th>np.log(q)</th>         <td>    0.4030</td> <td>    0.032</td> <td>   12.734</td> <td> 0.000</td> <td>    0.340</td> <td>    0.466</td>\n",
       "</tr>\n",
       "<tr>\n",
       "  <th>I(np.log(q) ** 2)</th> <td>    0.0304</td> <td>    0.002</td> <td>   14.024</td> <td> 0.000</td> <td>    0.026</td> <td>    0.035</td>\n",
       "</tr>\n",
       "<tr>\n",
       "  <th>np.log(pl)</th>        <td>    0.1461</td> <td>    0.070</td> <td>    2.073</td> <td> 0.040</td> <td>    0.007</td> <td>    0.285</td>\n",
       "</tr>\n",
       "<tr>\n",
       "  <th>np.log(pk)</th>        <td>    0.1571</td> <td>    0.058</td> <td>    2.721</td> <td> 0.007</td> <td>    0.043</td> <td>    0.271</td>\n",
       "</tr>\n",
       "<tr>\n",
       "  <th>np.log(pf)</th>        <td>    0.6847</td> <td>    0.043</td> <td>   16.043</td> <td> 0.000</td> <td>    0.600</td> <td>    0.769</td>\n",
       "</tr>\n",
       "</table>"
      ],
      "text/plain": [
       "<class 'statsmodels.iolib.table.SimpleTable'>"
      ]
     },
     "execution_count": 5,
     "metadata": {},
     "output_type": "execute_result"
    }
   ],
   "source": [
    "table = mod2.summary().tables[1]\n",
    "table"
   ]
  },
  {
   "cell_type": "code",
   "execution_count": 7,
   "id": "98cecb24",
   "metadata": {},
   "outputs": [
    {
     "data": {
      "text/plain": [
       "(3880.4073625741557, 2.4509394896460408e-158)"
      ]
     },
     "execution_count": 7,
     "metadata": {},
     "output_type": "execute_result"
    }
   ],
   "source": [
    "# Результаты F-теста на значимость регрессии (тестовая статистика и P-значение\n",
    "mod2.fvalue, mod2.f_pvalue"
   ]
  },
  {
   "cell_type": "code",
   "execution_count": 18,
   "id": "da5997c4",
   "metadata": {},
   "outputs": [
    {
     "name": "stdout",
     "output_type": "stream",
     "text": [
      "<F test: F=0.014541184876268065, p=0.9041775484872097, df_denom=152, df_num=1>\n"
     ]
    }
   ],
   "source": [
    "# F-статистика, p-value, df2, df1\n",
    "print( mod2.f_test('np.log(pf)+np.log(pl)+np.log(pk)=1'))"
   ]
  },
  {
   "cell_type": "code",
   "execution_count": 24,
   "id": "f64b8009",
   "metadata": {},
   "outputs": [
    {
     "data": {
      "text/plain": [
       "6.804589881738003"
      ]
     },
     "execution_count": 24,
     "metadata": {},
     "output_type": "execute_result"
    }
   ],
   "source": [
    "# критическое значение\n",
    "# уровень значимости 0,01%\n",
    "f.ppf(q=1-0.01, dfn=1, dfd=mod2.df_resid)"
   ]
  },
  {
   "cell_type": "code",
   "execution_count": 25,
   "id": "0c6cf388",
   "metadata": {},
   "outputs": [
    {
     "name": "stdout",
     "output_type": "stream",
     "text": [
      "<F test: F=0.020086275898526424, p=0.8874840609151121, df_denom=152, df_num=1>\n"
     ]
    }
   ],
   "source": [
    "# F-статистика, p-value, df2, df1\n",
    "print( mod2.f_test('np.log(pl)=np.log(pk)'))"
   ]
  },
  {
   "cell_type": "code",
   "execution_count": 32,
   "id": "36c9f580",
   "metadata": {},
   "outputs": [
    {
     "data": {
      "text/plain": [
       "6.804589881738003"
      ]
     },
     "execution_count": 32,
     "metadata": {},
     "output_type": "execute_result"
    }
   ],
   "source": [
    "# критическое значение\n",
    "# уровень значимости 0,01%\n",
    "f.ppf(q=1-0.01, dfn=1, dfd=mod2.df_resid)"
   ]
  },
  {
   "cell_type": "markdown",
   "id": "61c7b54c",
   "metadata": {},
   "source": [
    "Потестируем гипотезу H0:βpf=βpl=βpk\n",
    " Какая интерпретация?"
   ]
  },
  {
   "cell_type": "code",
   "execution_count": 28,
   "id": "56a11685",
   "metadata": {},
   "outputs": [
    {
     "name": "stdout",
     "output_type": "stream",
     "text": [
      "<F test: F=26.417080686252184, p=1.4240695015055136e-10, df_denom=152, df_num=2>\n"
     ]
    }
   ],
   "source": [
    "# F-статистика, p-value, df2, df1\n",
    "print( mod2.f_test('np.log(pf)=np.log(pl)=np.log(pk)'))"
   ]
  },
  {
   "cell_type": "code",
   "execution_count": 35,
   "id": "61cca10d",
   "metadata": {},
   "outputs": [
    {
     "data": {
      "text/plain": [
       "6.804589881738003"
      ]
     },
     "execution_count": 35,
     "metadata": {},
     "output_type": "execute_result"
    }
   ],
   "source": [
    "# критическое значение\n",
    "# уровень значимости 0,01%\n",
    "f.ppf(q=1-0.01, dfn=1, dfd=mod2.df_resid)"
   ]
  },
  {
   "cell_type": "markdown",
   "id": "3ec14f3d",
   "metadata": {},
   "source": [
    "# 2.3 sleep equation #3\n",
    "\n",
    "Для датасета sleep75 рассмотрим регрессию sleep на totwrk, age, age^2, male, south, male⋆\n",
    "totwrk"
   ]
  },
  {
   "cell_type": "code",
   "execution_count": 48,
   "id": "3ab84d9a",
   "metadata": {},
   "outputs": [],
   "source": [
    "# загрузим данные\n",
    "sleep_df = pd.read_csv('https://raw.githubusercontent.com/artamonoff/Econometrica/master/python-notebooks/data-csv/sleep75.csv')\n",
    "# подгоним модель\n",
    "mod5 = smf.ols(formula='sleep~totwrk+age+I(age**2)+male+south+male*totwrk', data=sleep_df).fit()"
   ]
  },
  {
   "cell_type": "markdown",
   "id": "60a2ecae",
   "metadata": {},
   "source": [
    "Уровень значимости 1%. Какие коэффициенты значимы? Ответ"
   ]
  },
  {
   "cell_type": "code",
   "execution_count": 50,
   "id": "3d4e6c13",
   "metadata": {},
   "outputs": [
    {
     "data": {
      "text/html": [
       "<table class=\"simpletable\">\n",
       "<tr>\n",
       "       <td></td>          <th>coef</th>     <th>std err</th>      <th>t</th>      <th>P>|t|</th>  <th>[0.025</th>    <th>0.975]</th>  \n",
       "</tr>\n",
       "<tr>\n",
       "  <th>Intercept</th>   <td> 3587.1783</td> <td>  220.238</td> <td>   16.288</td> <td> 0.000</td> <td> 3154.770</td> <td> 4019.586</td>\n",
       "</tr>\n",
       "<tr>\n",
       "  <th>totwrk</th>      <td>   -0.1491</td> <td>    0.026</td> <td>   -5.673</td> <td> 0.000</td> <td>   -0.201</td> <td>   -0.098</td>\n",
       "</tr>\n",
       "<tr>\n",
       "  <th>age</th>         <td>   -6.2587</td> <td>   11.192</td> <td>   -0.559</td> <td> 0.576</td> <td>  -28.232</td> <td>   15.715</td>\n",
       "</tr>\n",
       "<tr>\n",
       "  <th>I(age ** 2)</th> <td>    0.1065</td> <td>    0.134</td> <td>    0.796</td> <td> 0.426</td> <td>   -0.156</td> <td>    0.369</td>\n",
       "</tr>\n",
       "<tr>\n",
       "  <th>male</th>        <td>  161.8901</td> <td>   82.177</td> <td>    1.970</td> <td> 0.049</td> <td>    0.546</td> <td>  323.234</td>\n",
       "</tr>\n",
       "<tr>\n",
       "  <th>south</th>       <td>  112.1436</td> <td>   40.717</td> <td>    2.754</td> <td> 0.006</td> <td>   32.201</td> <td>  192.087</td>\n",
       "</tr>\n",
       "<tr>\n",
       "  <th>male:totwrk</th> <td>   -0.0347</td> <td>    0.036</td> <td>   -0.956</td> <td> 0.339</td> <td>   -0.106</td> <td>    0.037</td>\n",
       "</tr>\n",
       "</table>"
      ],
      "text/plain": [
       "<class 'statsmodels.iolib.table.SimpleTable'>"
      ]
     },
     "execution_count": 50,
     "metadata": {},
     "output_type": "execute_result"
    }
   ],
   "source": [
    "table = mod5.summary().tables[1]\n",
    "table"
   ]
  },
  {
   "cell_type": "code",
   "execution_count": 66,
   "id": "8ca29421",
   "metadata": {},
   "outputs": [
    {
     "data": {
      "text/plain": [
       "(3.94303004067739, 0.01982218606003623, 2.0)"
      ]
     },
     "execution_count": 66,
     "metadata": {},
     "output_type": "execute_result"
    }
   ],
   "source": [
    "# F-статистика, p-value, df1\n",
    "mod5_restr = smf.ols(formula='sleep~totwrk+age+I(age**2)+south', data=sleep_df).fit()\n",
    "mod5.compare_f_test(mod5_restr)"
   ]
  },
  {
   "cell_type": "code",
   "execution_count": 87,
   "id": "ea776203",
   "metadata": {},
   "outputs": [
    {
     "data": {
      "text/plain": [
       "4.635556462057863"
      ]
     },
     "execution_count": 87,
     "metadata": {},
     "output_type": "execute_result"
    }
   ],
   "source": [
    "f.ppf(q=1-0.01, dfn=2, dfd=mod5_restr.df_resid)"
   ]
  },
  {
   "cell_type": "code",
   "execution_count": 71,
   "id": "cb209028",
   "metadata": {},
   "outputs": [
    {
     "data": {
      "text/html": [
       "<table class=\"simpletable\">\n",
       "<tr>\n",
       "       <td></td>          <th>coef</th>     <th>std err</th>      <th>t</th>      <th>P>|t|</th>  <th>[0.025</th>    <th>0.975]</th>  \n",
       "</tr>\n",
       "<tr>\n",
       "  <th>Intercept</th>   <td> 3625.9842</td> <td>  219.314</td> <td>   16.533</td> <td> 0.000</td> <td> 3195.394</td> <td> 4056.575</td>\n",
       "</tr>\n",
       "<tr>\n",
       "  <th>totwrk</th>      <td>   -0.1492</td> <td>    0.017</td> <td>   -8.852</td> <td> 0.000</td> <td>   -0.182</td> <td>   -0.116</td>\n",
       "</tr>\n",
       "<tr>\n",
       "  <th>age</th>         <td>   -6.3586</td> <td>   11.239</td> <td>   -0.566</td> <td> 0.572</td> <td>  -28.424</td> <td>   15.707</td>\n",
       "</tr>\n",
       "<tr>\n",
       "  <th>I(age ** 2)</th> <td>    0.1125</td> <td>    0.134</td> <td>    0.838</td> <td> 0.403</td> <td>   -0.151</td> <td>    0.376</td>\n",
       "</tr>\n",
       "<tr>\n",
       "  <th>south</th>       <td>  108.3872</td> <td>   40.743</td> <td>    2.660</td> <td> 0.008</td> <td>   28.395</td> <td>  188.379</td>\n",
       "</tr>\n",
       "</table>"
      ],
      "text/plain": [
       "<class 'statsmodels.iolib.table.SimpleTable'>"
      ]
     },
     "execution_count": 71,
     "metadata": {},
     "output_type": "execute_result"
    }
   ],
   "source": [
    "table = mod5_restr.summary().tables[1]\n",
    "table"
   ]
  },
  {
   "cell_type": "code",
   "execution_count": 72,
   "id": "91b4a145",
   "metadata": {},
   "outputs": [
    {
     "data": {
      "text/plain": [
       "23.66492065381564"
      ]
     },
     "execution_count": 72,
     "metadata": {},
     "output_type": "execute_result"
    }
   ],
   "source": [
    "mod5_restr.fvalue"
   ]
  },
  {
   "cell_type": "code",
   "execution_count": 78,
   "id": "b05c98fd",
   "metadata": {},
   "outputs": [
    {
     "data": {
      "text/plain": [
       "(706.0, 6.0, 699.0)"
      ]
     },
     "execution_count": 78,
     "metadata": {},
     "output_type": "execute_result"
    }
   ],
   "source": [
    "# Число наблюдений в модели, число регрессоров и степени свободы для t_cr\n",
    "mod5.nobs, mod5.df_model, mod5.df_resid"
   ]
  },
  {
   "cell_type": "code",
   "execution_count": null,
   "id": "63b140b9",
   "metadata": {},
   "outputs": [],
   "source": []
  }
 ],
 "metadata": {
  "kernelspec": {
   "display_name": "Python 3 (ipykernel)",
   "language": "python",
   "name": "python3"
  },
  "language_info": {
   "codemirror_mode": {
    "name": "ipython",
    "version": 3
   },
   "file_extension": ".py",
   "mimetype": "text/x-python",
   "name": "python",
   "nbconvert_exporter": "python",
   "pygments_lexer": "ipython3",
   "version": "3.9.13"
  }
 },
 "nbformat": 4,
 "nbformat_minor": 5
}

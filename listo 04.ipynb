{
 "cells": [
  {
   "cell_type": "code",
   "execution_count": 1,
   "id": "b91d53d5",
   "metadata": {},
   "outputs": [],
   "source": [
    "import numpy as np\n",
    "import pandas as pd\n",
    "import io\n",
    "import statsmodels.formula.api as smf\n",
    "import scipy.stats as stats"
   ]
  },
  {
   "cell_type": "markdown",
   "id": "535f9a02",
   "metadata": {},
   "source": [
    "# 1.1 Задача (sleep equation #1)\n",
    "Для набора данных sleep75 рассмотрим линейную регрессию sleep на totwrk, age, south, male, smsa, yngkid, marr, union\n",
    "Вычислите t-статистику для каждого коэффициента. Ответ округлите до трёх десятичных знаков."
   ]
  },
  {
   "cell_type": "code",
   "execution_count": 29,
   "id": "8c513583",
   "metadata": {},
   "outputs": [
    {
     "data": {
      "text/plain": [
       "Intercept    3446.830\n",
       "totwrk         -0.169\n",
       "age             2.714\n",
       "south         102.272\n",
       "male           87.108\n",
       "smsa          -54.188\n",
       "yngkid        -13.051\n",
       "marr           31.360\n",
       "union          11.866\n",
       "dtype: float64"
      ]
     },
     "execution_count": 29,
     "metadata": {},
     "output_type": "execute_result"
    }
   ],
   "source": [
    "# Загрузим данные\n",
    "df_sleep = pd.read_csv('sleep75.csv')\n",
    "mod1 = smf.ols(formula='sleep~totwrk+age+south+male+smsa+yngkid+marr+union', \n",
    "                       data=df_sleep).fit()\n",
    "# коэффициенты\n",
    "mod1.params.round(3)"
   ]
  },
  {
   "cell_type": "code",
   "execution_count": 30,
   "id": "b4176d62",
   "metadata": {},
   "outputs": [
    {
     "data": {
      "text/plain": [
       "Intercept    81.840\n",
       "totwrk        0.018\n",
       "age           1.472\n",
       "south        41.925\n",
       "male         35.173\n",
       "smsa         33.193\n",
       "yngkid       50.459\n",
       "marr         42.263\n",
       "union        38.186\n",
       "dtype: float64"
      ]
     },
     "execution_count": 30,
     "metadata": {},
     "output_type": "execute_result"
    }
   ],
   "source": [
    "# стандартные ошибки s.e.(beta) Standard\n",
    "mod1.bse.round(3)"
   ]
  },
  {
   "cell_type": "code",
   "execution_count": 27,
   "id": "b25ab23d",
   "metadata": {},
   "outputs": [
    {
     "data": {
      "text/plain": [
       "Intercept    42.117\n",
       "totwrk       -9.358\n",
       "age           1.844\n",
       "south         2.439\n",
       "male          2.477\n",
       "smsa         -1.632\n",
       "yngkid       -0.259\n",
       "marr          0.742\n",
       "union         0.311\n",
       "dtype: float64"
      ]
     },
     "execution_count": 27,
     "metadata": {},
     "output_type": "execute_result"
    }
   ],
   "source": [
    "# t-статистики\n",
    "mod1.tvalues.round(3)"
   ]
  },
  {
   "cell_type": "markdown",
   "id": "74cf37d8",
   "metadata": {},
   "source": [
    "# 1.2 Задача (sleep equation #2, Python)\n",
    "Для набора данных sleep75 рассмотрим линейную регрессию sleep на totwrk, age, south, male, smsa, yngkid, marr, union, log(hrwage)\n",
    "\n",
    "1) Результаты t-тест для коэффициентов (вычислите самостоятельно в Python)\n",
    "\n",
    "2) Модель была подогнана по 532 наблюдениям. Уровень значимости 10%\n",
    "Вычислите критическое значения для t-теста. Ответ округлите до трёх десятичных знаков.\n",
    "\n",
    "3) Какие коэффициенты значимы? Ответ"
   ]
  },
  {
   "cell_type": "code",
   "execution_count": 31,
   "id": "81453038",
   "metadata": {},
   "outputs": [
    {
     "data": {
      "text/plain": [
       "Intercept         3431.804\n",
       "totwrk              -0.158\n",
       "age                  2.437\n",
       "south               78.046\n",
       "male                36.485\n",
       "smsa               -34.965\n",
       "yngkid              50.136\n",
       "marr                54.072\n",
       "union               27.019\n",
       "np.log(hrwage)      -2.727\n",
       "dtype: float64"
      ]
     },
     "execution_count": 31,
     "metadata": {},
     "output_type": "execute_result"
    }
   ],
   "source": [
    "mod2 = smf.ols(formula='sleep~totwrk+age+south+male+smsa+yngkid+marr+union+np.log(hrwage)', \n",
    "                       data=df_sleep).fit()\n",
    "# коэффициенты\n",
    "mod2.params.round(3)"
   ]
  },
  {
   "cell_type": "code",
   "execution_count": 32,
   "id": "17ae5ad3",
   "metadata": {},
   "outputs": [
    {
     "data": {
      "text/html": [
       "<table class=\"simpletable\">\n",
       "<caption>OLS Regression Results</caption>\n",
       "<tr>\n",
       "  <th>Dep. Variable:</th>          <td>sleep</td>      <th>  R-squared:         </th> <td>   0.123</td>\n",
       "</tr>\n",
       "<tr>\n",
       "  <th>Model:</th>                   <td>OLS</td>       <th>  Adj. R-squared:    </th> <td>   0.108</td>\n",
       "</tr>\n",
       "<tr>\n",
       "  <th>Method:</th>             <td>Least Squares</td>  <th>  F-statistic:       </th> <td>   8.117</td>\n",
       "</tr>\n",
       "<tr>\n",
       "  <th>Date:</th>             <td>Thu, 27 Apr 2023</td> <th>  Prob (F-statistic):</th> <td>2.59e-11</td>\n",
       "</tr>\n",
       "<tr>\n",
       "  <th>Time:</th>                 <td>20:00:36</td>     <th>  Log-Likelihood:    </th> <td> -3946.7</td>\n",
       "</tr>\n",
       "<tr>\n",
       "  <th>No. Observations:</th>      <td>   532</td>      <th>  AIC:               </th> <td>   7913.</td>\n",
       "</tr>\n",
       "<tr>\n",
       "  <th>Df Residuals:</th>          <td>   522</td>      <th>  BIC:               </th> <td>   7956.</td>\n",
       "</tr>\n",
       "<tr>\n",
       "  <th>Df Model:</th>              <td>     9</td>      <th>                     </th>     <td> </td>   \n",
       "</tr>\n",
       "<tr>\n",
       "  <th>Covariance Type:</th>      <td>nonrobust</td>    <th>                     </th>     <td> </td>   \n",
       "</tr>\n",
       "</table>\n",
       "<table class=\"simpletable\">\n",
       "<tr>\n",
       "         <td></td>           <th>coef</th>     <th>std err</th>      <th>t</th>      <th>P>|t|</th>  <th>[0.025</th>    <th>0.975]</th>  \n",
       "</tr>\n",
       "<tr>\n",
       "  <th>Intercept</th>      <td> 3431.8036</td> <td>   96.309</td> <td>   35.633</td> <td> 0.000</td> <td> 3242.602</td> <td> 3621.005</td>\n",
       "</tr>\n",
       "<tr>\n",
       "  <th>totwrk</th>         <td>   -0.1581</td> <td>    0.021</td> <td>   -7.576</td> <td> 0.000</td> <td>   -0.199</td> <td>   -0.117</td>\n",
       "</tr>\n",
       "<tr>\n",
       "  <th>age</th>            <td>    2.4371</td> <td>    1.672</td> <td>    1.458</td> <td> 0.146</td> <td>   -0.847</td> <td>    5.721</td>\n",
       "</tr>\n",
       "<tr>\n",
       "  <th>south</th>          <td>   78.0461</td> <td>   45.287</td> <td>    1.723</td> <td> 0.085</td> <td>  -10.921</td> <td>  167.014</td>\n",
       "</tr>\n",
       "<tr>\n",
       "  <th>male</th>           <td>   36.4854</td> <td>   43.350</td> <td>    0.842</td> <td> 0.400</td> <td>  -48.677</td> <td>  121.648</td>\n",
       "</tr>\n",
       "<tr>\n",
       "  <th>smsa</th>           <td>  -34.9646</td> <td>   38.232</td> <td>   -0.915</td> <td> 0.361</td> <td> -110.072</td> <td>   40.143</td>\n",
       "</tr>\n",
       "<tr>\n",
       "  <th>yngkid</th>         <td>   50.1365</td> <td>   54.790</td> <td>    0.915</td> <td> 0.361</td> <td>  -57.499</td> <td>  157.772</td>\n",
       "</tr>\n",
       "<tr>\n",
       "  <th>marr</th>           <td>   54.0716</td> <td>   46.920</td> <td>    1.152</td> <td> 0.250</td> <td>  -38.104</td> <td>  146.247</td>\n",
       "</tr>\n",
       "<tr>\n",
       "  <th>union</th>          <td>   27.0187</td> <td>   43.044</td> <td>    0.628</td> <td> 0.530</td> <td>  -57.542</td> <td>  111.580</td>\n",
       "</tr>\n",
       "<tr>\n",
       "  <th>np.log(hrwage)</th> <td>   -2.7268</td> <td>   32.202</td> <td>   -0.085</td> <td> 0.933</td> <td>  -65.989</td> <td>   60.536</td>\n",
       "</tr>\n",
       "</table>\n",
       "<table class=\"simpletable\">\n",
       "<tr>\n",
       "  <th>Omnibus:</th>       <td>15.286</td> <th>  Durbin-Watson:     </th> <td>   1.925</td>\n",
       "</tr>\n",
       "<tr>\n",
       "  <th>Prob(Omnibus):</th> <td> 0.000</td> <th>  Jarque-Bera (JB):  </th> <td>  28.860</td>\n",
       "</tr>\n",
       "<tr>\n",
       "  <th>Skew:</th>          <td>-0.128</td> <th>  Prob(JB):          </th> <td>5.41e-07</td>\n",
       "</tr>\n",
       "<tr>\n",
       "  <th>Kurtosis:</th>      <td> 4.112</td> <th>  Cond. No.          </th> <td>1.35e+04</td>\n",
       "</tr>\n",
       "</table><br/><br/>Notes:<br/>[1] Standard Errors assume that the covariance matrix of the errors is correctly specified.<br/>[2] The condition number is large, 1.35e+04. This might indicate that there are<br/>strong multicollinearity or other numerical problems."
      ],
      "text/plain": [
       "<class 'statsmodels.iolib.summary.Summary'>\n",
       "\"\"\"\n",
       "                            OLS Regression Results                            \n",
       "==============================================================================\n",
       "Dep. Variable:                  sleep   R-squared:                       0.123\n",
       "Model:                            OLS   Adj. R-squared:                  0.108\n",
       "Method:                 Least Squares   F-statistic:                     8.117\n",
       "Date:                Thu, 27 Apr 2023   Prob (F-statistic):           2.59e-11\n",
       "Time:                        20:00:36   Log-Likelihood:                -3946.7\n",
       "No. Observations:                 532   AIC:                             7913.\n",
       "Df Residuals:                     522   BIC:                             7956.\n",
       "Df Model:                           9                                         \n",
       "Covariance Type:            nonrobust                                         \n",
       "==================================================================================\n",
       "                     coef    std err          t      P>|t|      [0.025      0.975]\n",
       "----------------------------------------------------------------------------------\n",
       "Intercept       3431.8036     96.309     35.633      0.000    3242.602    3621.005\n",
       "totwrk            -0.1581      0.021     -7.576      0.000      -0.199      -0.117\n",
       "age                2.4371      1.672      1.458      0.146      -0.847       5.721\n",
       "south             78.0461     45.287      1.723      0.085     -10.921     167.014\n",
       "male              36.4854     43.350      0.842      0.400     -48.677     121.648\n",
       "smsa             -34.9646     38.232     -0.915      0.361    -110.072      40.143\n",
       "yngkid            50.1365     54.790      0.915      0.361     -57.499     157.772\n",
       "marr              54.0716     46.920      1.152      0.250     -38.104     146.247\n",
       "union             27.0187     43.044      0.628      0.530     -57.542     111.580\n",
       "np.log(hrwage)    -2.7268     32.202     -0.085      0.933     -65.989      60.536\n",
       "==============================================================================\n",
       "Omnibus:                       15.286   Durbin-Watson:                   1.925\n",
       "Prob(Omnibus):                  0.000   Jarque-Bera (JB):               28.860\n",
       "Skew:                          -0.128   Prob(JB):                     5.41e-07\n",
       "Kurtosis:                       4.112   Cond. No.                     1.35e+04\n",
       "==============================================================================\n",
       "\n",
       "Notes:\n",
       "[1] Standard Errors assume that the covariance matrix of the errors is correctly specified.\n",
       "[2] The condition number is large, 1.35e+04. This might indicate that there are\n",
       "strong multicollinearity or other numerical problems.\n",
       "\"\"\""
      ]
     },
     "execution_count": 32,
     "metadata": {},
     "output_type": "execute_result"
    }
   ],
   "source": [
    "mod2.summary()"
   ]
  },
  {
   "cell_type": "code",
   "execution_count": 41,
   "id": "86316402",
   "metadata": {},
   "outputs": [
    {
     "data": {
      "text/plain": [
       "(532.0, 9.0, 522.0)"
      ]
     },
     "execution_count": 41,
     "metadata": {},
     "output_type": "execute_result"
    }
   ],
   "source": [
    "# Число наблюдений в модели, число регрессоров и степени свободы для t_cr\n",
    "mod2.nobs, mod2.df_model, mod2.df_resid"
   ]
  },
  {
   "cell_type": "code",
   "execution_count": 42,
   "id": "73f3db35",
   "metadata": {},
   "outputs": [
    {
     "ename": "NameError",
     "evalue": "name 't' is not defined",
     "output_type": "error",
     "traceback": [
      "\u001b[1;31m---------------------------------------------------------------------------\u001b[0m",
      "\u001b[1;31mNameError\u001b[0m                                 Traceback (most recent call last)",
      "\u001b[1;32m~\\AppData\\Local\\Temp\\ipykernel_13196\\2157094562.py\u001b[0m in \u001b[0;36m<module>\u001b[1;34m\u001b[0m\n\u001b[0;32m      1\u001b[0m \u001b[1;31m# 10%-критическое значение t-распределения\u001b[0m\u001b[1;33m\u001b[0m\u001b[1;33m\u001b[0m\u001b[0m\n\u001b[1;32m----> 2\u001b[1;33m \u001b[0mt\u001b[0m\u001b[1;33m.\u001b[0m\u001b[0mppf\u001b[0m\u001b[1;33m(\u001b[0m\u001b[0mq\u001b[0m\u001b[1;33m=\u001b[0m\u001b[1;36m1\u001b[0m\u001b[1;33m-\u001b[0m\u001b[1;36m0.01\u001b[0m\u001b[1;33m/\u001b[0m\u001b[1;36m2\u001b[0m\u001b[1;33m,\u001b[0m \u001b[0mdf\u001b[0m\u001b[1;33m=\u001b[0m\u001b[0mmod2\u001b[0m\u001b[1;33m.\u001b[0m\u001b[0mdf_resid\u001b[0m\u001b[1;33m)\u001b[0m\u001b[1;33m\u001b[0m\u001b[1;33m\u001b[0m\u001b[0m\n\u001b[0m",
      "\u001b[1;31mNameError\u001b[0m: name 't' is not defined"
     ]
    }
   ],
   "source": [
    "# 10%-критическое значение t-распределения\n",
    "t.ppf(q=1-0.01/2, df=mod2.df_resid)"
   ]
  },
  {
   "cell_type": "code",
   "execution_count": 48,
   "id": "5a1a2857",
   "metadata": {},
   "outputs": [
    {
     "data": {
      "text/plain": [
       "1.647777943912296"
      ]
     },
     "execution_count": 48,
     "metadata": {},
     "output_type": "execute_result"
    }
   ],
   "source": [
    "t_critil = stats.t.ppf(1 - (0.1/2), 532 - 10)\n",
    "t_critil"
   ]
  },
  {
   "cell_type": "code",
   "execution_count": 49,
   "id": "f19ee145",
   "metadata": {},
   "outputs": [],
   "source": [
    "#a=0,1 (10%); ecли от pvalue (sleep) >0,1 коэффициент незначимый, асли pvalue < 0,1 (то значимый)"
   ]
  },
  {
   "cell_type": "markdown",
   "id": "22614207",
   "metadata": {},
   "source": [
    "# 2.4 Задача (cost equation 2)\n",
    "\n",
    "Для набора данных Electricity рассмотрим линейную регрессию log(cost) на log(q), log(pl), log(pk), log(pf)\n"
   ]
  },
  {
   "cell_type": "code",
   "execution_count": 57,
   "id": "bae300dc",
   "metadata": {},
   "outputs": [],
   "source": [
    "import pandas as pd\n",
    "import numpy as np\n",
    "import statsmodels.formula.api as smf\n",
    "import statsmodels.api as sm\n",
    "from statsmodels.iolib.summary2 import summary_params # вывод результатов тестирования\n",
    "from scipy.stats import t # t-распределение"
   ]
  },
  {
   "cell_type": "code",
   "execution_count": 58,
   "id": "6a4f22c9",
   "metadata": {},
   "outputs": [
    {
     "data": {
      "text/plain": [
       "Intercept    -7.472\n",
       "np.log(q)     0.838\n",
       "np.log(pl)    0.044\n",
       "np.log(pk)    0.188\n",
       "np.log(pf)    0.713\n",
       "dtype: float64"
      ]
     },
     "execution_count": 58,
     "metadata": {},
     "output_type": "execute_result"
    }
   ],
   "source": [
    "# Загрузим данные\n",
    "df_sleep = pd.read_csv('Electricity.csv')\n",
    "mod3 = smf.ols(formula='np.log(cost)~np.log(q)+np.log(pl)+np.log(pk)+np.log(pf)', \n",
    "                       data=df_sleep).fit()\n",
    "# коэффициенты\n",
    "mod3.params.round(3)"
   ]
  },
  {
   "cell_type": "code",
   "execution_count": 59,
   "id": "91ccad73",
   "metadata": {},
   "outputs": [
    {
     "data": {
      "text/plain": [
       "Intercept     -7.028\n",
       "np.log(q)     89.284\n",
       "np.log(pl)     0.418\n",
       "np.log(pk)     2.164\n",
       "np.log(pf)    11.081\n",
       "dtype: float64"
      ]
     },
     "execution_count": 59,
     "metadata": {},
     "output_type": "execute_result"
    }
   ],
   "source": [
    "# t-статистики\n",
    "mod3.tvalues.round(3)"
   ]
  },
  {
   "cell_type": "code",
   "execution_count": 60,
   "id": "de36926f",
   "metadata": {},
   "outputs": [
    {
     "data": {
      "text/html": [
       "<table class=\"simpletable\">\n",
       "<tr>\n",
       "         <td></td>           <th>coef</th>     <th>std err</th>      <th>t</th>      <th>P>|t|</th>  <th>[0.025</th>    <th>0.975]</th>  \n",
       "</tr>\n",
       "<tr>\n",
       "  <th>Intercept</th>      <td> 3431.8036</td> <td>   96.309</td> <td>   35.633</td> <td> 0.000</td> <td> 3242.602</td> <td> 3621.005</td>\n",
       "</tr>\n",
       "<tr>\n",
       "  <th>totwrk</th>         <td>   -0.1581</td> <td>    0.021</td> <td>   -7.576</td> <td> 0.000</td> <td>   -0.199</td> <td>   -0.117</td>\n",
       "</tr>\n",
       "<tr>\n",
       "  <th>age</th>            <td>    2.4371</td> <td>    1.672</td> <td>    1.458</td> <td> 0.146</td> <td>   -0.847</td> <td>    5.721</td>\n",
       "</tr>\n",
       "<tr>\n",
       "  <th>south</th>          <td>   78.0461</td> <td>   45.287</td> <td>    1.723</td> <td> 0.085</td> <td>  -10.921</td> <td>  167.014</td>\n",
       "</tr>\n",
       "<tr>\n",
       "  <th>male</th>           <td>   36.4854</td> <td>   43.350</td> <td>    0.842</td> <td> 0.400</td> <td>  -48.677</td> <td>  121.648</td>\n",
       "</tr>\n",
       "<tr>\n",
       "  <th>smsa</th>           <td>  -34.9646</td> <td>   38.232</td> <td>   -0.915</td> <td> 0.361</td> <td> -110.072</td> <td>   40.143</td>\n",
       "</tr>\n",
       "<tr>\n",
       "  <th>yngkid</th>         <td>   50.1365</td> <td>   54.790</td> <td>    0.915</td> <td> 0.361</td> <td>  -57.499</td> <td>  157.772</td>\n",
       "</tr>\n",
       "<tr>\n",
       "  <th>marr</th>           <td>   54.0716</td> <td>   46.920</td> <td>    1.152</td> <td> 0.250</td> <td>  -38.104</td> <td>  146.247</td>\n",
       "</tr>\n",
       "<tr>\n",
       "  <th>union</th>          <td>   27.0187</td> <td>   43.044</td> <td>    0.628</td> <td> 0.530</td> <td>  -57.542</td> <td>  111.580</td>\n",
       "</tr>\n",
       "<tr>\n",
       "  <th>np.log(hrwage)</th> <td>   -2.7268</td> <td>   32.202</td> <td>   -0.085</td> <td> 0.933</td> <td>  -65.989</td> <td>   60.536</td>\n",
       "</tr>\n",
       "</table>"
      ],
      "text/plain": [
       "<class 'statsmodels.iolib.table.SimpleTable'>"
      ]
     },
     "execution_count": 60,
     "metadata": {},
     "output_type": "execute_result"
    }
   ],
   "source": [
    "table = mod2.summary().tables[1]\n",
    "table\n",
    "#КРУТАЯ ФОРМУЛА!!!"
   ]
  },
  {
   "cell_type": "code",
   "execution_count": 61,
   "id": "2edd12f0",
   "metadata": {},
   "outputs": [
    {
     "data": {
      "text/html": [
       "<table class=\"simpletable\">\n",
       "<tr>\n",
       "       <td></td>         <th>coef</th>     <th>std err</th>      <th>t</th>      <th>P>|t|</th>  <th>[0.025</th>    <th>0.975]</th>  \n",
       "</tr>\n",
       "<tr>\n",
       "  <th>Intercept</th>  <td>   -7.4722</td> <td>    1.063</td> <td>   -7.028</td> <td> 0.000</td> <td>   -9.573</td> <td>   -5.372</td>\n",
       "</tr>\n",
       "<tr>\n",
       "  <th>np.log(q)</th>  <td>    0.8381</td> <td>    0.009</td> <td>   89.284</td> <td> 0.000</td> <td>    0.820</td> <td>    0.857</td>\n",
       "</tr>\n",
       "<tr>\n",
       "  <th>np.log(pl)</th> <td>    0.0443</td> <td>    0.106</td> <td>    0.418</td> <td> 0.676</td> <td>   -0.165</td> <td>    0.253</td>\n",
       "</tr>\n",
       "<tr>\n",
       "  <th>np.log(pk)</th> <td>    0.1884</td> <td>    0.087</td> <td>    2.164</td> <td> 0.032</td> <td>    0.016</td> <td>    0.360</td>\n",
       "</tr>\n",
       "<tr>\n",
       "  <th>np.log(pf)</th> <td>    0.7131</td> <td>    0.064</td> <td>   11.081</td> <td> 0.000</td> <td>    0.586</td> <td>    0.840</td>\n",
       "</tr>\n",
       "</table>"
      ],
      "text/plain": [
       "<class 'statsmodels.iolib.table.SimpleTable'>"
      ]
     },
     "execution_count": 61,
     "metadata": {},
     "output_type": "execute_result"
    }
   ],
   "source": [
    "table = mod3.summary().tables[1]\n",
    "table"
   ]
  },
  {
   "cell_type": "code",
   "execution_count": 69,
   "id": "e2dfb202",
   "metadata": {},
   "outputs": [
    {
     "data": {
      "text/plain": [
       "<class 'statsmodels.stats.contrast.ContrastResults'>\n",
       "                             Test for Constraints                             \n",
       "==============================================================================\n",
       "                 coef    std err          t      P>|t|      [0.025      0.975]\n",
       "------------------------------------------------------------------------------\n",
       "c0             0.7131      0.064     -4.458      0.000       0.586       0.840\n",
       "=============================================================================="
      ]
     },
     "execution_count": 69,
     "metadata": {},
     "output_type": "execute_result"
    }
   ],
   "source": [
    "mod3.t_test('np.log(pf)=1')"
   ]
  },
  {
   "cell_type": "code",
   "execution_count": 65,
   "id": "528d9161",
   "metadata": {},
   "outputs": [
    {
     "data": {
      "text/plain": [
       "1.65"
      ]
     },
     "execution_count": 65,
     "metadata": {},
     "output_type": "execute_result"
    }
   ],
   "source": [
    "# 10%-критическое значение t-распределения\n",
    "t.ppf(q=1-0.1/2, df=mod3.df_resid).round(2)"
   ]
  },
  {
   "cell_type": "code",
   "execution_count": 70,
   "id": "2188fbea",
   "metadata": {},
   "outputs": [
    {
     "data": {
      "text/plain": [
       "<class 'statsmodels.stats.contrast.ContrastResults'>\n",
       "                             Test for Constraints                             \n",
       "==============================================================================\n",
       "                 coef    std err          t      P>|t|      [0.025      0.975]\n",
       "------------------------------------------------------------------------------\n",
       "c0             0.7131      0.064     -4.458      0.000       0.586       0.840\n",
       "=============================================================================="
      ]
     },
     "execution_count": 70,
     "metadata": {},
     "output_type": "execute_result"
    }
   ],
   "source": [
    "mod3.t_test('np.log(pf)=1')\n",
    "# показывает t-статистику"
   ]
  },
  {
   "cell_type": "code",
   "execution_count": null,
   "id": "5be7b98c",
   "metadata": {},
   "outputs": [],
   "source": []
  }
 ],
 "metadata": {
  "kernelspec": {
   "display_name": "Python 3 (ipykernel)",
   "language": "python",
   "name": "python3"
  },
  "language_info": {
   "codemirror_mode": {
    "name": "ipython",
    "version": 3
   },
   "file_extension": ".py",
   "mimetype": "text/x-python",
   "name": "python",
   "nbconvert_exporter": "python",
   "pygments_lexer": "ipython3",
   "version": "3.9.13"
  }
 },
 "nbformat": 4,
 "nbformat_minor": 5
}

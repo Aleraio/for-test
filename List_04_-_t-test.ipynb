{
 "cells": [
  {
   "cell_type": "markdown",
   "id": "966fe26a",
   "metadata": {},
   "source": [
    "# Задача №1.1"
   ]
  },
  {
   "cell_type": "code",
   "execution_count": 1,
   "id": "727d34a5",
   "metadata": {},
   "outputs": [],
   "source": [
    "import pandas as pd\n",
    "import numpy as np\n",
    "import statsmodels.formula.api as smf\n",
    "import statsmodels.api as sm\n",
    "from statsmodels.iolib.summary2 import summary_params # вывод результатов тестирования\n",
    "from scipy.stats import t # t-распределение"
   ]
  },
  {
   "cell_type": "code",
   "execution_count": 2,
   "id": "d6065ea1",
   "metadata": {},
   "outputs": [
    {
     "data": {
      "text/plain": [
       "Intercept    3446.830\n",
       "totwrk         -0.169\n",
       "age             2.714\n",
       "south         102.272\n",
       "male           87.108\n",
       "smsa          -54.188\n",
       "yngkid        -13.051\n",
       "marr           31.360\n",
       "union          11.866\n",
       "dtype: float64"
      ]
     },
     "execution_count": 2,
     "metadata": {},
     "output_type": "execute_result"
    }
   ],
   "source": [
    "# Загрузим данные\n",
    "df_sleep = pd.read_csv('https://raw.githubusercontent.com/artamonoff/Econometrica/master/python-notebooks/data-csv/sleep75.csv')\n",
    "mod1 = smf.ols(formula='sleep~totwrk+age+south+male+smsa+yngkid+marr+union', \n",
    "                       data=df_sleep).fit()\n",
    "# коэффициенты\n",
    "mod1.params.round(3)"
   ]
  },
  {
   "cell_type": "code",
   "execution_count": 4,
   "id": "f2fa0c83",
   "metadata": {},
   "outputs": [
    {
     "data": {
      "text/plain": [
       "Intercept    42.117\n",
       "totwrk       -9.358\n",
       "age           1.844\n",
       "south         2.439\n",
       "male          2.477\n",
       "smsa         -1.632\n",
       "yngkid       -0.259\n",
       "marr          0.742\n",
       "union         0.311\n",
       "dtype: float64"
      ]
     },
     "execution_count": 4,
     "metadata": {},
     "output_type": "execute_result"
    }
   ],
   "source": [
    "# t-статистики\n",
    "mod1.tvalues.round(3)"
   ]
  },
  {
   "cell_type": "markdown",
   "id": "69a154dd",
   "metadata": {},
   "source": [
    "# Задача №1.2"
   ]
  },
  {
   "cell_type": "code",
   "execution_count": 5,
   "id": "2dc9a81b",
   "metadata": {},
   "outputs": [
    {
     "data": {
      "text/plain": [
       "Intercept         3431.804\n",
       "totwrk              -0.158\n",
       "age                  2.437\n",
       "south               78.046\n",
       "male                36.485\n",
       "smsa               -34.965\n",
       "yngkid              50.136\n",
       "marr                54.072\n",
       "union               27.019\n",
       "np.log(hrwage)      -2.727\n",
       "dtype: float64"
      ]
     },
     "execution_count": 5,
     "metadata": {},
     "output_type": "execute_result"
    }
   ],
   "source": [
    "# Загрузим данные\n",
    "df_sleep = pd.read_csv('https://raw.githubusercontent.com/artamonoff/Econometrica/master/python-notebooks/data-csv/sleep75.csv')\n",
    "mod1 = smf.ols(formula='sleep~totwrk+age+south+male+smsa+yngkid+marr+union+np.log(hrwage)', \n",
    "                       data=df_sleep).fit()\n",
    "# коэффициенты\n",
    "mod1.params.round(3)"
   ]
  },
  {
   "cell_type": "code",
   "execution_count": 6,
   "id": "f7242b85",
   "metadata": {},
   "outputs": [
    {
     "data": {
      "text/plain": [
       "(532.0, 9.0, 522.0)"
      ]
     },
     "execution_count": 6,
     "metadata": {},
     "output_type": "execute_result"
    }
   ],
   "source": [
    "# Число наблюдений в модели, число регрессоров и степени свободы для t_cr\n",
    "mod1.nobs, mod1.df_model, mod1.df_resid"
   ]
  },
  {
   "cell_type": "code",
   "execution_count": 8,
   "id": "588283b4",
   "metadata": {},
   "outputs": [
    {
     "data": {
      "text/plain": [
       "1.648"
      ]
     },
     "execution_count": 8,
     "metadata": {},
     "output_type": "execute_result"
    }
   ],
   "source": [
    "# 10%-критическое значение t-распределения\n",
    "t.ppf(q=1-0.1/2, df=mod1.df_resid).round(3)"
   ]
  },
  {
   "cell_type": "code",
   "execution_count": 9,
   "id": "dab2ad93",
   "metadata": {},
   "outputs": [
    {
     "data": {
      "text/html": [
       "<div>\n",
       "<style scoped>\n",
       "    .dataframe tbody tr th:only-of-type {\n",
       "        vertical-align: middle;\n",
       "    }\n",
       "\n",
       "    .dataframe tbody tr th {\n",
       "        vertical-align: top;\n",
       "    }\n",
       "\n",
       "    .dataframe thead th {\n",
       "        text-align: right;\n",
       "    }\n",
       "</style>\n",
       "<table border=\"1\" class=\"dataframe\">\n",
       "  <thead>\n",
       "    <tr style=\"text-align: right;\">\n",
       "      <th></th>\n",
       "      <th>Coef.</th>\n",
       "      <th>Std.Err.</th>\n",
       "      <th>t</th>\n",
       "      <th>P&gt;|t|</th>\n",
       "      <th>[0.025</th>\n",
       "      <th>0.975]</th>\n",
       "    </tr>\n",
       "  </thead>\n",
       "  <tbody>\n",
       "    <tr>\n",
       "      <th>Intercept</th>\n",
       "      <td>3431.803558</td>\n",
       "      <td>96.309432</td>\n",
       "      <td>35.633099</td>\n",
       "      <td>6.698446e-142</td>\n",
       "      <td>3242.601854</td>\n",
       "      <td>3621.005262</td>\n",
       "    </tr>\n",
       "    <tr>\n",
       "      <th>totwrk</th>\n",
       "      <td>-0.158079</td>\n",
       "      <td>0.020867</td>\n",
       "      <td>-7.575548</td>\n",
       "      <td>1.638747e-13</td>\n",
       "      <td>-0.199073</td>\n",
       "      <td>-0.117086</td>\n",
       "    </tr>\n",
       "    <tr>\n",
       "      <th>age</th>\n",
       "      <td>2.437082</td>\n",
       "      <td>1.671818</td>\n",
       "      <td>1.457744</td>\n",
       "      <td>1.455125e-01</td>\n",
       "      <td>-0.847236</td>\n",
       "      <td>5.721400</td>\n",
       "    </tr>\n",
       "    <tr>\n",
       "      <th>south</th>\n",
       "      <td>78.046123</td>\n",
       "      <td>45.287154</td>\n",
       "      <td>1.723361</td>\n",
       "      <td>8.541540e-02</td>\n",
       "      <td>-10.921349</td>\n",
       "      <td>167.013595</td>\n",
       "    </tr>\n",
       "    <tr>\n",
       "      <th>male</th>\n",
       "      <td>36.485386</td>\n",
       "      <td>43.350193</td>\n",
       "      <td>0.841643</td>\n",
       "      <td>4.003732e-01</td>\n",
       "      <td>-48.676889</td>\n",
       "      <td>121.647661</td>\n",
       "    </tr>\n",
       "    <tr>\n",
       "      <th>smsa</th>\n",
       "      <td>-34.964643</td>\n",
       "      <td>38.231919</td>\n",
       "      <td>-0.914541</td>\n",
       "      <td>3.608551e-01</td>\n",
       "      <td>-110.071972</td>\n",
       "      <td>40.142686</td>\n",
       "    </tr>\n",
       "    <tr>\n",
       "      <th>yngkid</th>\n",
       "      <td>50.136466</td>\n",
       "      <td>54.789835</td>\n",
       "      <td>0.915069</td>\n",
       "      <td>3.605780e-01</td>\n",
       "      <td>-57.499204</td>\n",
       "      <td>157.772136</td>\n",
       "    </tr>\n",
       "    <tr>\n",
       "      <th>marr</th>\n",
       "      <td>54.071604</td>\n",
       "      <td>46.920123</td>\n",
       "      <td>1.152418</td>\n",
       "      <td>2.496767e-01</td>\n",
       "      <td>-38.103866</td>\n",
       "      <td>146.247073</td>\n",
       "    </tr>\n",
       "    <tr>\n",
       "      <th>union</th>\n",
       "      <td>27.018684</td>\n",
       "      <td>43.044039</td>\n",
       "      <td>0.627699</td>\n",
       "      <td>5.304759e-01</td>\n",
       "      <td>-57.542145</td>\n",
       "      <td>111.579514</td>\n",
       "    </tr>\n",
       "    <tr>\n",
       "      <th>np.log(hrwage)</th>\n",
       "      <td>-2.726776</td>\n",
       "      <td>32.202444</td>\n",
       "      <td>-0.084676</td>\n",
       "      <td>9.325514e-01</td>\n",
       "      <td>-65.989087</td>\n",
       "      <td>60.535535</td>\n",
       "    </tr>\n",
       "  </tbody>\n",
       "</table>\n",
       "</div>"
      ],
      "text/plain": [
       "                      Coef.   Std.Err.          t          P>|t|       [0.025  \\\n",
       "Intercept       3431.803558  96.309432  35.633099  6.698446e-142  3242.601854   \n",
       "totwrk            -0.158079   0.020867  -7.575548   1.638747e-13    -0.199073   \n",
       "age                2.437082   1.671818   1.457744   1.455125e-01    -0.847236   \n",
       "south             78.046123  45.287154   1.723361   8.541540e-02   -10.921349   \n",
       "male              36.485386  43.350193   0.841643   4.003732e-01   -48.676889   \n",
       "smsa             -34.964643  38.231919  -0.914541   3.608551e-01  -110.071972   \n",
       "yngkid            50.136466  54.789835   0.915069   3.605780e-01   -57.499204   \n",
       "marr              54.071604  46.920123   1.152418   2.496767e-01   -38.103866   \n",
       "union             27.018684  43.044039   0.627699   5.304759e-01   -57.542145   \n",
       "np.log(hrwage)    -2.726776  32.202444  -0.084676   9.325514e-01   -65.989087   \n",
       "\n",
       "                     0.975]  \n",
       "Intercept       3621.005262  \n",
       "totwrk            -0.117086  \n",
       "age                5.721400  \n",
       "south            167.013595  \n",
       "male             121.647661  \n",
       "smsa              40.142686  \n",
       "yngkid           157.772136  \n",
       "marr             146.247073  \n",
       "union            111.579514  \n",
       "np.log(hrwage)    60.535535  "
      ]
     },
     "execution_count": 9,
     "metadata": {},
     "output_type": "execute_result"
    }
   ],
   "source": [
    "summary_params(mod1) #.round(3)"
   ]
  },
  {
   "cell_type": "markdown",
   "id": "50ffffe0",
   "metadata": {},
   "source": [
    "Сравниваем t и t_cr"
   ]
  },
  {
   "cell_type": "markdown",
   "id": "68cf5cd1",
   "metadata": {},
   "source": [
    "#### Значимы: totwrk, south"
   ]
  },
  {
   "cell_type": "markdown",
   "id": "273f2919",
   "metadata": {},
   "source": [
    "# Задача №1.3"
   ]
  },
  {
   "cell_type": "code",
   "execution_count": 10,
   "id": "383179da",
   "metadata": {},
   "outputs": [
    {
     "data": {
      "text/plain": [
       "Intercept    4.974\n",
       "age          0.021\n",
       "IQ           0.008\n",
       "married      0.201\n",
       "south       -0.099\n",
       "urban        0.175\n",
       "dtype: float64"
      ]
     },
     "execution_count": 10,
     "metadata": {},
     "output_type": "execute_result"
    }
   ],
   "source": [
    "# Загрузим данные\n",
    "df_wage = pd.read_csv('https://raw.githubusercontent.com/artamonoff/Econometrica/master/python-notebooks/data-csv/wage2.csv')\n",
    "mod1 = smf.ols(formula='np.log(wage)~age+IQ+married+south+urban', \n",
    "                       data=df_wage).fit()\n",
    "# коэффициенты\n",
    "mod1.params.round(3)"
   ]
  },
  {
   "cell_type": "code",
   "execution_count": 13,
   "id": "30abffa9",
   "metadata": {},
   "outputs": [
    {
     "data": {
      "text/plain": [
       "Intercept    30.064\n",
       "age           5.303\n",
       "IQ            9.751\n",
       "married       4.993\n",
       "south        -3.690\n",
       "urban         6.331\n",
       "dtype: float64"
      ]
     },
     "execution_count": 13,
     "metadata": {},
     "output_type": "execute_result"
    }
   ],
   "source": [
    "# t-статистики\n",
    "mod1.tvalues.round(3)"
   ]
  },
  {
   "cell_type": "markdown",
   "id": "de7ab3e9",
   "metadata": {},
   "source": [
    "# Задача №1.4"
   ]
  },
  {
   "cell_type": "code",
   "execution_count": 14,
   "id": "37602483",
   "metadata": {},
   "outputs": [
    {
     "data": {
      "text/plain": [
       "(935.0, 5.0, 929.0)"
      ]
     },
     "execution_count": 14,
     "metadata": {},
     "output_type": "execute_result"
    }
   ],
   "source": [
    "# Число наблюдений в модели, число регрессоров и степени свободы для t_cr\n",
    "mod1.nobs, mod1.df_model, mod1.df_resid"
   ]
  },
  {
   "cell_type": "code",
   "execution_count": 16,
   "id": "22e1683e",
   "metadata": {},
   "outputs": [
    {
     "data": {
      "text/plain": [
       "2.581"
      ]
     },
     "execution_count": 16,
     "metadata": {},
     "output_type": "execute_result"
    }
   ],
   "source": [
    "# 1%-критическое значение t-распределения\n",
    "t.ppf(q=1-0.01/2, df=mod1.df_resid).round(3)"
   ]
  },
  {
   "cell_type": "code",
   "execution_count": 17,
   "id": "5437dfa5",
   "metadata": {},
   "outputs": [
    {
     "data": {
      "text/html": [
       "<div>\n",
       "<style scoped>\n",
       "    .dataframe tbody tr th:only-of-type {\n",
       "        vertical-align: middle;\n",
       "    }\n",
       "\n",
       "    .dataframe tbody tr th {\n",
       "        vertical-align: top;\n",
       "    }\n",
       "\n",
       "    .dataframe thead th {\n",
       "        text-align: right;\n",
       "    }\n",
       "</style>\n",
       "<table border=\"1\" class=\"dataframe\">\n",
       "  <thead>\n",
       "    <tr style=\"text-align: right;\">\n",
       "      <th></th>\n",
       "      <th>Coef.</th>\n",
       "      <th>Std.Err.</th>\n",
       "      <th>t</th>\n",
       "      <th>P&gt;|t|</th>\n",
       "      <th>[0.025</th>\n",
       "      <th>0.975]</th>\n",
       "    </tr>\n",
       "  </thead>\n",
       "  <tbody>\n",
       "    <tr>\n",
       "      <th>Intercept</th>\n",
       "      <td>4.974000</td>\n",
       "      <td>0.165445</td>\n",
       "      <td>30.064448</td>\n",
       "      <td>3.085870e-139</td>\n",
       "      <td>4.649312</td>\n",
       "      <td>5.298689</td>\n",
       "    </tr>\n",
       "    <tr>\n",
       "      <th>age</th>\n",
       "      <td>0.021253</td>\n",
       "      <td>0.004008</td>\n",
       "      <td>5.303079</td>\n",
       "      <td>1.423588e-07</td>\n",
       "      <td>0.013388</td>\n",
       "      <td>0.029118</td>\n",
       "    </tr>\n",
       "    <tr>\n",
       "      <th>IQ</th>\n",
       "      <td>0.008201</td>\n",
       "      <td>0.000841</td>\n",
       "      <td>9.750788</td>\n",
       "      <td>1.875548e-21</td>\n",
       "      <td>0.006551</td>\n",
       "      <td>0.009852</td>\n",
       "    </tr>\n",
       "    <tr>\n",
       "      <th>married</th>\n",
       "      <td>0.200980</td>\n",
       "      <td>0.040249</td>\n",
       "      <td>4.993462</td>\n",
       "      <td>7.081956e-07</td>\n",
       "      <td>0.121991</td>\n",
       "      <td>0.279969</td>\n",
       "    </tr>\n",
       "    <tr>\n",
       "      <th>south</th>\n",
       "      <td>-0.098978</td>\n",
       "      <td>0.026825</td>\n",
       "      <td>-3.689744</td>\n",
       "      <td>2.375286e-04</td>\n",
       "      <td>-0.151623</td>\n",
       "      <td>-0.046333</td>\n",
       "    </tr>\n",
       "    <tr>\n",
       "      <th>urban</th>\n",
       "      <td>0.174981</td>\n",
       "      <td>0.027637</td>\n",
       "      <td>6.331339</td>\n",
       "      <td>3.778537e-10</td>\n",
       "      <td>0.120742</td>\n",
       "      <td>0.229219</td>\n",
       "    </tr>\n",
       "  </tbody>\n",
       "</table>\n",
       "</div>"
      ],
      "text/plain": [
       "              Coef.  Std.Err.          t          P>|t|    [0.025    0.975]\n",
       "Intercept  4.974000  0.165445  30.064448  3.085870e-139  4.649312  5.298689\n",
       "age        0.021253  0.004008   5.303079   1.423588e-07  0.013388  0.029118\n",
       "IQ         0.008201  0.000841   9.750788   1.875548e-21  0.006551  0.009852\n",
       "married    0.200980  0.040249   4.993462   7.081956e-07  0.121991  0.279969\n",
       "south     -0.098978  0.026825  -3.689744   2.375286e-04 -0.151623 -0.046333\n",
       "urban      0.174981  0.027637   6.331339   3.778537e-10  0.120742  0.229219"
      ]
     },
     "execution_count": 17,
     "metadata": {},
     "output_type": "execute_result"
    }
   ],
   "source": [
    "summary_params(mod1) #.round(3)"
   ]
  },
  {
   "cell_type": "markdown",
   "id": "59f9fd71",
   "metadata": {},
   "source": [
    "Все коэффициенты значимы"
   ]
  },
  {
   "cell_type": "code",
   "execution_count": null,
   "id": "f6ce7902",
   "metadata": {},
   "outputs": [],
   "source": [
    "https://raw.githubusercontent.com/artamonoff/Econometrica/master/python-notebooks/data-csv/wage1.csv"
   ]
  },
  {
   "cell_type": "markdown",
   "id": "7fc35cbc",
   "metadata": {},
   "source": [
    "# Задача №1.6\n"
   ]
  },
  {
   "cell_type": "code",
   "execution_count": 18,
   "id": "a7129dcc",
   "metadata": {},
   "outputs": [
    {
     "data": {
      "text/plain": [
       "Intercept        1.250\n",
       "exper            0.037\n",
       "I(exper ** 2)   -0.001\n",
       "female          -0.363\n",
       "married          0.144\n",
       "smsa             0.273\n",
       "dtype: float64"
      ]
     },
     "execution_count": 18,
     "metadata": {},
     "output_type": "execute_result"
    }
   ],
   "source": [
    "# Загрузим данные\n",
    "df_wage = pd.read_csv('https://raw.githubusercontent.com/artamonoff/Econometrica/master/python-notebooks/data-csv/wage1.csv')\n",
    "mod1 = smf.ols(formula='np.log(wage)~exper+I(exper**2)+female+married+smsa', \n",
    "                       data=df_wage).fit()\n",
    "# коэффициенты\n",
    "mod1.params.round(3)"
   ]
  },
  {
   "cell_type": "code",
   "execution_count": 19,
   "id": "dcd5a0e2",
   "metadata": {},
   "outputs": [
    {
     "data": {
      "text/plain": [
       "(526.0, 5.0, 520.0)"
      ]
     },
     "execution_count": 19,
     "metadata": {},
     "output_type": "execute_result"
    }
   ],
   "source": [
    "# Число наблюдений в модели, число регрессоров и степени свободы для t_cr\n",
    "mod1.nobs, mod1.df_model, mod1.df_resid"
   ]
  },
  {
   "cell_type": "code",
   "execution_count": 20,
   "id": "7759f9a3",
   "metadata": {},
   "outputs": [
    {
     "data": {
      "text/plain": [
       "1.965"
      ]
     },
     "execution_count": 20,
     "metadata": {},
     "output_type": "execute_result"
    }
   ],
   "source": [
    "# 5%-критическое значение t-распределения\n",
    "t.ppf(q=1-0.05/2, df=mod1.df_resid).round(3)"
   ]
  },
  {
   "cell_type": "code",
   "execution_count": 21,
   "id": "b1ea642f",
   "metadata": {},
   "outputs": [
    {
     "data": {
      "text/html": [
       "<div>\n",
       "<style scoped>\n",
       "    .dataframe tbody tr th:only-of-type {\n",
       "        vertical-align: middle;\n",
       "    }\n",
       "\n",
       "    .dataframe tbody tr th {\n",
       "        vertical-align: top;\n",
       "    }\n",
       "\n",
       "    .dataframe thead th {\n",
       "        text-align: right;\n",
       "    }\n",
       "</style>\n",
       "<table border=\"1\" class=\"dataframe\">\n",
       "  <thead>\n",
       "    <tr style=\"text-align: right;\">\n",
       "      <th></th>\n",
       "      <th>Coef.</th>\n",
       "      <th>Std.Err.</th>\n",
       "      <th>t</th>\n",
       "      <th>P&gt;|t|</th>\n",
       "      <th>[0.025</th>\n",
       "      <th>0.975]</th>\n",
       "    </tr>\n",
       "  </thead>\n",
       "  <tbody>\n",
       "    <tr>\n",
       "      <th>Intercept</th>\n",
       "      <td>1.250423</td>\n",
       "      <td>0.061410</td>\n",
       "      <td>20.361986</td>\n",
       "      <td>3.281629e-68</td>\n",
       "      <td>1.129781</td>\n",
       "      <td>1.371064</td>\n",
       "    </tr>\n",
       "    <tr>\n",
       "      <th>exper</th>\n",
       "      <td>0.036880</td>\n",
       "      <td>0.005696</td>\n",
       "      <td>6.474140</td>\n",
       "      <td>2.209117e-10</td>\n",
       "      <td>0.025689</td>\n",
       "      <td>0.048071</td>\n",
       "    </tr>\n",
       "    <tr>\n",
       "      <th>I(exper ** 2)</th>\n",
       "      <td>-0.000772</td>\n",
       "      <td>0.000122</td>\n",
       "      <td>-6.327952</td>\n",
       "      <td>5.366468e-10</td>\n",
       "      <td>-0.001011</td>\n",
       "      <td>-0.000532</td>\n",
       "    </tr>\n",
       "    <tr>\n",
       "      <th>female</th>\n",
       "      <td>-0.362740</td>\n",
       "      <td>0.039744</td>\n",
       "      <td>-9.126902</td>\n",
       "      <td>1.551558e-18</td>\n",
       "      <td>-0.440818</td>\n",
       "      <td>-0.284661</td>\n",
       "    </tr>\n",
       "    <tr>\n",
       "      <th>married</th>\n",
       "      <td>0.143784</td>\n",
       "      <td>0.045491</td>\n",
       "      <td>3.160688</td>\n",
       "      <td>1.665675e-03</td>\n",
       "      <td>0.054415</td>\n",
       "      <td>0.233154</td>\n",
       "    </tr>\n",
       "    <tr>\n",
       "      <th>smsa</th>\n",
       "      <td>0.272562</td>\n",
       "      <td>0.044116</td>\n",
       "      <td>6.178354</td>\n",
       "      <td>1.308368e-09</td>\n",
       "      <td>0.185895</td>\n",
       "      <td>0.359229</td>\n",
       "    </tr>\n",
       "  </tbody>\n",
       "</table>\n",
       "</div>"
      ],
      "text/plain": [
       "                  Coef.  Std.Err.          t         P>|t|    [0.025    0.975]\n",
       "Intercept      1.250423  0.061410  20.361986  3.281629e-68  1.129781  1.371064\n",
       "exper          0.036880  0.005696   6.474140  2.209117e-10  0.025689  0.048071\n",
       "I(exper ** 2) -0.000772  0.000122  -6.327952  5.366468e-10 -0.001011 -0.000532\n",
       "female        -0.362740  0.039744  -9.126902  1.551558e-18 -0.440818 -0.284661\n",
       "married        0.143784  0.045491   3.160688  1.665675e-03  0.054415  0.233154\n",
       "smsa           0.272562  0.044116   6.178354  1.308368e-09  0.185895  0.359229"
      ]
     },
     "execution_count": 21,
     "metadata": {},
     "output_type": "execute_result"
    }
   ],
   "source": [
    "summary_params(mod1) #.round(3)"
   ]
  },
  {
   "cell_type": "markdown",
   "id": "86fcf23b",
   "metadata": {},
   "source": [
    "Все коэффициенты значимы"
   ]
  },
  {
   "cell_type": "markdown",
   "id": "63b1f06b",
   "metadata": {},
   "source": [
    "# Задача №1.5"
   ]
  },
  {
   "cell_type": "code",
   "execution_count": 23,
   "id": "be47d0aa",
   "metadata": {},
   "outputs": [
    {
     "data": {
      "text/plain": [
       "Intercept        20.362\n",
       "exper             6.474\n",
       "I(exper ** 2)    -6.328\n",
       "female           -9.127\n",
       "married           3.161\n",
       "smsa              6.178\n",
       "dtype: float64"
      ]
     },
     "execution_count": 23,
     "metadata": {},
     "output_type": "execute_result"
    }
   ],
   "source": [
    "# t-статистики\n",
    "mod1.tvalues.round(3)"
   ]
  },
  {
   "cell_type": "markdown",
   "id": "07955ae2",
   "metadata": {},
   "source": [
    "# Задача №1.7"
   ]
  },
  {
   "cell_type": "code",
   "execution_count": null,
   "id": "9ad7a2af",
   "metadata": {},
   "outputs": [],
   "source": [
    "https://raw.githubusercontent.com/artamonoff/Econometrica/master/python-notebooks/data-csv/Electricity.csv"
   ]
  },
  {
   "cell_type": "code",
   "execution_count": 24,
   "id": "e082a8c7",
   "metadata": {},
   "outputs": [
    {
     "data": {
      "text/plain": [
       "Intercept    -7.472\n",
       "np.log(q)     0.838\n",
       "np.log(pl)    0.044\n",
       "np.log(pk)    0.188\n",
       "np.log(pf)    0.713\n",
       "dtype: float64"
      ]
     },
     "execution_count": 24,
     "metadata": {},
     "output_type": "execute_result"
    }
   ],
   "source": [
    "# Загрузим данные\n",
    "df_electricity = pd.read_csv('https://raw.githubusercontent.com/artamonoff/Econometrica/master/python-notebooks/data-csv/Electricity.csv')\n",
    "mod1 = smf.ols(formula='np.log(cost)~np.log(q)+np.log(pl)+np.log(pk)+np.log(pf)', \n",
    "                       data=df_electricity).fit()\n",
    "# коэффициенты\n",
    "mod1.params.round(3)"
   ]
  },
  {
   "cell_type": "code",
   "execution_count": 26,
   "id": "c10571e5",
   "metadata": {},
   "outputs": [
    {
     "data": {
      "text/plain": [
       "Intercept     -7.028\n",
       "np.log(q)     89.284\n",
       "np.log(pl)     0.418\n",
       "np.log(pk)     2.164\n",
       "np.log(pf)    11.081\n",
       "dtype: float64"
      ]
     },
     "execution_count": 26,
     "metadata": {},
     "output_type": "execute_result"
    }
   ],
   "source": [
    "# t-статистики\n",
    "mod1.tvalues.round(3)"
   ]
  },
  {
   "cell_type": "markdown",
   "id": "930ba34c",
   "metadata": {},
   "source": [
    "# Задача №1.8"
   ]
  },
  {
   "cell_type": "code",
   "execution_count": 27,
   "id": "67a46e08",
   "metadata": {},
   "outputs": [
    {
     "data": {
      "text/plain": [
       "(158.0, 4.0, 153.0)"
      ]
     },
     "execution_count": 27,
     "metadata": {},
     "output_type": "execute_result"
    }
   ],
   "source": [
    "# Число наблюдений в модели, число регрессоров и степени свободы для t_cr\n",
    "mod1.nobs, mod1.df_model, mod1.df_resid"
   ]
  },
  {
   "cell_type": "code",
   "execution_count": 28,
   "id": "d6a9bdff",
   "metadata": {},
   "outputs": [
    {
     "data": {
      "text/plain": [
       "2.608344423122931"
      ]
     },
     "execution_count": 28,
     "metadata": {},
     "output_type": "execute_result"
    }
   ],
   "source": [
    "# 1%-критическое значение t-распределения\n",
    "t.ppf(q=1-0.01/2, df=mod1.df_resid)"
   ]
  },
  {
   "cell_type": "code",
   "execution_count": 29,
   "id": "002edb68",
   "metadata": {},
   "outputs": [
    {
     "data": {
      "text/html": [
       "<div>\n",
       "<style scoped>\n",
       "    .dataframe tbody tr th:only-of-type {\n",
       "        vertical-align: middle;\n",
       "    }\n",
       "\n",
       "    .dataframe tbody tr th {\n",
       "        vertical-align: top;\n",
       "    }\n",
       "\n",
       "    .dataframe thead th {\n",
       "        text-align: right;\n",
       "    }\n",
       "</style>\n",
       "<table border=\"1\" class=\"dataframe\">\n",
       "  <thead>\n",
       "    <tr style=\"text-align: right;\">\n",
       "      <th></th>\n",
       "      <th>Coef.</th>\n",
       "      <th>Std.Err.</th>\n",
       "      <th>t</th>\n",
       "      <th>P&gt;|t|</th>\n",
       "      <th>[0.025</th>\n",
       "      <th>0.975]</th>\n",
       "    </tr>\n",
       "  </thead>\n",
       "  <tbody>\n",
       "    <tr>\n",
       "      <th>Intercept</th>\n",
       "      <td>-7.472227</td>\n",
       "      <td>1.063238</td>\n",
       "      <td>-7.027801</td>\n",
       "      <td>6.490901e-11</td>\n",
       "      <td>-9.572750</td>\n",
       "      <td>-5.371704</td>\n",
       "    </tr>\n",
       "    <tr>\n",
       "      <th>np.log(q)</th>\n",
       "      <td>0.838111</td>\n",
       "      <td>0.009387</td>\n",
       "      <td>89.284492</td>\n",
       "      <td>6.942379e-134</td>\n",
       "      <td>0.819566</td>\n",
       "      <td>0.856656</td>\n",
       "    </tr>\n",
       "    <tr>\n",
       "      <th>np.log(pl)</th>\n",
       "      <td>0.044258</td>\n",
       "      <td>0.105820</td>\n",
       "      <td>0.418238</td>\n",
       "      <td>6.763595e-01</td>\n",
       "      <td>-0.164798</td>\n",
       "      <td>0.253314</td>\n",
       "    </tr>\n",
       "    <tr>\n",
       "      <th>np.log(pk)</th>\n",
       "      <td>0.188449</td>\n",
       "      <td>0.087066</td>\n",
       "      <td>2.164432</td>\n",
       "      <td>3.198211e-02</td>\n",
       "      <td>0.016442</td>\n",
       "      <td>0.360457</td>\n",
       "    </tr>\n",
       "    <tr>\n",
       "      <th>np.log(pf)</th>\n",
       "      <td>0.713098</td>\n",
       "      <td>0.064355</td>\n",
       "      <td>11.080610</td>\n",
       "      <td>2.552882e-21</td>\n",
       "      <td>0.585958</td>\n",
       "      <td>0.840238</td>\n",
       "    </tr>\n",
       "  </tbody>\n",
       "</table>\n",
       "</div>"
      ],
      "text/plain": [
       "               Coef.  Std.Err.          t          P>|t|    [0.025    0.975]\n",
       "Intercept  -7.472227  1.063238  -7.027801   6.490901e-11 -9.572750 -5.371704\n",
       "np.log(q)   0.838111  0.009387  89.284492  6.942379e-134  0.819566  0.856656\n",
       "np.log(pl)  0.044258  0.105820   0.418238   6.763595e-01 -0.164798  0.253314\n",
       "np.log(pk)  0.188449  0.087066   2.164432   3.198211e-02  0.016442  0.360457\n",
       "np.log(pf)  0.713098  0.064355  11.080610   2.552882e-21  0.585958  0.840238"
      ]
     },
     "execution_count": 29,
     "metadata": {},
     "output_type": "execute_result"
    }
   ],
   "source": [
    "summary_params(mod1) #.round(3)"
   ]
  },
  {
   "cell_type": "markdown",
   "id": "1daf0423",
   "metadata": {},
   "source": [
    "Значимы коэффициенты: Intercept, log(q), log(pf)"
   ]
  },
  {
   "cell_type": "markdown",
   "id": "5d8a530a",
   "metadata": {},
   "source": [
    "# Задача №2.1"
   ]
  },
  {
   "cell_type": "code",
   "execution_count": null,
   "id": "48442f20",
   "metadata": {},
   "outputs": [],
   "source": [
    "https://raw.githubusercontent.com/artamonoff/Econometrica/master/python-notebooks/data-csv/Labour.csv"
   ]
  },
  {
   "cell_type": "code",
   "execution_count": 30,
   "id": "ce6a6089",
   "metadata": {},
   "outputs": [
    {
     "data": {
      "text/plain": [
       "Intercept         -1.711\n",
       "np.log(capital)    0.208\n",
       "np.log(labour)     0.715\n",
       "dtype: float64"
      ]
     },
     "execution_count": 30,
     "metadata": {},
     "output_type": "execute_result"
    }
   ],
   "source": [
    "# Загрузим данные\n",
    "df_labour = pd.read_csv('https://raw.githubusercontent.com/artamonoff/Econometrica/master/python-notebooks/data-csv/Labour.csv')\n",
    "mod1 = smf.ols(formula='np.log(output)~np.log(capital)+np.log(labour)', \n",
    "                       data=df_labour).fit()\n",
    "# коэффициенты\n",
    "mod1.params.round(3)"
   ]
  },
  {
   "cell_type": "code",
   "execution_count": 36,
   "id": "2f365a80",
   "metadata": {},
   "outputs": [
    {
     "data": {
      "text/plain": [
       "<class 'statsmodels.stats.contrast.ContrastResults'>\n",
       "                             Test for Constraints                             \n",
       "==============================================================================\n",
       "                 coef    std err          t      P>|t|      [0.025      0.975]\n",
       "------------------------------------------------------------------------------\n",
       "c0             0.2076      0.017    -17.014      0.000       0.174       0.241\n",
       "=============================================================================="
      ]
     },
     "execution_count": 36,
     "metadata": {},
     "output_type": "execute_result"
    }
   ],
   "source": [
    "mod1.t_test('np.log(capital)=0.5')"
   ]
  },
  {
   "cell_type": "code",
   "execution_count": 37,
   "id": "d1229986",
   "metadata": {},
   "outputs": [
    {
     "data": {
      "text/plain": [
       "2.58"
      ]
     },
     "execution_count": 37,
     "metadata": {},
     "output_type": "execute_result"
    }
   ],
   "source": [
    "# 1%-критическое значение t-распределения\n",
    "t.ppf(q=1-0.01/2, df=mod1.df_resid).round(2)"
   ]
  },
  {
   "cell_type": "markdown",
   "id": "80330595",
   "metadata": {},
   "source": [
    "Так как t>t_cr, значимо"
   ]
  },
  {
   "cell_type": "markdown",
   "id": "d10e8c0c",
   "metadata": {},
   "source": [
    "# Задача №2.2"
   ]
  },
  {
   "cell_type": "code",
   "execution_count": 38,
   "id": "b0e5666e",
   "metadata": {},
   "outputs": [
    {
     "data": {
      "text/plain": [
       "<class 'statsmodels.stats.contrast.ContrastResults'>\n",
       "                             Test for Constraints                             \n",
       "==============================================================================\n",
       "                 coef    std err          t      P>|t|      [0.025      0.975]\n",
       "------------------------------------------------------------------------------\n",
       "c0             0.7148      0.023      0.642      0.521       0.669       0.760\n",
       "=============================================================================="
      ]
     },
     "execution_count": 38,
     "metadata": {},
     "output_type": "execute_result"
    }
   ],
   "source": [
    "mod1.t_test('np.log(labour)=0.7')"
   ]
  },
  {
   "cell_type": "code",
   "execution_count": 39,
   "id": "6bcd51e6",
   "metadata": {},
   "outputs": [
    {
     "data": {
      "text/plain": [
       "1.65"
      ]
     },
     "execution_count": 39,
     "metadata": {},
     "output_type": "execute_result"
    }
   ],
   "source": [
    "# 10%-критическое значение t-распределения\n",
    "t.ppf(q=1-0.1/2, df=mod1.df_resid).round(2)"
   ]
  },
  {
   "cell_type": "markdown",
   "id": "fa808fcd",
   "metadata": {},
   "source": [
    "Так как t<t_cr, незначимо"
   ]
  },
  {
   "cell_type": "markdown",
   "id": "10133a7d",
   "metadata": {},
   "source": [
    "# Задача №2.3"
   ]
  },
  {
   "cell_type": "code",
   "execution_count": 40,
   "id": "8c08139b",
   "metadata": {},
   "outputs": [
    {
     "data": {
      "text/plain": [
       "Intercept    -7.472\n",
       "np.log(q)     0.838\n",
       "np.log(pl)    0.044\n",
       "np.log(pk)    0.188\n",
       "np.log(pf)    0.713\n",
       "dtype: float64"
      ]
     },
     "execution_count": 40,
     "metadata": {},
     "output_type": "execute_result"
    }
   ],
   "source": [
    "# Загрузим данные\n",
    "df_electricity = pd.read_csv('https://raw.githubusercontent.com/artamonoff/Econometrica/master/python-notebooks/data-csv/Electricity.csv')\n",
    "mod1 = smf.ols(formula='np.log(cost)~np.log(q)+np.log(pl)+np.log(pk)+np.log(pf)', \n",
    "                       data=df_electricity).fit()\n",
    "# коэффициенты\n",
    "mod1.params.round(3)"
   ]
  },
  {
   "cell_type": "code",
   "execution_count": 41,
   "id": "cd99e57c",
   "metadata": {},
   "outputs": [
    {
     "data": {
      "text/plain": [
       "<class 'statsmodels.stats.contrast.ContrastResults'>\n",
       "                             Test for Constraints                             \n",
       "==============================================================================\n",
       "                 coef    std err          t      P>|t|      [0.025      0.975]\n",
       "------------------------------------------------------------------------------\n",
       "c0             0.8381      0.009    -17.246      0.000       0.820       0.857\n",
       "=============================================================================="
      ]
     },
     "execution_count": 41,
     "metadata": {},
     "output_type": "execute_result"
    }
   ],
   "source": [
    "mod1.t_test('np.log(q)=1')"
   ]
  },
  {
   "cell_type": "code",
   "execution_count": 44,
   "id": "25715a25",
   "metadata": {},
   "outputs": [
    {
     "data": {
      "text/plain": [
       "1.98"
      ]
     },
     "execution_count": 44,
     "metadata": {},
     "output_type": "execute_result"
    }
   ],
   "source": [
    "# 5%-критическое значение t-распределения\n",
    "t.ppf(q=1-0.05/2, df=mod1.df_resid).round(2)"
   ]
  },
  {
   "cell_type": "markdown",
   "id": "c036ce5d",
   "metadata": {},
   "source": [
    "Так как t>t_cr, значимо"
   ]
  },
  {
   "cell_type": "markdown",
   "id": "217530b8",
   "metadata": {},
   "source": [
    "# Задача №2.4"
   ]
  },
  {
   "cell_type": "code",
   "execution_count": 46,
   "id": "43bc1fbb",
   "metadata": {},
   "outputs": [
    {
     "data": {
      "text/plain": [
       "<class 'statsmodels.stats.contrast.ContrastResults'>\n",
       "                             Test for Constraints                             \n",
       "==============================================================================\n",
       "                 coef    std err          t      P>|t|      [0.025      0.975]\n",
       "------------------------------------------------------------------------------\n",
       "c0             0.7131      0.064     -4.458      0.000       0.586       0.840\n",
       "=============================================================================="
      ]
     },
     "execution_count": 46,
     "metadata": {},
     "output_type": "execute_result"
    }
   ],
   "source": [
    "mod1.t_test('np.log(pf)=1')"
   ]
  },
  {
   "cell_type": "code",
   "execution_count": 47,
   "id": "268dc732",
   "metadata": {},
   "outputs": [
    {
     "data": {
      "text/plain": [
       "1.65"
      ]
     },
     "execution_count": 47,
     "metadata": {},
     "output_type": "execute_result"
    }
   ],
   "source": [
    "# 10%-критическое значение t-распределения\n",
    "t.ppf(q=1-0.1/2, df=mod1.df_resid).round(2)"
   ]
  },
  {
   "cell_type": "markdown",
   "id": "5524de6f",
   "metadata": {},
   "source": [
    "Так как t>t_cr, значимо"
   ]
  },
  {
   "cell_type": "markdown",
   "id": "a7f2a566",
   "metadata": {},
   "source": [
    "# Задача №2.5"
   ]
  },
  {
   "cell_type": "code",
   "execution_count": 49,
   "id": "1fe34783",
   "metadata": {},
   "outputs": [
    {
     "data": {
      "text/plain": [
       "Intercept    3446.830\n",
       "totwrk         -0.169\n",
       "age             2.714\n",
       "south         102.272\n",
       "male           87.108\n",
       "smsa          -54.188\n",
       "yngkid        -13.051\n",
       "marr           31.360\n",
       "union          11.866\n",
       "dtype: float64"
      ]
     },
     "execution_count": 49,
     "metadata": {},
     "output_type": "execute_result"
    }
   ],
   "source": [
    "# Загрузим данные\n",
    "df_sleep = pd.read_csv('https://raw.githubusercontent.com/artamonoff/Econometrica/master/python-notebooks/data-csv/sleep75.csv')\n",
    "mod1 = smf.ols(formula='sleep~totwrk+age+south+male+smsa+yngkid+marr+union', \n",
    "                       data=df_sleep).fit()\n",
    "# коэффициенты\n",
    "mod1.params.round(3)"
   ]
  },
  {
   "cell_type": "code",
   "execution_count": 50,
   "id": "d4e9f7b4",
   "metadata": {},
   "outputs": [
    {
     "data": {
      "text/plain": [
       "<class 'statsmodels.stats.contrast.ContrastResults'>\n",
       "                             Test for Constraints                             \n",
       "==============================================================================\n",
       "                 coef    std err          t      P>|t|      [0.025      0.975]\n",
       "------------------------------------------------------------------------------\n",
       "c0            87.1081     35.173      2.448      0.015      18.050     156.166\n",
       "=============================================================================="
      ]
     },
     "execution_count": 50,
     "metadata": {},
     "output_type": "execute_result"
    }
   ],
   "source": [
    "mod1.t_test('male=1')"
   ]
  },
  {
   "cell_type": "code",
   "execution_count": 51,
   "id": "86b083ef",
   "metadata": {},
   "outputs": [
    {
     "data": {
      "text/plain": [
       "2.58"
      ]
     },
     "execution_count": 51,
     "metadata": {},
     "output_type": "execute_result"
    }
   ],
   "source": [
    "# 1%-критическое значение t-распределения\n",
    "t.ppf(q=1-0.01/2, df=mod1.df_resid).round(2)"
   ]
  },
  {
   "cell_type": "markdown",
   "id": "64704e90",
   "metadata": {},
   "source": [
    "Так как t<t_cr, незначимо"
   ]
  },
  {
   "cell_type": "markdown",
   "id": "c4ea33ab",
   "metadata": {},
   "source": [
    "# Задача №2.6"
   ]
  },
  {
   "cell_type": "code",
   "execution_count": 52,
   "id": "de34e8be",
   "metadata": {},
   "outputs": [
    {
     "data": {
      "text/plain": [
       "<class 'statsmodels.stats.contrast.ContrastResults'>\n",
       "                             Test for Constraints                             \n",
       "==============================================================================\n",
       "                 coef    std err          t      P>|t|      [0.025      0.975]\n",
       "------------------------------------------------------------------------------\n",
       "c0           102.2718     41.925      0.054      0.957      19.957     184.586\n",
       "=============================================================================="
      ]
     },
     "execution_count": 52,
     "metadata": {},
     "output_type": "execute_result"
    }
   ],
   "source": [
    "mod1.t_test('south=100')"
   ]
  },
  {
   "cell_type": "code",
   "execution_count": 53,
   "id": "331ae86b",
   "metadata": {},
   "outputs": [
    {
     "data": {
      "text/plain": [
       "2.58"
      ]
     },
     "execution_count": 53,
     "metadata": {},
     "output_type": "execute_result"
    }
   ],
   "source": [
    "# 1%-критическое значение t-распределения\n",
    "t.ppf(q=1-0.01/2, df=mod1.df_resid).round(2)"
   ]
  },
  {
   "cell_type": "markdown",
   "id": "f1f693a9",
   "metadata": {},
   "source": [
    "Так как t<t_cr, незначимо"
   ]
  }
 ],
 "metadata": {
  "kernelspec": {
   "display_name": "Python 3 (ipykernel)",
   "language": "python",
   "name": "python3"
  },
  "language_info": {
   "codemirror_mode": {
    "name": "ipython",
    "version": 3
   },
   "file_extension": ".py",
   "mimetype": "text/x-python",
   "name": "python",
   "nbconvert_exporter": "python",
   "pygments_lexer": "ipython3",
   "version": "3.9.13"
  }
 },
 "nbformat": 4,
 "nbformat_minor": 5
}

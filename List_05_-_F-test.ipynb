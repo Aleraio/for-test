{
 "cells": [
  {
   "cell_type": "markdown",
   "id": "3bf81355",
   "metadata": {},
   "source": [
    " # Значимость регрессии"
   ]
  },
  {
   "cell_type": "code",
   "execution_count": 1,
   "id": "a570ab4b",
   "metadata": {},
   "outputs": [],
   "source": [
    "import pandas as pd\n",
    "import numpy as np\n",
    "import statsmodels.formula.api as smf\n",
    "import statsmodels.api as sm\n",
    "from statsmodels.iolib.summary2 import summary_params # вывод результатов тестирования\n",
    "from scipy.stats import f # F-распределение"
   ]
  },
  {
   "cell_type": "markdown",
   "id": "9de99be3",
   "metadata": {},
   "source": [
    "# Задача №1.1"
   ]
  },
  {
   "cell_type": "markdown",
   "id": "056f374e",
   "metadata": {},
   "source": [
    "регрессия 1"
   ]
  },
  {
   "cell_type": "code",
   "execution_count": 4,
   "id": "36d6ee5d",
   "metadata": {},
   "outputs": [],
   "source": [
    "# загрузим данные\n",
    "sleep_df = pd.read_csv('https://raw.githubusercontent.com/artamonoff/Econometrica/master/python-notebooks/data-csv/sleep75.csv')\n",
    "# подгоним модель\n",
    "mod1 = smf.ols(formula='sleep~totwrk+age+I(age**2)+south+male+smsa+yngkid+marr+union', data=sleep_df).fit()"
   ]
  },
  {
   "cell_type": "code",
   "execution_count": 5,
   "id": "56c9436a",
   "metadata": {},
   "outputs": [
    {
     "data": {
      "text/plain": [
       "(11.803442151355283, 2.1244300478606626e-17)"
      ]
     },
     "execution_count": 5,
     "metadata": {},
     "output_type": "execute_result"
    }
   ],
   "source": [
    "mod1.fvalue, mod1.f_pvalue"
   ]
  },
  {
   "cell_type": "code",
   "execution_count": 6,
   "id": "e6b0de44",
   "metadata": {},
   "outputs": [
    {
     "data": {
      "text/plain": [
       "1.8933165104204854"
      ]
     },
     "execution_count": 6,
     "metadata": {},
     "output_type": "execute_result"
    }
   ],
   "source": [
    "f.ppf(q=1-0.05, dfn=mod1.df_model, dfd=mod1.df_resid)"
   ]
  },
  {
   "cell_type": "markdown",
   "id": "1b2855b7",
   "metadata": {},
   "source": [
    "Значима, так как f>f_cr"
   ]
  },
  {
   "cell_type": "markdown",
   "id": "c3e3e274",
   "metadata": {},
   "source": [
    "регрессия 2"
   ]
  },
  {
   "cell_type": "code",
   "execution_count": 7,
   "id": "8dbcbdb8",
   "metadata": {},
   "outputs": [],
   "source": [
    "# загрузим данные\n",
    "sleep_df = pd.read_csv('https://raw.githubusercontent.com/artamonoff/Econometrica/master/python-notebooks/data-csv/sleep75.csv')\n",
    "# подгоним модель\n",
    "mod2 = smf.ols(formula='sleep~totwrk+age+I(age**2)+south+male+smsa+yngkid', data=sleep_df).fit()"
   ]
  },
  {
   "cell_type": "code",
   "execution_count": 8,
   "id": "62b34843",
   "metadata": {},
   "outputs": [
    {
     "data": {
      "text/plain": [
       "(15.088695769858395, 1.9995051500717164e-18)"
      ]
     },
     "execution_count": 8,
     "metadata": {},
     "output_type": "execute_result"
    }
   ],
   "source": [
    "mod2.fvalue, mod2.f_pvalue"
   ]
  },
  {
   "cell_type": "code",
   "execution_count": 12,
   "id": "d2477777",
   "metadata": {},
   "outputs": [
    {
     "data": {
      "text/plain": [
       "2.0226806406648827"
      ]
     },
     "execution_count": 12,
     "metadata": {},
     "output_type": "execute_result"
    }
   ],
   "source": [
    "f.ppf(q=1-0.05, dfn=mod2.df_model, dfd=mod2.df_resid)"
   ]
  },
  {
   "cell_type": "markdown",
   "id": "16d6530f",
   "metadata": {},
   "source": [
    "Значима"
   ]
  },
  {
   "cell_type": "markdown",
   "id": "0d62445c",
   "metadata": {},
   "source": [
    "регрессия 3"
   ]
  },
  {
   "cell_type": "code",
   "execution_count": 10,
   "id": "1c6b7e97",
   "metadata": {},
   "outputs": [],
   "source": [
    "# загрузим данные\n",
    "sleep_df = pd.read_csv('https://raw.githubusercontent.com/artamonoff/Econometrica/master/python-notebooks/data-csv/sleep75.csv')\n",
    "# подгоним модель\n",
    "mod3 = smf.ols(formula='sleep~totwrk+age+I(age**2)+south+male', data=sleep_df).fit()"
   ]
  },
  {
   "cell_type": "code",
   "execution_count": 11,
   "id": "27edae08",
   "metadata": {},
   "outputs": [
    {
     "data": {
      "text/plain": [
       "(20.487702280817764, 4.0427909363510864e-19)"
      ]
     },
     "execution_count": 11,
     "metadata": {},
     "output_type": "execute_result"
    }
   ],
   "source": [
    "mod3.fvalue, mod3.f_pvalue"
   ]
  },
  {
   "cell_type": "code",
   "execution_count": 13,
   "id": "f720ac0c",
   "metadata": {},
   "outputs": [
    {
     "data": {
      "text/plain": [
       "2.2269007504933973"
      ]
     },
     "execution_count": 13,
     "metadata": {},
     "output_type": "execute_result"
    }
   ],
   "source": [
    "f.ppf(q=1-0.05, dfn=mod3.df_model, dfd=mod3.df_resid)"
   ]
  },
  {
   "cell_type": "markdown",
   "id": "ebd26e74",
   "metadata": {},
   "source": [
    "Значима"
   ]
  },
  {
   "cell_type": "markdown",
   "id": "a8213de2",
   "metadata": {},
   "source": [
    "регрессия 4"
   ]
  },
  {
   "cell_type": "code",
   "execution_count": 14,
   "id": "3b7206d8",
   "metadata": {},
   "outputs": [],
   "source": [
    "# загрузим данные\n",
    "sleep_df = pd.read_csv('https://raw.githubusercontent.com/artamonoff/Econometrica/master/python-notebooks/data-csv/sleep75.csv')\n",
    "# подгоним модель\n",
    "mod4 = smf.ols(formula='sleep~smsa+yngkid+marr+union', data=sleep_df).fit()"
   ]
  },
  {
   "cell_type": "code",
   "execution_count": 15,
   "id": "9e07c4a8",
   "metadata": {},
   "outputs": [
    {
     "data": {
      "text/plain": [
       "(1.3140729513840412, 0.26315144044872907)"
      ]
     },
     "execution_count": 15,
     "metadata": {},
     "output_type": "execute_result"
    }
   ],
   "source": [
    "mod4.fvalue, mod4.f_pvalue"
   ]
  },
  {
   "cell_type": "code",
   "execution_count": 16,
   "id": "e4cabe0d",
   "metadata": {},
   "outputs": [
    {
     "data": {
      "text/plain": [
       "2.384637913666586"
      ]
     },
     "execution_count": 16,
     "metadata": {},
     "output_type": "execute_result"
    }
   ],
   "source": [
    "f.ppf(q=1-0.05, dfn=mod4.df_model, dfd=mod4.df_resid)"
   ]
  },
  {
   "cell_type": "markdown",
   "id": "d23f2169",
   "metadata": {},
   "source": [
    "Незначима"
   ]
  },
  {
   "cell_type": "markdown",
   "id": "454e4329",
   "metadata": {},
   "source": [
    "# Совместная значимость"
   ]
  },
  {
   "cell_type": "code",
   "execution_count": 17,
   "id": "dff884cb",
   "metadata": {},
   "outputs": [],
   "source": [
    "import pandas as pd\n",
    "import numpy as np\n",
    "import statsmodels.formula.api as smf\n",
    "import statsmodels.api as sm\n",
    "from statsmodels.iolib.summary2 import summary_col # вывод подгонки\n",
    "from scipy.stats import f # F-распределение"
   ]
  },
  {
   "cell_type": "markdown",
   "id": "7266d4a6",
   "metadata": {},
   "source": [
    "# Задача №2.1"
   ]
  },
  {
   "cell_type": "code",
   "execution_count": 18,
   "id": "3aa68a19",
   "metadata": {},
   "outputs": [
    {
     "data": {
      "text/html": [
       "<table class=\"simpletable\">\n",
       "<tr>\n",
       "         <td></td>            <th>sleep</th>   \n",
       "</tr>\n",
       "<tr>\n",
       "  <th>Intercept</th>      <td>3446.8303***</td>\n",
       "</tr>\n",
       "<tr>\n",
       "  <th></th>                 <td>(81.8399)</td> \n",
       "</tr>\n",
       "<tr>\n",
       "  <th>totwrk</th>          <td>-0.1691***</td> \n",
       "</tr>\n",
       "<tr>\n",
       "  <th></th>                 <td>(0.0181)</td>  \n",
       "</tr>\n",
       "<tr>\n",
       "  <th>age</th>               <td>2.7145*</td>  \n",
       "</tr>\n",
       "<tr>\n",
       "  <th></th>                 <td>(1.4724)</td>  \n",
       "</tr>\n",
       "<tr>\n",
       "  <th>male</th>             <td>87.1081**</td> \n",
       "</tr>\n",
       "<tr>\n",
       "  <th></th>                 <td>(35.1732)</td> \n",
       "</tr>\n",
       "<tr>\n",
       "  <th>south</th>           <td>102.2718**</td> \n",
       "</tr>\n",
       "<tr>\n",
       "  <th></th>                 <td>(41.9250)</td> \n",
       "</tr>\n",
       "<tr>\n",
       "  <th>smsa</th>             <td>-54.1877</td>  \n",
       "</tr>\n",
       "<tr>\n",
       "  <th></th>                 <td>(33.1934)</td> \n",
       "</tr>\n",
       "<tr>\n",
       "  <th>yngkid</th>           <td>-13.0513</td>  \n",
       "</tr>\n",
       "<tr>\n",
       "  <th></th>                 <td>(50.4591)</td> \n",
       "</tr>\n",
       "<tr>\n",
       "  <th>marr</th>              <td>31.3604</td>  \n",
       "</tr>\n",
       "<tr>\n",
       "  <th></th>                 <td>(42.2632)</td> \n",
       "</tr>\n",
       "<tr>\n",
       "  <th>union</th>             <td>11.8657</td>  \n",
       "</tr>\n",
       "<tr>\n",
       "  <th></th>                 <td>(38.1859)</td> \n",
       "</tr>\n",
       "<tr>\n",
       "  <th>R-squared</th>         <td>0.1314</td>   \n",
       "</tr>\n",
       "<tr>\n",
       "  <th>R-squared Adj.</th>    <td>0.1214</td>   \n",
       "</tr>\n",
       "</table>"
      ],
      "text/plain": [
       "<class 'statsmodels.iolib.summary2.Summary'>\n",
       "\"\"\"\n",
       "\n",
       "===========================\n",
       "                  sleep    \n",
       "---------------------------\n",
       "Intercept      3446.8303***\n",
       "               (81.8399)   \n",
       "totwrk         -0.1691***  \n",
       "               (0.0181)    \n",
       "age            2.7145*     \n",
       "               (1.4724)    \n",
       "male           87.1081**   \n",
       "               (35.1732)   \n",
       "south          102.2718**  \n",
       "               (41.9250)   \n",
       "smsa           -54.1877    \n",
       "               (33.1934)   \n",
       "yngkid         -13.0513    \n",
       "               (50.4591)   \n",
       "marr           31.3604     \n",
       "               (42.2632)   \n",
       "union          11.8657     \n",
       "               (38.1859)   \n",
       "R-squared      0.1314      \n",
       "R-squared Adj. 0.1214      \n",
       "===========================\n",
       "Standard errors in\n",
       "parentheses.\n",
       "* p<.1, ** p<.05, ***p<.01\n",
       "\"\"\""
      ]
     },
     "execution_count": 18,
     "metadata": {},
     "output_type": "execute_result"
    }
   ],
   "source": [
    "sleep_df = pd.read_csv('https://raw.githubusercontent.com/artamonoff/Econometrica/master/python-notebooks/data-csv/sleep75.csv')\n",
    "mod1 = smf.ols(formula='sleep~totwrk+age+male+south+smsa+yngkid+marr+union', data=sleep_df).fit()\n",
    "summary_col(mod1, stars=True)"
   ]
  },
  {
   "cell_type": "code",
   "execution_count": 20,
   "id": "6034fc11",
   "metadata": {},
   "outputs": [
    {
     "data": {
      "text/html": [
       "<table class=\"simpletable\">\n",
       "<caption>OLS Regression Results</caption>\n",
       "<tr>\n",
       "  <th>Dep. Variable:</th>          <td>sleep</td>      <th>  R-squared:         </th> <td>   0.131</td> \n",
       "</tr>\n",
       "<tr>\n",
       "  <th>Model:</th>                   <td>OLS</td>       <th>  Adj. R-squared:    </th> <td>   0.121</td> \n",
       "</tr>\n",
       "<tr>\n",
       "  <th>Method:</th>             <td>Least Squares</td>  <th>  F-statistic:       </th> <td>   13.18</td> \n",
       "</tr>\n",
       "<tr>\n",
       "  <th>Date:</th>             <td>Fri, 28 Apr 2023</td> <th>  Prob (F-statistic):</th> <td>8.33e-18</td> \n",
       "</tr>\n",
       "<tr>\n",
       "  <th>Time:</th>                 <td>01:46:42</td>     <th>  Log-Likelihood:    </th> <td> -5255.9</td> \n",
       "</tr>\n",
       "<tr>\n",
       "  <th>No. Observations:</th>      <td>   706</td>      <th>  AIC:               </th> <td>1.053e+04</td>\n",
       "</tr>\n",
       "<tr>\n",
       "  <th>Df Residuals:</th>          <td>   697</td>      <th>  BIC:               </th> <td>1.057e+04</td>\n",
       "</tr>\n",
       "<tr>\n",
       "  <th>Df Model:</th>              <td>     8</td>      <th>                     </th>     <td> </td>    \n",
       "</tr>\n",
       "<tr>\n",
       "  <th>Covariance Type:</th>      <td>nonrobust</td>    <th>                     </th>     <td> </td>    \n",
       "</tr>\n",
       "</table>\n",
       "<table class=\"simpletable\">\n",
       "<tr>\n",
       "      <td></td>         <th>coef</th>     <th>std err</th>      <th>t</th>      <th>P>|t|</th>  <th>[0.025</th>    <th>0.975]</th>  \n",
       "</tr>\n",
       "<tr>\n",
       "  <th>Intercept</th> <td> 3446.8303</td> <td>   81.840</td> <td>   42.117</td> <td> 0.000</td> <td> 3286.148</td> <td> 3607.513</td>\n",
       "</tr>\n",
       "<tr>\n",
       "  <th>totwrk</th>    <td>   -0.1691</td> <td>    0.018</td> <td>   -9.358</td> <td> 0.000</td> <td>   -0.205</td> <td>   -0.134</td>\n",
       "</tr>\n",
       "<tr>\n",
       "  <th>age</th>       <td>    2.7145</td> <td>    1.472</td> <td>    1.844</td> <td> 0.066</td> <td>   -0.176</td> <td>    5.605</td>\n",
       "</tr>\n",
       "<tr>\n",
       "  <th>male</th>      <td>   87.1081</td> <td>   35.173</td> <td>    2.477</td> <td> 0.014</td> <td>   18.050</td> <td>  156.166</td>\n",
       "</tr>\n",
       "<tr>\n",
       "  <th>south</th>     <td>  102.2718</td> <td>   41.925</td> <td>    2.439</td> <td> 0.015</td> <td>   19.957</td> <td>  184.586</td>\n",
       "</tr>\n",
       "<tr>\n",
       "  <th>smsa</th>      <td>  -54.1877</td> <td>   33.193</td> <td>   -1.632</td> <td> 0.103</td> <td> -119.359</td> <td>   10.983</td>\n",
       "</tr>\n",
       "<tr>\n",
       "  <th>yngkid</th>    <td>  -13.0513</td> <td>   50.459</td> <td>   -0.259</td> <td> 0.796</td> <td> -112.121</td> <td>   86.019</td>\n",
       "</tr>\n",
       "<tr>\n",
       "  <th>marr</th>      <td>   31.3604</td> <td>   42.263</td> <td>    0.742</td> <td> 0.458</td> <td>  -51.618</td> <td>  114.339</td>\n",
       "</tr>\n",
       "<tr>\n",
       "  <th>union</th>     <td>   11.8657</td> <td>   38.186</td> <td>    0.311</td> <td> 0.756</td> <td>  -63.107</td> <td>   86.839</td>\n",
       "</tr>\n",
       "</table>\n",
       "<table class=\"simpletable\">\n",
       "<tr>\n",
       "  <th>Omnibus:</th>       <td>61.853</td> <th>  Durbin-Watson:     </th> <td>   1.946</td>\n",
       "</tr>\n",
       "<tr>\n",
       "  <th>Prob(Omnibus):</th> <td> 0.000</td> <th>  Jarque-Bera (JB):  </th> <td> 166.463</td>\n",
       "</tr>\n",
       "<tr>\n",
       "  <th>Skew:</th>          <td>-0.443</td> <th>  Prob(JB):          </th> <td>7.13e-37</td>\n",
       "</tr>\n",
       "<tr>\n",
       "  <th>Kurtosis:</th>      <td> 5.208</td> <th>  Cond. No.          </th> <td>1.28e+04</td>\n",
       "</tr>\n",
       "</table><br/><br/>Notes:<br/>[1] Standard Errors assume that the covariance matrix of the errors is correctly specified.<br/>[2] The condition number is large, 1.28e+04. This might indicate that there are<br/>strong multicollinearity or other numerical problems."
      ],
      "text/plain": [
       "<class 'statsmodels.iolib.summary.Summary'>\n",
       "\"\"\"\n",
       "                            OLS Regression Results                            \n",
       "==============================================================================\n",
       "Dep. Variable:                  sleep   R-squared:                       0.131\n",
       "Model:                            OLS   Adj. R-squared:                  0.121\n",
       "Method:                 Least Squares   F-statistic:                     13.18\n",
       "Date:                Fri, 28 Apr 2023   Prob (F-statistic):           8.33e-18\n",
       "Time:                        01:46:42   Log-Likelihood:                -5255.9\n",
       "No. Observations:                 706   AIC:                         1.053e+04\n",
       "Df Residuals:                     697   BIC:                         1.057e+04\n",
       "Df Model:                           8                                         \n",
       "Covariance Type:            nonrobust                                         \n",
       "==============================================================================\n",
       "                 coef    std err          t      P>|t|      [0.025      0.975]\n",
       "------------------------------------------------------------------------------\n",
       "Intercept   3446.8303     81.840     42.117      0.000    3286.148    3607.513\n",
       "totwrk        -0.1691      0.018     -9.358      0.000      -0.205      -0.134\n",
       "age            2.7145      1.472      1.844      0.066      -0.176       5.605\n",
       "male          87.1081     35.173      2.477      0.014      18.050     156.166\n",
       "south        102.2718     41.925      2.439      0.015      19.957     184.586\n",
       "smsa         -54.1877     33.193     -1.632      0.103    -119.359      10.983\n",
       "yngkid       -13.0513     50.459     -0.259      0.796    -112.121      86.019\n",
       "marr          31.3604     42.263      0.742      0.458     -51.618     114.339\n",
       "union         11.8657     38.186      0.311      0.756     -63.107      86.839\n",
       "==============================================================================\n",
       "Omnibus:                       61.853   Durbin-Watson:                   1.946\n",
       "Prob(Omnibus):                  0.000   Jarque-Bera (JB):              166.463\n",
       "Skew:                          -0.443   Prob(JB):                     7.13e-37\n",
       "Kurtosis:                       5.208   Cond. No.                     1.28e+04\n",
       "==============================================================================\n",
       "\n",
       "Notes:\n",
       "[1] Standard Errors assume that the covariance matrix of the errors is correctly specified.\n",
       "[2] The condition number is large, 1.28e+04. This might indicate that there are\n",
       "strong multicollinearity or other numerical problems.\n",
       "\"\"\""
      ]
     },
     "execution_count": 20,
     "metadata": {},
     "output_type": "execute_result"
    }
   ],
   "source": [
    "mod1.summary()"
   ]
  },
  {
   "cell_type": "markdown",
   "id": "e60fbfb2",
   "metadata": {},
   "source": [
    "Критическое значение:"
   ]
  },
  {
   "cell_type": "code",
   "execution_count": 19,
   "id": "8ecfebc9",
   "metadata": {},
   "outputs": [
    {
     "data": {
      "text/plain": [
       "2.3847110483450447"
      ]
     },
     "execution_count": 19,
     "metadata": {},
     "output_type": "execute_result"
    }
   ],
   "source": [
    "f.ppf(q=1-0.05, dfn=4, dfd=mod1.df_resid)"
   ]
  },
  {
   "cell_type": "markdown",
   "id": "9f902525",
   "metadata": {},
   "source": [
    "Значимы \"totwrk\" \"male\"   \"south\" "
   ]
  },
  {
   "cell_type": "markdown",
   "id": "13a9c6f0",
   "metadata": {},
   "source": [
    "Тестовая статистика:"
   ]
  },
  {
   "cell_type": "code",
   "execution_count": 25,
   "id": "f25b3200",
   "metadata": {},
   "outputs": [
    {
     "name": "stdout",
     "output_type": "stream",
     "text": [
      "<F test: F=0.909764956807134, p=0.4576805992248939, df_denom=697, df_num=4>\n"
     ]
    }
   ],
   "source": [
    "print( mod1.f_test('smsa=yngkid=marr=union=0') )"
   ]
  },
  {
   "cell_type": "code",
   "execution_count": 24,
   "id": "bc8b8887",
   "metadata": {},
   "outputs": [
    {
     "data": {
      "text/plain": [
       "(0.9097649568070949, 0.45768059922490656, 4.0)"
      ]
     },
     "execution_count": 24,
     "metadata": {},
     "output_type": "execute_result"
    }
   ],
   "source": [
    "mod1_restr = smf.ols(formula='sleep~totwrk+age+male+south', data=sleep_df).fit()\n",
    "mod1.compare_f_test(mod1_restr)"
   ]
  },
  {
   "cell_type": "markdown",
   "id": "6ecfae5a",
   "metadata": {},
   "source": [
    "Незначимо"
   ]
  },
  {
   "cell_type": "markdown",
   "id": "28b9e4f6",
   "metadata": {},
   "source": [
    "# Структурные ограничения"
   ]
  },
  {
   "cell_type": "code",
   "execution_count": 27,
   "id": "6a7014ec",
   "metadata": {},
   "outputs": [],
   "source": [
    "import pandas as pd\n",
    "import numpy as np\n",
    "import statsmodels.formula.api as smf\n",
    "import statsmodels.api as sm\n",
    "from statsmodels.iolib.summary2 import summary_col # вывод подгонки\n",
    "from scipy.stats import f # F-распределение"
   ]
  },
  {
   "cell_type": "markdown",
   "id": "b4039acd",
   "metadata": {},
   "source": [
    "# Задача №3.2"
   ]
  },
  {
   "cell_type": "code",
   "execution_count": 28,
   "id": "7173a018",
   "metadata": {},
   "outputs": [
    {
     "data": {
      "text/html": [
       "<table class=\"simpletable\">\n",
       "<caption>OLS Regression Results</caption>\n",
       "<tr>\n",
       "  <th>Dep. Variable:</th>    <td>np.log(output)</td> <th>  R-squared:         </th> <td>   0.888</td> \n",
       "</tr>\n",
       "<tr>\n",
       "  <th>Model:</th>                  <td>OLS</td>      <th>  Adj. R-squared:    </th> <td>   0.888</td> \n",
       "</tr>\n",
       "<tr>\n",
       "  <th>No. Observations:</th>     <td>   569</td>     <th>  F-statistic:       </th> <td>   1499.</td> \n",
       "</tr>\n",
       "<tr>\n",
       "  <th>Covariance Type:</th>     <td>nonrobust</td>   <th>  Prob (F-statistic):</th> <td>1.65e-268</td>\n",
       "</tr>\n",
       "</table>\n",
       "<table class=\"simpletable\">\n",
       "<tr>\n",
       "         <td></td>            <th>coef</th>     <th>std err</th>      <th>t</th>      <th>P>|t|</th>  <th>[0.025</th>    <th>0.975]</th>  \n",
       "</tr>\n",
       "<tr>\n",
       "  <th>Intercept</th>       <td>   -5.0073</td> <td>    0.221</td> <td>  -22.649</td> <td> 0.000</td> <td>   -5.442</td> <td>   -4.573</td>\n",
       "</tr>\n",
       "<tr>\n",
       "  <th>np.log(capital)</th> <td>    0.1493</td> <td>    0.015</td> <td>   10.141</td> <td> 0.000</td> <td>    0.120</td> <td>    0.178</td>\n",
       "</tr>\n",
       "<tr>\n",
       "  <th>np.log(labour)</th>  <td>    0.7204</td> <td>    0.019</td> <td>   37.487</td> <td> 0.000</td> <td>    0.683</td> <td>    0.758</td>\n",
       "</tr>\n",
       "<tr>\n",
       "  <th>np.log(wage)</th>    <td>    0.9214</td> <td>    0.058</td> <td>   16.001</td> <td> 0.000</td> <td>    0.808</td> <td>    1.034</td>\n",
       "</tr>\n",
       "</table><br/><br/>Notes:<br/>[1] Standard Errors assume that the covariance matrix of the errors is correctly specified."
      ],
      "text/plain": [
       "<class 'statsmodels.iolib.summary.Summary'>\n",
       "\"\"\"\n",
       "                            OLS Regression Results                            \n",
       "==============================================================================\n",
       "Dep. Variable:         np.log(output)   R-squared:                       0.888\n",
       "Model:                            OLS   Adj. R-squared:                  0.888\n",
       "No. Observations:                 569   F-statistic:                     1499.\n",
       "Covariance Type:            nonrobust   Prob (F-statistic):          1.65e-268\n",
       "===================================================================================\n",
       "                      coef    std err          t      P>|t|      [0.025      0.975]\n",
       "-----------------------------------------------------------------------------------\n",
       "Intercept          -5.0073      0.221    -22.649      0.000      -5.442      -4.573\n",
       "np.log(capital)     0.1493      0.015     10.141      0.000       0.120       0.178\n",
       "np.log(labour)      0.7204      0.019     37.487      0.000       0.683       0.758\n",
       "np.log(wage)        0.9214      0.058     16.001      0.000       0.808       1.034\n",
       "===================================================================================\n",
       "\n",
       "Notes:\n",
       "[1] Standard Errors assume that the covariance matrix of the errors is correctly specified.\n",
       "\"\"\""
      ]
     },
     "execution_count": 28,
     "metadata": {},
     "output_type": "execute_result"
    }
   ],
   "source": [
    "labour_df = pd.read_csv('https://raw.githubusercontent.com/artamonoff/Econometrica/master/python-notebooks/data-csv/Labour.csv')\n",
    "mod = smf.ols(formula='np.log(output)~np.log(capital)+np.log(labour)+np.log(wage)', data=labour_df).fit()\n",
    "mod.summary(slim=True)"
   ]
  },
  {
   "cell_type": "code",
   "execution_count": 33,
   "id": "1d2eb2a3",
   "metadata": {},
   "outputs": [
    {
     "data": {
      "text/plain": [
       "3.858"
      ]
     },
     "execution_count": 33,
     "metadata": {},
     "output_type": "execute_result"
    }
   ],
   "source": [
    "# критическое значение\n",
    "f.ppf(q=1-0.05, dfn=1, dfd=mod.df_resid).round(3)"
   ]
  },
  {
   "cell_type": "markdown",
   "id": "c48f5c82",
   "metadata": {},
   "source": [
    "Значимы: \"log(capital)\" \"log(labour)\"  \"log(wage)\""
   ]
  },
  {
   "cell_type": "markdown",
   "id": "67c56eb1",
   "metadata": {},
   "source": [
    "Гипотеза №1"
   ]
  },
  {
   "cell_type": "code",
   "execution_count": 35,
   "id": "5105940d",
   "metadata": {},
   "outputs": [
    {
     "name": "stdout",
     "output_type": "stream",
     "text": [
      "<F test: F=198.58693315849243, p=7.280959454661686e-39, df_denom=565, df_num=1>\n"
     ]
    }
   ],
   "source": [
    "print( mod.f_test('np.log(capital)+np.log(labour)+np.log(wage)=1') )"
   ]
  },
  {
   "cell_type": "markdown",
   "id": "35b60cfd",
   "metadata": {},
   "source": [
    "Гипотеза №2"
   ]
  },
  {
   "cell_type": "code",
   "execution_count": 37,
   "id": "a1d50ad7",
   "metadata": {},
   "outputs": [
    {
     "name": "stdout",
     "output_type": "stream",
     "text": [
      "<F test: F=11.080978246342438, p=0.000928978046198739, df_denom=565, df_num=1>\n"
     ]
    }
   ],
   "source": [
    "print( mod.f_test('np.log(labour)=np.log(wage)') )"
   ]
  },
  {
   "cell_type": "code",
   "execution_count": 38,
   "id": "0527d480",
   "metadata": {},
   "outputs": [
    {
     "data": {
      "text/plain": [
       "3.8579698801476354"
      ]
     },
     "execution_count": 38,
     "metadata": {},
     "output_type": "execute_result"
    }
   ],
   "source": [
    "# критическое значение\n",
    "f.ppf(q=1-0.05, dfn=1, dfd=mod.df_resid)"
   ]
  },
  {
   "cell_type": "markdown",
   "id": "a5faa2c8",
   "metadata": {},
   "source": [
    "Гипотеза №3"
   ]
  },
  {
   "cell_type": "code",
   "execution_count": 39,
   "id": "3de735bc",
   "metadata": {},
   "outputs": [
    {
     "name": "stdout",
     "output_type": "stream",
     "text": [
      "<F test: F=192.36687126560312, p=1.910551632386681e-64, df_denom=565, df_num=2>\n"
     ]
    }
   ],
   "source": [
    "print( mod.f_test('np.log(capital)=np.log(labour)=np.log(wage)') )"
   ]
  },
  {
   "cell_type": "code",
   "execution_count": 42,
   "id": "8695ebe2",
   "metadata": {},
   "outputs": [
    {
     "data": {
      "text/plain": [
       "3.011672483767199"
      ]
     },
     "execution_count": 42,
     "metadata": {},
     "output_type": "execute_result"
    }
   ],
   "source": [
    "# критическое значение\n",
    "f.ppf(q=1-0.05, dfn=2, dfd=mod.df_resid)"
   ]
  },
  {
   "cell_type": "markdown",
   "id": "412be292",
   "metadata": {},
   "source": [
    "# Задача №3.1\n"
   ]
  },
  {
   "cell_type": "code",
   "execution_count": 43,
   "id": "0dd17d12",
   "metadata": {},
   "outputs": [
    {
     "data": {
      "text/html": [
       "<table class=\"simpletable\">\n",
       "<caption>OLS Regression Results</caption>\n",
       "<tr>\n",
       "  <th>Dep. Variable:</th>    <td>np.log(cost)</td> <th>  R-squared:         </th> <td>   0.992</td> \n",
       "</tr>\n",
       "<tr>\n",
       "  <th>Model:</th>                 <td>OLS</td>     <th>  Adj. R-squared:    </th> <td>   0.992</td> \n",
       "</tr>\n",
       "<tr>\n",
       "  <th>No. Observations:</th>    <td>   158</td>    <th>  F-statistic:       </th> <td>   3880.</td> \n",
       "</tr>\n",
       "<tr>\n",
       "  <th>Covariance Type:</th>    <td>nonrobust</td>  <th>  Prob (F-statistic):</th> <td>2.45e-158</td>\n",
       "</tr>\n",
       "</table>\n",
       "<table class=\"simpletable\">\n",
       "<tr>\n",
       "          <td></td>             <th>coef</th>     <th>std err</th>      <th>t</th>      <th>P>|t|</th>  <th>[0.025</th>    <th>0.975]</th>  \n",
       "</tr>\n",
       "<tr>\n",
       "  <th>Intercept</th>         <td>   -6.7387</td> <td>    0.706</td> <td>   -9.541</td> <td> 0.000</td> <td>   -8.134</td> <td>   -5.343</td>\n",
       "</tr>\n",
       "<tr>\n",
       "  <th>np.log(q)</th>         <td>    0.4030</td> <td>    0.032</td> <td>   12.734</td> <td> 0.000</td> <td>    0.340</td> <td>    0.466</td>\n",
       "</tr>\n",
       "<tr>\n",
       "  <th>I(np.log(q) ** 2)</th> <td>    0.0304</td> <td>    0.002</td> <td>   14.024</td> <td> 0.000</td> <td>    0.026</td> <td>    0.035</td>\n",
       "</tr>\n",
       "<tr>\n",
       "  <th>np.log(pl)</th>        <td>    0.1461</td> <td>    0.070</td> <td>    2.073</td> <td> 0.040</td> <td>    0.007</td> <td>    0.285</td>\n",
       "</tr>\n",
       "<tr>\n",
       "  <th>np.log(pk)</th>        <td>    0.1571</td> <td>    0.058</td> <td>    2.721</td> <td> 0.007</td> <td>    0.043</td> <td>    0.271</td>\n",
       "</tr>\n",
       "<tr>\n",
       "  <th>np.log(pf)</th>        <td>    0.6847</td> <td>    0.043</td> <td>   16.043</td> <td> 0.000</td> <td>    0.600</td> <td>    0.769</td>\n",
       "</tr>\n",
       "</table><br/><br/>Notes:<br/>[1] Standard Errors assume that the covariance matrix of the errors is correctly specified.<br/>[2] The condition number is large, 4.99e+03. This might indicate that there are<br/>strong multicollinearity or other numerical problems."
      ],
      "text/plain": [
       "<class 'statsmodels.iolib.summary.Summary'>\n",
       "\"\"\"\n",
       "                            OLS Regression Results                            \n",
       "==============================================================================\n",
       "Dep. Variable:           np.log(cost)   R-squared:                       0.992\n",
       "Model:                            OLS   Adj. R-squared:                  0.992\n",
       "No. Observations:                 158   F-statistic:                     3880.\n",
       "Covariance Type:            nonrobust   Prob (F-statistic):          2.45e-158\n",
       "=====================================================================================\n",
       "                        coef    std err          t      P>|t|      [0.025      0.975]\n",
       "-------------------------------------------------------------------------------------\n",
       "Intercept            -6.7387      0.706     -9.541      0.000      -8.134      -5.343\n",
       "np.log(q)             0.4030      0.032     12.734      0.000       0.340       0.466\n",
       "I(np.log(q) ** 2)     0.0304      0.002     14.024      0.000       0.026       0.035\n",
       "np.log(pl)            0.1461      0.070      2.073      0.040       0.007       0.285\n",
       "np.log(pk)            0.1571      0.058      2.721      0.007       0.043       0.271\n",
       "np.log(pf)            0.6847      0.043     16.043      0.000       0.600       0.769\n",
       "=====================================================================================\n",
       "\n",
       "Notes:\n",
       "[1] Standard Errors assume that the covariance matrix of the errors is correctly specified.\n",
       "[2] The condition number is large, 4.99e+03. This might indicate that there are\n",
       "strong multicollinearity or other numerical problems.\n",
       "\"\"\""
      ]
     },
     "execution_count": 43,
     "metadata": {},
     "output_type": "execute_result"
    }
   ],
   "source": [
    "electricity_df = pd.read_csv('https://raw.githubusercontent.com/artamonoff/Econometrica/master/python-notebooks/data-csv/Electricity.csv')\n",
    "mod = smf.ols(formula='np.log(cost)~np.log(q)+I(np.log(q)**2)+np.log(pl)+np.log(pk)+np.log(pf)', data=electricity_df).fit()\n",
    "mod.summary(slim=True)"
   ]
  },
  {
   "cell_type": "markdown",
   "id": "2a22e5e3",
   "metadata": {},
   "source": [
    "Гипотеза №1"
   ]
  },
  {
   "cell_type": "code",
   "execution_count": 49,
   "id": "23272410",
   "metadata": {},
   "outputs": [
    {
     "name": "stdout",
     "output_type": "stream",
     "text": [
      "<F test: F=0.014541184876273943, p=0.9041775484872097, df_denom=152, df_num=1>\n"
     ]
    }
   ],
   "source": [
    "print( mod.f_test('np.log(pf)+np.log(pl)+np.log(pk)=1') )"
   ]
  },
  {
   "cell_type": "code",
   "execution_count": 50,
   "id": "b491a49b",
   "metadata": {},
   "outputs": [
    {
     "data": {
      "text/plain": [
       "6.804589881738003"
      ]
     },
     "execution_count": 50,
     "metadata": {},
     "output_type": "execute_result"
    }
   ],
   "source": [
    "# критическое значение\n",
    "f.ppf(q=1-0.01, dfn=1, dfd=mod.df_resid)"
   ]
  },
  {
   "cell_type": "markdown",
   "id": "9c2f12c9",
   "metadata": {},
   "source": [
    "Гипотеза №2"
   ]
  },
  {
   "cell_type": "code",
   "execution_count": 51,
   "id": "ea1f7910",
   "metadata": {},
   "outputs": [
    {
     "name": "stdout",
     "output_type": "stream",
     "text": [
      "<F test: F=0.020086275898522684, p=0.8874840609151121, df_denom=152, df_num=1>\n"
     ]
    }
   ],
   "source": [
    "print( mod.f_test('np.log(pl)=np.log(pk)') )"
   ]
  },
  {
   "cell_type": "markdown",
   "id": "eeb16b33",
   "metadata": {},
   "source": [
    "Гипотеза №3"
   ]
  },
  {
   "cell_type": "code",
   "execution_count": 52,
   "id": "ab3ef24d",
   "metadata": {},
   "outputs": [
    {
     "name": "stdout",
     "output_type": "stream",
     "text": [
      "<F test: F=26.417080686252053, p=1.4240695015056593e-10, df_denom=152, df_num=2>\n"
     ]
    }
   ],
   "source": [
    "print( mod.f_test('np.log(pf)=np.log(pl)=np.log(pk)') )"
   ]
  },
  {
   "cell_type": "code",
   "execution_count": 53,
   "id": "c44c9f7e",
   "metadata": {},
   "outputs": [
    {
     "data": {
      "text/plain": [
       "4.747555147947131"
      ]
     },
     "execution_count": 53,
     "metadata": {},
     "output_type": "execute_result"
    }
   ],
   "source": [
    "# критическое значение\n",
    "f.ppf(q=1-0.01, dfn=2, dfd=mod.df_resid)"
   ]
  },
  {
   "cell_type": "markdown",
   "id": "e092f7aa",
   "metadata": {},
   "source": [
    "# Структурные изменения"
   ]
  },
  {
   "cell_type": "code",
   "execution_count": 54,
   "id": "71caa4e6",
   "metadata": {},
   "outputs": [],
   "source": [
    "import pandas as pd\n",
    "import numpy as np\n",
    "import statsmodels.formula.api as smf\n",
    "import statsmodels.api as sm\n",
    "from statsmodels.iolib.summary2 import summary_col # вывод подгонки\n",
    "from scipy.stats import f # F-распределение\n",
    "import seaborn as sns"
   ]
  },
  {
   "cell_type": "markdown",
   "id": "060ee6c4",
   "metadata": {},
   "source": [
    "# Задача №4.1"
   ]
  },
  {
   "cell_type": "code",
   "execution_count": 55,
   "id": "0244de3e",
   "metadata": {},
   "outputs": [
    {
     "data": {
      "text/html": [
       "<table class=\"simpletable\">\n",
       "<tr>\n",
       "         <td></td>            <th>муж</th>        <th>жен</th>       <th>Общая</th>  \n",
       "</tr>\n",
       "<tr>\n",
       "  <th>Intercept</th>      <td>58.6338***</td> <td>65.5581***</td> <td>60.4212***</td>\n",
       "</tr>\n",
       "<tr>\n",
       "  <th></th>                <td>(4.8114)</td>   <td>(5.8327)</td>   <td>(3.6715)</td> \n",
       "</tr>\n",
       "<tr>\n",
       "  <th>totwrk</th>         <td>-0.0031***</td> <td>-0.0023***</td> <td>-0.0025***</td>\n",
       "</tr>\n",
       "<tr>\n",
       "  <th></th>                <td>(0.0004)</td>   <td>(0.0005)</td>   <td>(0.0003)</td> \n",
       "</tr>\n",
       "<tr>\n",
       "  <th>age</th>              <td>0.1221</td>     <td>-0.4440</td>    <td>-0.1229</td> \n",
       "</tr>\n",
       "<tr>\n",
       "  <th></th>                <td>(0.2366)</td>   <td>(0.3061)</td>   <td>(0.1875)</td> \n",
       "</tr>\n",
       "<tr>\n",
       "  <th>I(age ** 2)</th>      <td>-0.0008</td>    <td>0.0057</td>     <td>0.0021</td>  \n",
       "</tr>\n",
       "<tr>\n",
       "  <th></th>                <td>(0.0028)</td>   <td>(0.0037)</td>   <td>(0.0022)</td> \n",
       "</tr>\n",
       "<tr>\n",
       "  <th>south</th>            <td>1.0267</td>    <td>2.1532**</td>   <td>1.5738**</td> \n",
       "</tr>\n",
       "<tr>\n",
       "  <th></th>                <td>(0.9330)</td>   <td>(1.0648)</td>   <td>(0.6985)</td> \n",
       "</tr>\n",
       "<tr>\n",
       "  <th>smsa</th>            <td>-1.2918*</td>    <td>-0.5610</td>    <td>-0.8667</td> \n",
       "</tr>\n",
       "<tr>\n",
       "  <th></th>                <td>(0.7192)</td>   <td>(0.8677)</td>   <td>(0.5534)</td> \n",
       "</tr>\n",
       "<tr>\n",
       "  <th>marr</th>             <td>0.1365</td>     <td>1.0552</td>     <td>0.8740</td>  \n",
       "</tr>\n",
       "<tr>\n",
       "  <th></th>                <td>(1.0288)</td>   <td>(0.9871)</td>   <td>(0.6898)</td> \n",
       "</tr>\n",
       "<tr>\n",
       "  <th>R-squared</th>        <td>0.1607</td>     <td>0.1088</td>     <td>0.1246</td>  \n",
       "</tr>\n",
       "<tr>\n",
       "  <th>R-squared Adj.</th>   <td>0.1479</td>     <td>0.0909</td>     <td>0.1171</td>  \n",
       "</tr>\n",
       "<tr>\n",
       "  <th>N</th>               <td>400.0000</td>   <td>306.0000</td>   <td>706.0000</td> \n",
       "</tr>\n",
       "<tr>\n",
       "  <th>F-stat</th>           <td>12.5384</td>    <td>6.0817</td>     <td>16.5769</td> \n",
       "</tr>\n",
       "</table>"
      ],
      "text/plain": [
       "<class 'statsmodels.iolib.summary2.Summary'>\n",
       "\"\"\"\n",
       "\n",
       "===============================================\n",
       "                  муж        жен       Общая   \n",
       "-----------------------------------------------\n",
       "Intercept      58.6338*** 65.5581*** 60.4212***\n",
       "               (4.8114)   (5.8327)   (3.6715)  \n",
       "totwrk         -0.0031*** -0.0023*** -0.0025***\n",
       "               (0.0004)   (0.0005)   (0.0003)  \n",
       "age            0.1221     -0.4440    -0.1229   \n",
       "               (0.2366)   (0.3061)   (0.1875)  \n",
       "I(age ** 2)    -0.0008    0.0057     0.0021    \n",
       "               (0.0028)   (0.0037)   (0.0022)  \n",
       "south          1.0267     2.1532**   1.5738**  \n",
       "               (0.9330)   (1.0648)   (0.6985)  \n",
       "smsa           -1.2918*   -0.5610    -0.8667   \n",
       "               (0.7192)   (0.8677)   (0.5534)  \n",
       "marr           0.1365     1.0552     0.8740    \n",
       "               (1.0288)   (0.9871)   (0.6898)  \n",
       "R-squared      0.1607     0.1088     0.1246    \n",
       "R-squared Adj. 0.1479     0.0909     0.1171    \n",
       "N              400.0000   306.0000   706.0000  \n",
       "F-stat         12.5384    6.0817     16.5769   \n",
       "===============================================\n",
       "Standard errors in parentheses.\n",
       "* p<.1, ** p<.05, ***p<.01\n",
       "\"\"\""
      ]
     },
     "execution_count": 55,
     "metadata": {},
     "output_type": "execute_result"
    }
   ],
   "source": [
    "sleep_df = pd.read_csv('https://raw.githubusercontent.com/artamonoff/Econometrica/master/python-notebooks/data-csv/sleep75.csv')\n",
    "specification = 'I(sleep/60)~totwrk+age+I(age**2)+south+smsa+marr'\n",
    "# подгонка по полному датасету\n",
    "mod_overall = smf.ols(formula=specification, data=sleep_df).fit()\n",
    "# подгонка только по М\n",
    "mod_men_only = smf.ols(formula=specification, data=sleep_df[ sleep_df['male']==1 ]).fit()\n",
    "# подгонка только по Ж\n",
    "mod_women_only = smf.ols(formula=specification, data=sleep_df[ sleep_df['male']==0 ]).fit()\n",
    "# Вывод трёх регрессий в одной таблице\n",
    "summary_col(results=[mod_men_only, mod_women_only, mod_overall], stars=True, model_names=['муж', 'жен', 'Общая'],\n",
    "           info_dict={'N': lambda x: x.nobs, 'F-stat': lambda x: x.fvalue})"
   ]
  },
  {
   "cell_type": "code",
   "execution_count": 56,
   "id": "2e7e1c1f",
   "metadata": {},
   "outputs": [
    {
     "name": "stdout",
     "output_type": "stream",
     "text": [
      "RSS (overall)= 33859.7968790064\n",
      "RSS (men_only)= 17618.97919500131\n",
      "RSS (women_only)= 15717.914859424829\n",
      "n= 706.0\n",
      "k= 6.0\n"
     ]
    }
   ],
   "source": [
    "# Ингредиенты тестовой статистики\n",
    "print('RSS (overall)=', mod_overall.ssr)\n",
    "print('RSS (men_only)=', mod_men_only.ssr)\n",
    "print('RSS (women_only)=', mod_women_only.ssr)\n",
    "print('n=', mod_overall.nobs)\n",
    "print('k=', mod_overall.df_model)"
   ]
  },
  {
   "cell_type": "code",
   "execution_count": 57,
   "id": "193132de",
   "metadata": {},
   "outputs": [
    {
     "data": {
      "text/plain": [
       "(1.5506147376999226, 2.6651528022423494)"
      ]
     },
     "execution_count": 57,
     "metadata": {},
     "output_type": "execute_result"
    }
   ],
   "source": [
    "F = (mod_overall.ssr-mod_men_only.ssr-mod_women_only.ssr)/(mod_men_only.ssr+mod_women_only.ssr)*(mod_overall.nobs-2*(mod_overall.df_model+1))/(mod_overall.df_model+1)\n",
    "F_cr = f.ppf(q=1-0.01, dfn=mod_overall.df_model+1, dfd=mod_overall.nobs-2*(mod_overall.df_model+1))\n",
    "F, F_cr"
   ]
  },
  {
   "cell_type": "markdown",
   "id": "3c948efb",
   "metadata": {},
   "source": [
    "Незначимы"
   ]
  },
  {
   "cell_type": "markdown",
   "id": "b727d604",
   "metadata": {},
   "source": [
    "# Задача №4.2"
   ]
  },
  {
   "cell_type": "code",
   "execution_count": 59,
   "id": "d4d1ca9a",
   "metadata": {},
   "outputs": [
    {
     "data": {
      "text/html": [
       "<table class=\"simpletable\">\n",
       "<tr>\n",
       "         <td></td>            <th>юг</th>        <th>север</th>      <th>Общая</th>  \n",
       "</tr>\n",
       "<tr>\n",
       "  <th>Intercept</th>      <td>60.1285***</td> <td>61.0594***</td> <td>61.4770***</td>\n",
       "</tr>\n",
       "<tr>\n",
       "  <th></th>                <td>(8.1931)</td>   <td>(4.0342)</td>   <td>(3.6373)</td> \n",
       "</tr>\n",
       "<tr>\n",
       "  <th>totwrk</th>           <td>-0.0013</td>  <td>-0.0030***</td> <td>-0.0028***</td>\n",
       "</tr>\n",
       "<tr>\n",
       "  <th></th>                <td>(0.0008)</td>   <td>(0.0003)</td>   <td>(0.0003)</td> \n",
       "</tr>\n",
       "<tr>\n",
       "  <th>age</th>              <td>-0.2521</td>    <td>-0.0787</td>    <td>-0.1270</td> \n",
       "</tr>\n",
       "<tr>\n",
       "  <th></th>                <td>(0.4221)</td>   <td>(0.2064)</td>   <td>(0.1866)</td> \n",
       "</tr>\n",
       "<tr>\n",
       "  <th>I(age ** 2)</th>      <td>0.0050</td>     <td>0.0012</td>     <td>0.0021</td>  \n",
       "</tr>\n",
       "<tr>\n",
       "  <th></th>                <td>(0.0050)</td>   <td>(0.0025)</td>   <td>(0.0022)</td> \n",
       "</tr>\n",
       "<tr>\n",
       "  <th>male</th>             <td>0.0047</td>    <td>1.9510***</td>  <td>1.4445**</td> \n",
       "</tr>\n",
       "<tr>\n",
       "  <th></th>                <td>(1.2560)</td>   <td>(0.6398)</td>   <td>(0.5712)</td> \n",
       "</tr>\n",
       "<tr>\n",
       "  <th>smsa</th>             <td>-0.1548</td>   <td>-1.1061*</td>   <td>-1.2469**</td>\n",
       "</tr>\n",
       "<tr>\n",
       "  <th></th>                <td>(1.6490)</td>   <td>(0.5836)</td>   <td>(0.5352)</td> \n",
       "</tr>\n",
       "<tr>\n",
       "  <th>R-squared</th>        <td>0.1185</td>     <td>0.1427</td>     <td>0.1245</td>  \n",
       "</tr>\n",
       "<tr>\n",
       "  <th>R-squared Adj.</th>   <td>0.0830</td>     <td>0.1352</td>     <td>0.1183</td>  \n",
       "</tr>\n",
       "<tr>\n",
       "  <th>N</th>               <td>130.0000</td>   <td>576.0000</td>   <td>706.0000</td> \n",
       "</tr>\n",
       "<tr>\n",
       "  <th>F-stat</th>           <td>3.3343</td>     <td>18.9801</td>    <td>19.9171</td> \n",
       "</tr>\n",
       "</table>"
      ],
      "text/plain": [
       "<class 'statsmodels.iolib.summary2.Summary'>\n",
       "\"\"\"\n",
       "\n",
       "===============================================\n",
       "                   юг       север      Общая   \n",
       "-----------------------------------------------\n",
       "Intercept      60.1285*** 61.0594*** 61.4770***\n",
       "               (8.1931)   (4.0342)   (3.6373)  \n",
       "totwrk         -0.0013    -0.0030*** -0.0028***\n",
       "               (0.0008)   (0.0003)   (0.0003)  \n",
       "age            -0.2521    -0.0787    -0.1270   \n",
       "               (0.4221)   (0.2064)   (0.1866)  \n",
       "I(age ** 2)    0.0050     0.0012     0.0021    \n",
       "               (0.0050)   (0.0025)   (0.0022)  \n",
       "male           0.0047     1.9510***  1.4445**  \n",
       "               (1.2560)   (0.6398)   (0.5712)  \n",
       "smsa           -0.1548    -1.1061*   -1.2469** \n",
       "               (1.6490)   (0.5836)   (0.5352)  \n",
       "R-squared      0.1185     0.1427     0.1245    \n",
       "R-squared Adj. 0.0830     0.1352     0.1183    \n",
       "N              130.0000   576.0000   706.0000  \n",
       "F-stat         3.3343     18.9801    19.9171   \n",
       "===============================================\n",
       "Standard errors in parentheses.\n",
       "* p<.1, ** p<.05, ***p<.01\n",
       "\"\"\""
      ]
     },
     "execution_count": 59,
     "metadata": {},
     "output_type": "execute_result"
    }
   ],
   "source": [
    "sleep_df = pd.read_csv('https://raw.githubusercontent.com/artamonoff/Econometrica/master/python-notebooks/data-csv/sleep75.csv')\n",
    "specification = 'I(sleep/60)~totwrk+age+I(age**2)+male+smsa'\n",
    "# подгонка по полному датасету\n",
    "mod_overall = smf.ols(formula=specification, data=sleep_df).fit()\n",
    "# подгонка только по М\n",
    "mod_south_only = smf.ols(formula=specification, data=sleep_df[ sleep_df['south']==1 ]).fit()\n",
    "# подгонка только по Ж\n",
    "mod_north_only = smf.ols(formula=specification, data=sleep_df[ sleep_df['south']==0 ]).fit()\n",
    "# Вывод трёх регрессий в одной таблице\n",
    "summary_col(results=[mod_south_only, mod_north_only, mod_overall], stars=True, model_names=['юг', 'север', 'Общая'],\n",
    "           info_dict={'N': lambda x: x.nobs, 'F-stat': lambda x: x.fvalue})"
   ]
  },
  {
   "cell_type": "code",
   "execution_count": 60,
   "id": "cfd53e0a",
   "metadata": {},
   "outputs": [
    {
     "name": "stdout",
     "output_type": "stream",
     "text": [
      "RSS (overall)= 33860.553704875034\n",
      "RSS (south_only)= 5462.294564650149\n",
      "RSS (north_only)= 27640.206303344363\n",
      "n= 706.0\n",
      "k= 5.0\n"
     ]
    }
   ],
   "source": [
    "# Ингредиенты тестовой статистики\n",
    "print('RSS (overall)=', mod_overall.ssr)\n",
    "print('RSS (south_only)=', mod_south_only.ssr)\n",
    "print('RSS (north_only)=', mod_north_only.ssr)\n",
    "print('n=', mod_overall.nobs)\n",
    "print('k=', mod_overall.df_model)"
   ]
  },
  {
   "cell_type": "code",
   "execution_count": 62,
   "id": "20c415a8",
   "metadata": {},
   "outputs": [
    {
     "data": {
      "text/plain": [
       "(2.6487861188746598, 2.111625879316394)"
      ]
     },
     "execution_count": 62,
     "metadata": {},
     "output_type": "execute_result"
    }
   ],
   "source": [
    "F = (mod_overall.ssr-mod_south_only.ssr-mod_north_only.ssr)/(mod_south_only.ssr+mod_north_only.ssr)*(mod_overall.nobs-2*(mod_overall.df_model+1))/(mod_overall.df_model+1)\n",
    "F_cr = f.ppf(q=1-0.05, dfn=mod_overall.df_model+1, dfd=mod_overall.nobs-2*(mod_overall.df_model+1))\n",
    "F, F_cr"
   ]
  },
  {
   "cell_type": "markdown",
   "id": "6fcfd9ff",
   "metadata": {},
   "source": [
    "Значимы"
   ]
  },
  {
   "cell_type": "markdown",
   "id": "821a3c4d",
   "metadata": {},
   "source": [
    "# Задача №4.3"
   ]
  },
  {
   "cell_type": "code",
   "execution_count": 64,
   "id": "22381db8",
   "metadata": {},
   "outputs": [
    {
     "data": {
      "text/html": [
       "<table class=\"simpletable\">\n",
       "<tr>\n",
       "         <td></td>          <th>женщины</th>    <th>мужчины</th>     <th>Общая</th>  \n",
       "</tr>\n",
       "<tr>\n",
       "  <th>Intercept</th>       <td>1.0725***</td>  <td>1.0793***</td>  <td>1.0440***</td>\n",
       "</tr>\n",
       "<tr>\n",
       "  <th></th>                <td>(0.0802)</td>   <td>(0.0795)</td>   <td>(0.0614)</td> \n",
       "</tr>\n",
       "<tr>\n",
       "  <th>exper</th>           <td>0.0265***</td>  <td>0.0445***</td>  <td>0.0362***</td>\n",
       "</tr>\n",
       "<tr>\n",
       "  <th></th>                <td>(0.0078)</td>   <td>(0.0081)</td>   <td>(0.0061)</td> \n",
       "</tr>\n",
       "<tr>\n",
       "  <th>I(exper ** 2)</th>  <td>-0.0006***</td> <td>-0.0009***</td> <td>-0.0008***</td>\n",
       "</tr>\n",
       "<tr>\n",
       "  <th></th>                <td>(0.0002)</td>   <td>(0.0002)</td>   <td>(0.0001)</td> \n",
       "</tr>\n",
       "<tr>\n",
       "  <th>married</th>          <td>0.0089</td>    <td>0.2890***</td>  <td>0.2083***</td>\n",
       "</tr>\n",
       "<tr>\n",
       "  <th></th>                <td>(0.0595)</td>   <td>(0.0673)</td>   <td>(0.0484)</td> \n",
       "</tr>\n",
       "<tr>\n",
       "  <th>smsa</th>            <td>0.2216***</td>  <td>0.2925***</td>  <td>0.2720***</td>\n",
       "</tr>\n",
       "<tr>\n",
       "  <th></th>                <td>(0.0619)</td>   <td>(0.0612)</td>   <td>(0.0475)</td> \n",
       "</tr>\n",
       "<tr>\n",
       "  <th>R-squared</th>        <td>0.0902</td>     <td>0.2857</td>     <td>0.1801</td>  \n",
       "</tr>\n",
       "<tr>\n",
       "  <th>R-squared Adj.</th>   <td>0.0755</td>     <td>0.2751</td>     <td>0.1738</td>  \n",
       "</tr>\n",
       "<tr>\n",
       "  <th>N</th>               <td>252.0000</td>   <td>274.0000</td>   <td>526.0000</td> \n",
       "</tr>\n",
       "<tr>\n",
       "  <th>F-stat</th>           <td>6.1213</td>     <td>26.8945</td>    <td>28.6147</td> \n",
       "</tr>\n",
       "</table>"
      ],
      "text/plain": [
       "<class 'statsmodels.iolib.summary2.Summary'>\n",
       "\"\"\"\n",
       "\n",
       "===============================================\n",
       "                женщины    мужчины     Общая   \n",
       "-----------------------------------------------\n",
       "Intercept      1.0725***  1.0793***  1.0440*** \n",
       "               (0.0802)   (0.0795)   (0.0614)  \n",
       "exper          0.0265***  0.0445***  0.0362*** \n",
       "               (0.0078)   (0.0081)   (0.0061)  \n",
       "I(exper ** 2)  -0.0006*** -0.0009*** -0.0008***\n",
       "               (0.0002)   (0.0002)   (0.0001)  \n",
       "married        0.0089     0.2890***  0.2083*** \n",
       "               (0.0595)   (0.0673)   (0.0484)  \n",
       "smsa           0.2216***  0.2925***  0.2720*** \n",
       "               (0.0619)   (0.0612)   (0.0475)  \n",
       "R-squared      0.0902     0.2857     0.1801    \n",
       "R-squared Adj. 0.0755     0.2751     0.1738    \n",
       "N              252.0000   274.0000   526.0000  \n",
       "F-stat         6.1213     26.8945    28.6147   \n",
       "===============================================\n",
       "Standard errors in parentheses.\n",
       "* p<.1, ** p<.05, ***p<.01\n",
       "\"\"\""
      ]
     },
     "execution_count": 64,
     "metadata": {},
     "output_type": "execute_result"
    }
   ],
   "source": [
    "wage_df = pd.read_csv('https://raw.githubusercontent.com/artamonoff/Econometrica/master/python-notebooks/data-csv/wage1.csv')\n",
    "specification = 'np.log(wage)~exper+I(exper**2)+married+smsa'\n",
    "# подгонка по полному датасету\n",
    "mod_overall = smf.ols(formula=specification, data=wage_df).fit()\n",
    "# подгонка только по М\n",
    "mod_female_only = smf.ols(formula=specification, data=wage_df [ wage_df['female']==1 ]).fit()\n",
    "# подгонка только по Ж\n",
    "mod_male_only = smf.ols(formula=specification, data=wage_df [ wage_df['female']==0 ]).fit()\n",
    "# Вывод трёх регрессий в одной таблице\n",
    "summary_col(results=[mod_female_only, mod_male_only, mod_overall], stars=True, model_names=['женщины', 'мужчины', 'Общая'],\n",
    "           info_dict={'N': lambda x: x.nobs, 'F-stat': lambda x: x.fvalue})"
   ]
  },
  {
   "cell_type": "code",
   "execution_count": 67,
   "id": "4f27ba4f",
   "metadata": {},
   "outputs": [
    {
     "name": "stdout",
     "output_type": "stream",
     "text": [
      "RSS (overall)= 121.61264025481277\n",
      "RSS (female_only)= 45.066187001339145\n",
      "RSS (male_only)= 55.777652725583586\n",
      "n= 526.0\n",
      "k= 4.0\n"
     ]
    }
   ],
   "source": [
    "# Ингредиенты тестовой статистики\n",
    "print('RSS (overall)=', mod_overall.ssr)\n",
    "print('RSS (female_only)=', mod_female_only.ssr)\n",
    "print('RSS (male_only)=', mod_male_only.ssr)\n",
    "print('n=', mod_overall.nobs)\n",
    "print('k=', mod_overall.df_model)"
   ]
  },
  {
   "cell_type": "code",
   "execution_count": 66,
   "id": "116a4f6f",
   "metadata": {},
   "outputs": [
    {
     "data": {
      "text/plain": [
       "(21.25405201033847, 2.2314838288754557)"
      ]
     },
     "execution_count": 66,
     "metadata": {},
     "output_type": "execute_result"
    }
   ],
   "source": [
    "F = (mod_overall.ssr-mod_female_only.ssr-mod_male_only.ssr)/(mod_female_only.ssr+mod_male_only.ssr)*(mod_overall.nobs-2*(mod_overall.df_model+1))/(mod_overall.df_model+1)\n",
    "F_cr = f.ppf(q=1-0.05, dfn=mod_overall.df_model+1, dfd=mod_overall.nobs-2*(mod_overall.df_model+1))\n",
    "F, F_cr"
   ]
  },
  {
   "cell_type": "markdown",
   "id": "b3eb1eb4",
   "metadata": {},
   "source": [
    "Значимы"
   ]
  }
 ],
 "metadata": {
  "kernelspec": {
   "display_name": "Python 3 (ipykernel)",
   "language": "python",
   "name": "python3"
  },
  "language_info": {
   "codemirror_mode": {
    "name": "ipython",
    "version": 3
   },
   "file_extension": ".py",
   "mimetype": "text/x-python",
   "name": "python",
   "nbconvert_exporter": "python",
   "pygments_lexer": "ipython3",
   "version": "3.9.13"
  }
 },
 "nbformat": 4,
 "nbformat_minor": 5
}

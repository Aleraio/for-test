{
 "cells": [
  {
   "cell_type": "code",
   "execution_count": 1,
   "id": "5678249e",
   "metadata": {},
   "outputs": [],
   "source": [
    "import pandas as pd\n",
    "import numpy as np\n",
    "import statsmodels.formula.api as smf\n",
    "import statsmodels.api as sm"
   ]
  },
  {
   "cell_type": "code",
   "execution_count": 3,
   "id": "affa93f8",
   "metadata": {},
   "outputs": [
    {
     "data": {
      "text/html": [
       "<div>\n",
       "<style scoped>\n",
       "    .dataframe tbody tr th:only-of-type {\n",
       "        vertical-align: middle;\n",
       "    }\n",
       "\n",
       "    .dataframe tbody tr th {\n",
       "        vertical-align: top;\n",
       "    }\n",
       "\n",
       "    .dataframe thead th {\n",
       "        text-align: right;\n",
       "    }\n",
       "</style>\n",
       "<table border=\"1\" class=\"dataframe\">\n",
       "  <thead>\n",
       "    <tr style=\"text-align: right;\">\n",
       "      <th></th>\n",
       "      <th>capital</th>\n",
       "      <th>labour</th>\n",
       "      <th>output</th>\n",
       "      <th>wage</th>\n",
       "    </tr>\n",
       "  </thead>\n",
       "  <tbody>\n",
       "    <tr>\n",
       "      <th>0</th>\n",
       "      <td>2.606563</td>\n",
       "      <td>184</td>\n",
       "      <td>9.250759</td>\n",
       "      <td>43.080307</td>\n",
       "    </tr>\n",
       "    <tr>\n",
       "      <th>1</th>\n",
       "      <td>1.323237</td>\n",
       "      <td>91</td>\n",
       "      <td>3.664310</td>\n",
       "      <td>27.780016</td>\n",
       "    </tr>\n",
       "    <tr>\n",
       "      <th>2</th>\n",
       "      <td>22.093692</td>\n",
       "      <td>426</td>\n",
       "      <td>28.781516</td>\n",
       "      <td>44.467748</td>\n",
       "    </tr>\n",
       "    <tr>\n",
       "      <th>3</th>\n",
       "      <td>10.737851</td>\n",
       "      <td>72</td>\n",
       "      <td>4.124642</td>\n",
       "      <td>39.734710</td>\n",
       "    </tr>\n",
       "    <tr>\n",
       "      <th>4</th>\n",
       "      <td>1.161365</td>\n",
       "      <td>46</td>\n",
       "      <td>2.890150</td>\n",
       "      <td>34.650709</td>\n",
       "    </tr>\n",
       "  </tbody>\n",
       "</table>\n",
       "</div>"
      ],
      "text/plain": [
       "     capital  labour     output       wage\n",
       "0   2.606563     184   9.250759  43.080307\n",
       "1   1.323237      91   3.664310  27.780016\n",
       "2  22.093692     426  28.781516  44.467748\n",
       "3  10.737851      72   4.124642  39.734710\n",
       "4   1.161365      46   2.890150  34.650709"
      ]
     },
     "execution_count": 3,
     "metadata": {},
     "output_type": "execute_result"
    }
   ],
   "source": [
    "df = pd.read_csv('Labour.csv')\n",
    "df.head()"
   ]
  },
  {
   "cell_type": "markdown",
   "id": "1eb2a373",
   "metadata": {},
   "source": [
    "# 1.1.2 Задача\n",
    "Для набора данных Labour рассмотрим регрессию log(output) на log(capital) и log(labour) Ниже приведены коэффициенты подогнанной модели\n",
    "1) Для каждого наблюдения вычислите предсказанное значение и остатки. Ответ округлите до 2-х десятичных знаков."
   ]
  },
  {
   "cell_type": "code",
   "execution_count": 11,
   "id": "c776fc86",
   "metadata": {},
   "outputs": [
    {
     "data": {
      "text/plain": [
       "Intercept         -1.71\n",
       "np.log(capital)    0.21\n",
       "np.log(labour)     0.71\n",
       "dtype: float64"
      ]
     },
     "execution_count": 11,
     "metadata": {},
     "output_type": "execute_result"
    }
   ],
   "source": [
    "sleep_eq = smf.ols(formula='np.log(output)~np.log(capital)+np.log(labour)', data=df).fit()\n",
    "sleep_eq.params.round(2)"
   ]
  },
  {
   "cell_type": "code",
   "execution_count": 17,
   "id": "34de864c",
   "metadata": {},
   "outputs": [
    {
     "data": {
      "text/plain": [
       "0    2.215280\n",
       "1    1.571250\n",
       "2    3.259028\n",
       "3    1.838427\n",
       "4    1.056484\n",
       "dtype: float64"
      ]
     },
     "execution_count": 17,
     "metadata": {},
     "output_type": "execute_result"
    }
   ],
   "source": [
    "# Предсказанное\n",
    "sleep_eq.fittedvalues.iloc[:5]"
   ]
  },
  {
   "cell_type": "code",
   "execution_count": 18,
   "id": "f3a65559",
   "metadata": {},
   "outputs": [
    {
     "data": {
      "text/plain": [
       "0    0.009426\n",
       "1   -0.272610\n",
       "2    0.100706\n",
       "3   -0.421448\n",
       "4    0.004824\n",
       "dtype: float64"
      ]
     },
     "execution_count": 18,
     "metadata": {},
     "output_type": "execute_result"
    }
   ],
   "source": [
    "# Остатки\n",
    "sleep_eq.resid.iloc[:5]"
   ]
  },
  {
   "cell_type": "code",
   "execution_count": 19,
   "id": "2a5b7e9f",
   "metadata": {},
   "outputs": [],
   "source": [
    "ind = np.array([1,2,3,4,5])-1"
   ]
  },
  {
   "cell_type": "code",
   "execution_count": 20,
   "id": "f34757e6",
   "metadata": {},
   "outputs": [
    {
     "data": {
      "text/plain": [
       "0    2.215280\n",
       "1    1.571250\n",
       "2    3.259028\n",
       "3    1.838427\n",
       "4    1.056484\n",
       "dtype: float64"
      ]
     },
     "execution_count": 20,
     "metadata": {},
     "output_type": "execute_result"
    }
   ],
   "source": [
    "# Предсказанные\n",
    "sleep_eq.fittedvalues[ind]"
   ]
  },
  {
   "cell_type": "code",
   "execution_count": 24,
   "id": "a4585eab",
   "metadata": {},
   "outputs": [
    {
     "data": {
      "text/html": [
       "<div>\n",
       "<style scoped>\n",
       "    .dataframe tbody tr th:only-of-type {\n",
       "        vertical-align: middle;\n",
       "    }\n",
       "\n",
       "    .dataframe tbody tr th {\n",
       "        vertical-align: top;\n",
       "    }\n",
       "\n",
       "    .dataframe thead th {\n",
       "        text-align: right;\n",
       "    }\n",
       "</style>\n",
       "<table border=\"1\" class=\"dataframe\">\n",
       "  <thead>\n",
       "    <tr style=\"text-align: right;\">\n",
       "      <th></th>\n",
       "      <th>age</th>\n",
       "      <th>black</th>\n",
       "      <th>case</th>\n",
       "      <th>clerical</th>\n",
       "      <th>construc</th>\n",
       "      <th>educ</th>\n",
       "      <th>earns74</th>\n",
       "      <th>gdhlth</th>\n",
       "      <th>inlf</th>\n",
       "      <th>leis1</th>\n",
       "      <th>...</th>\n",
       "      <th>spwrk75</th>\n",
       "      <th>totwrk</th>\n",
       "      <th>union</th>\n",
       "      <th>worknrm</th>\n",
       "      <th>workscnd</th>\n",
       "      <th>exper</th>\n",
       "      <th>yngkid</th>\n",
       "      <th>yrsmarr</th>\n",
       "      <th>hrwage</th>\n",
       "      <th>agesq</th>\n",
       "    </tr>\n",
       "  </thead>\n",
       "  <tbody>\n",
       "    <tr>\n",
       "      <th>0</th>\n",
       "      <td>32</td>\n",
       "      <td>0</td>\n",
       "      <td>1</td>\n",
       "      <td>0.0</td>\n",
       "      <td>0.0</td>\n",
       "      <td>12</td>\n",
       "      <td>0</td>\n",
       "      <td>0</td>\n",
       "      <td>1</td>\n",
       "      <td>3529</td>\n",
       "      <td>...</td>\n",
       "      <td>0</td>\n",
       "      <td>3438</td>\n",
       "      <td>0</td>\n",
       "      <td>3438</td>\n",
       "      <td>0</td>\n",
       "      <td>14</td>\n",
       "      <td>0</td>\n",
       "      <td>13</td>\n",
       "      <td>7.070004</td>\n",
       "      <td>1024</td>\n",
       "    </tr>\n",
       "    <tr>\n",
       "      <th>1</th>\n",
       "      <td>31</td>\n",
       "      <td>0</td>\n",
       "      <td>2</td>\n",
       "      <td>0.0</td>\n",
       "      <td>0.0</td>\n",
       "      <td>14</td>\n",
       "      <td>9500</td>\n",
       "      <td>1</td>\n",
       "      <td>1</td>\n",
       "      <td>2140</td>\n",
       "      <td>...</td>\n",
       "      <td>0</td>\n",
       "      <td>5020</td>\n",
       "      <td>0</td>\n",
       "      <td>5020</td>\n",
       "      <td>0</td>\n",
       "      <td>11</td>\n",
       "      <td>0</td>\n",
       "      <td>0</td>\n",
       "      <td>1.429999</td>\n",
       "      <td>961</td>\n",
       "    </tr>\n",
       "    <tr>\n",
       "      <th>2</th>\n",
       "      <td>44</td>\n",
       "      <td>0</td>\n",
       "      <td>3</td>\n",
       "      <td>0.0</td>\n",
       "      <td>0.0</td>\n",
       "      <td>17</td>\n",
       "      <td>42500</td>\n",
       "      <td>1</td>\n",
       "      <td>1</td>\n",
       "      <td>4595</td>\n",
       "      <td>...</td>\n",
       "      <td>1</td>\n",
       "      <td>2815</td>\n",
       "      <td>0</td>\n",
       "      <td>2815</td>\n",
       "      <td>0</td>\n",
       "      <td>21</td>\n",
       "      <td>0</td>\n",
       "      <td>0</td>\n",
       "      <td>20.529997</td>\n",
       "      <td>1936</td>\n",
       "    </tr>\n",
       "    <tr>\n",
       "      <th>3</th>\n",
       "      <td>30</td>\n",
       "      <td>0</td>\n",
       "      <td>4</td>\n",
       "      <td>0.0</td>\n",
       "      <td>0.0</td>\n",
       "      <td>12</td>\n",
       "      <td>42500</td>\n",
       "      <td>1</td>\n",
       "      <td>1</td>\n",
       "      <td>3211</td>\n",
       "      <td>...</td>\n",
       "      <td>1</td>\n",
       "      <td>3786</td>\n",
       "      <td>0</td>\n",
       "      <td>3786</td>\n",
       "      <td>0</td>\n",
       "      <td>12</td>\n",
       "      <td>0</td>\n",
       "      <td>12</td>\n",
       "      <td>9.619998</td>\n",
       "      <td>900</td>\n",
       "    </tr>\n",
       "    <tr>\n",
       "      <th>4</th>\n",
       "      <td>64</td>\n",
       "      <td>0</td>\n",
       "      <td>5</td>\n",
       "      <td>0.0</td>\n",
       "      <td>0.0</td>\n",
       "      <td>14</td>\n",
       "      <td>2500</td>\n",
       "      <td>1</td>\n",
       "      <td>1</td>\n",
       "      <td>4052</td>\n",
       "      <td>...</td>\n",
       "      <td>1</td>\n",
       "      <td>2580</td>\n",
       "      <td>0</td>\n",
       "      <td>2580</td>\n",
       "      <td>0</td>\n",
       "      <td>44</td>\n",
       "      <td>0</td>\n",
       "      <td>33</td>\n",
       "      <td>2.750000</td>\n",
       "      <td>4096</td>\n",
       "    </tr>\n",
       "  </tbody>\n",
       "</table>\n",
       "<p>5 rows × 34 columns</p>\n",
       "</div>"
      ],
      "text/plain": [
       "   age  black  case  clerical  construc  educ  earns74  gdhlth  inlf  leis1  \\\n",
       "0   32      0     1       0.0       0.0    12        0       0     1   3529   \n",
       "1   31      0     2       0.0       0.0    14     9500       1     1   2140   \n",
       "2   44      0     3       0.0       0.0    17    42500       1     1   4595   \n",
       "3   30      0     4       0.0       0.0    12    42500       1     1   3211   \n",
       "4   64      0     5       0.0       0.0    14     2500       1     1   4052   \n",
       "\n",
       "   ...  spwrk75  totwrk  union  worknrm  workscnd  exper  yngkid  yrsmarr  \\\n",
       "0  ...        0    3438      0     3438         0     14       0       13   \n",
       "1  ...        0    5020      0     5020         0     11       0        0   \n",
       "2  ...        1    2815      0     2815         0     21       0        0   \n",
       "3  ...        1    3786      0     3786         0     12       0       12   \n",
       "4  ...        1    2580      0     2580         0     44       0       33   \n",
       "\n",
       "      hrwage  agesq  \n",
       "0   7.070004   1024  \n",
       "1   1.429999    961  \n",
       "2  20.529997   1936  \n",
       "3   9.619998    900  \n",
       "4   2.750000   4096  \n",
       "\n",
       "[5 rows x 34 columns]"
      ]
     },
     "execution_count": 24,
     "metadata": {},
     "output_type": "execute_result"
    }
   ],
   "source": [
    "df = pd.read_csv('sleep75.csv')\n",
    "df.head()"
   ]
  },
  {
   "cell_type": "code",
   "execution_count": 26,
   "id": "3a17073a",
   "metadata": {},
   "outputs": [
    {
     "data": {
      "text/plain": [
       "(282, 34)"
      ]
     },
     "execution_count": 26,
     "metadata": {},
     "output_type": "execute_result"
    }
   ],
   "source": [
    "new_model = df[df['smsa'] == 1]\n",
    "new_model.shape"
   ]
  },
  {
   "cell_type": "code",
   "execution_count": 28,
   "id": "bc7c503e",
   "metadata": {},
   "outputs": [
    {
     "data": {
      "text/plain": [
       "Intercept    3460.43\n",
       "totwrk         -0.18\n",
       "age             2.28\n",
       "male           92.65\n",
       "south         168.85\n",
       "dtype: float64"
      ]
     },
     "execution_count": 28,
     "metadata": {},
     "output_type": "execute_result"
    }
   ],
   "source": [
    "sleep_eq = smf.ols(formula='sleep~totwrk+age+male+south', data=new_model).fit()\n",
    "sleep_eq.params.round(2)"
   ]
  },
  {
   "cell_type": "code",
   "execution_count": 31,
   "id": "c8e121f8",
   "metadata": {},
   "outputs": [
    {
     "data": {
      "text/plain": [
       "2      2670\n",
       "19     3090\n",
       "149    2985\n",
       "194    3660\n",
       "259    2618\n",
       "Name: sleep, dtype: int64"
      ]
     },
     "execution_count": 31,
     "metadata": {},
     "output_type": "execute_result"
    }
   ],
   "source": [
    "# Для наблюдений с номерами 1, 9, 56, 76, 100 найдите фактическое значение зависимой переменной, предсказанное значение и остатки.\n",
    "ind = np.array([1, 9, 56, 76, 100])-1\n",
    "# Фактические\n",
    "new_model['sleep'].iloc[ind]"
   ]
  },
  {
   "cell_type": "code",
   "execution_count": 33,
   "id": "9bc71dbd",
   "metadata": {},
   "outputs": [
    {
     "data": {
      "text/plain": [
       "2     -462.491381\n",
       "19    -280.083016\n",
       "149    149.639873\n",
       "194    411.460481\n",
       "259   -245.069846\n",
       "dtype: float64"
      ]
     },
     "execution_count": 33,
     "metadata": {},
     "output_type": "execute_result"
    }
   ],
   "source": [
    "# Остатки\n",
    "sleep_eq.resid.iloc[ind]"
   ]
  },
  {
   "cell_type": "code",
   "execution_count": 34,
   "id": "c98ee16b",
   "metadata": {},
   "outputs": [
    {
     "data": {
      "text/plain": [
       "2      3132.491381\n",
       "19     3370.083016\n",
       "149    2835.360127\n",
       "194    3248.539519\n",
       "259    2863.069846\n",
       "dtype: float64"
      ]
     },
     "execution_count": 34,
     "metadata": {},
     "output_type": "execute_result"
    }
   ],
   "source": [
    "# Предсказанные\n",
    "sleep_eq.fittedvalues.iloc[ind]"
   ]
  },
  {
   "cell_type": "markdown",
   "id": "fc003fc8",
   "metadata": {},
   "source": [
    "# 3.6 Labour equation (in log)\n",
    "Для датасета Labour рассмотрим регрессию log(output) на log(capital), log(labour), log(wage)\n",
    "\n",
    "Найтиде коэффициенты подогнанной модели. Ответ округлите до 2-х десятичных знаков.\n",
    "\n",
    "Для наблюдений с номерами 2, 11, 24, 101, 349, 501 найдите фактическое значение зависимой переменной, предсказанное значение и остатки."
   ]
  },
  {
   "cell_type": "code",
   "execution_count": 35,
   "id": "0dbcdd13",
   "metadata": {},
   "outputs": [
    {
     "data": {
      "text/html": [
       "<div>\n",
       "<style scoped>\n",
       "    .dataframe tbody tr th:only-of-type {\n",
       "        vertical-align: middle;\n",
       "    }\n",
       "\n",
       "    .dataframe tbody tr th {\n",
       "        vertical-align: top;\n",
       "    }\n",
       "\n",
       "    .dataframe thead th {\n",
       "        text-align: right;\n",
       "    }\n",
       "</style>\n",
       "<table border=\"1\" class=\"dataframe\">\n",
       "  <thead>\n",
       "    <tr style=\"text-align: right;\">\n",
       "      <th></th>\n",
       "      <th>capital</th>\n",
       "      <th>labour</th>\n",
       "      <th>output</th>\n",
       "      <th>wage</th>\n",
       "    </tr>\n",
       "  </thead>\n",
       "  <tbody>\n",
       "    <tr>\n",
       "      <th>0</th>\n",
       "      <td>2.606563</td>\n",
       "      <td>184</td>\n",
       "      <td>9.250759</td>\n",
       "      <td>43.080307</td>\n",
       "    </tr>\n",
       "    <tr>\n",
       "      <th>1</th>\n",
       "      <td>1.323237</td>\n",
       "      <td>91</td>\n",
       "      <td>3.664310</td>\n",
       "      <td>27.780016</td>\n",
       "    </tr>\n",
       "    <tr>\n",
       "      <th>2</th>\n",
       "      <td>22.093692</td>\n",
       "      <td>426</td>\n",
       "      <td>28.781516</td>\n",
       "      <td>44.467748</td>\n",
       "    </tr>\n",
       "    <tr>\n",
       "      <th>3</th>\n",
       "      <td>10.737851</td>\n",
       "      <td>72</td>\n",
       "      <td>4.124642</td>\n",
       "      <td>39.734710</td>\n",
       "    </tr>\n",
       "    <tr>\n",
       "      <th>4</th>\n",
       "      <td>1.161365</td>\n",
       "      <td>46</td>\n",
       "      <td>2.890150</td>\n",
       "      <td>34.650709</td>\n",
       "    </tr>\n",
       "  </tbody>\n",
       "</table>\n",
       "</div>"
      ],
      "text/plain": [
       "     capital  labour     output       wage\n",
       "0   2.606563     184   9.250759  43.080307\n",
       "1   1.323237      91   3.664310  27.780016\n",
       "2  22.093692     426  28.781516  44.467748\n",
       "3  10.737851      72   4.124642  39.734710\n",
       "4   1.161365      46   2.890150  34.650709"
      ]
     },
     "execution_count": 35,
     "metadata": {},
     "output_type": "execute_result"
    }
   ],
   "source": [
    "df = pd.read_csv('Labour.csv')\n",
    "df.head()"
   ]
  },
  {
   "cell_type": "code",
   "execution_count": 36,
   "id": "b79d249a",
   "metadata": {},
   "outputs": [
    {
     "data": {
      "text/plain": [
       "Intercept         -5.01\n",
       "np.log(capital)    0.15\n",
       "np.log(labour)     0.72\n",
       "np.log(wage)       0.92\n",
       "dtype: float64"
      ]
     },
     "execution_count": 36,
     "metadata": {},
     "output_type": "execute_result"
    }
   ],
   "source": [
    "sleep_eq = smf.ols(formula='np.log(output)~np.log(capital)+np.log(labour)+np.log(wage)', data=df).fit()\n",
    "sleep_eq.params.round(2)"
   ]
  },
  {
   "cell_type": "code",
   "execution_count": 41,
   "id": "8907b08e",
   "metadata": {},
   "outputs": [],
   "source": [
    "ind = np.array([2, 11, 24, 101, 349, 501])-1"
   ]
  },
  {
   "cell_type": "code",
   "execution_count": 46,
   "id": "7542a56e",
   "metadata": {},
   "outputs": [
    {
     "data": {
      "text/plain": [
       "1     -0.049\n",
       "10    -0.250\n",
       "23     0.637\n",
       "100   -0.226\n",
       "348    0.283\n",
       "500   -0.433\n",
       "dtype: float64"
      ]
     },
     "execution_count": 46,
     "metadata": {},
     "output_type": "execute_result"
    }
   ],
   "source": [
    "# Остатки\n",
    "sleep_eq.resid.iloc[ind].round(3)"
   ]
  },
  {
   "cell_type": "code",
   "execution_count": 54,
   "id": "750c3a18",
   "metadata": {},
   "outputs": [
    {
     "data": {
      "text/plain": [
       "1      3.664310\n",
       "10     3.245624\n",
       "23     2.666305\n",
       "100    2.180688\n",
       "348    4.307089\n",
       "500    3.659600\n",
       "Name: output, dtype: float64"
      ]
     },
     "execution_count": 54,
     "metadata": {},
     "output_type": "execute_result"
    }
   ],
   "source": [
    "# Фактические\n",
    "df['output'].iloc[ind]"
   ]
  },
  {
   "cell_type": "code",
   "execution_count": null,
   "id": "0ae4b205",
   "metadata": {},
   "outputs": [],
   "source": [
    "new_model = df_sleep[df_sleep['male'] == 0]\n",
    "new_model.shape"
   ]
  }
 ],
 "metadata": {
  "kernelspec": {
   "display_name": "Python 3 (ipykernel)",
   "language": "python",
   "name": "python3"
  },
  "language_info": {
   "codemirror_mode": {
    "name": "ipython",
    "version": 3
   },
   "file_extension": ".py",
   "mimetype": "text/x-python",
   "name": "python",
   "nbconvert_exporter": "python",
   "pygments_lexer": "ipython3",
   "version": "3.9.13"
  }
 },
 "nbformat": 4,
 "nbformat_minor": 5
}
